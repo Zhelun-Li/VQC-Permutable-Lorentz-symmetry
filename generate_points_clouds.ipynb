{
 "cells": [
  {
   "cell_type": "code",
   "execution_count": 1,
   "id": "d44eaa6c",
   "metadata": {},
   "outputs": [],
   "source": [
    "import numpy as np\n",
    "import matplotlib.pyplot as plt\n",
    "import random\n",
    "from scipy.ndimage import rotate\n",
    "from scipy.spatial.transform import Rotation as R\n",
    "from sklearn.utils import shuffle\n",
    "import pandas as pd\n",
    "import pickle as pickle"
   ]
  },
  {
   "cell_type": "code",
   "execution_count": 2,
   "id": "c61f9542",
   "metadata": {},
   "outputs": [],
   "source": [
    "smear=0.1\n",
    "maxTranslation=10\n",
    "Shuffle=False\n",
    "nImages=1000\n",
    "dataDir=\"/Users/lizhelun/Desktop/QC/VQC-Permutable-Lorentz-symmetry/Images\"\n",
    "name=\"_smear{}_MaxTran{}_shuffle{}\".format(smear,maxTranslation,int(Shuffle))"
   ]
  },
  {
   "cell_type": "code",
   "execution_count": 3,
   "id": "bad32914",
   "metadata": {},
   "outputs": [],
   "source": [
    "one=np.array([[0,0],[0,1],[0,2],[0,3]])\n",
    "seven=np.array([[0,0],[0,1],[0,2],[-1,2]])\n",
    "zero=np.array([[0,0],[0,2],[2,0],[2,2]])\n"
   ]
  },
  {
   "cell_type": "code",
   "execution_count": 4,
   "id": "5e9eaeff",
   "metadata": {
    "scrolled": true
   },
   "outputs": [
    {
     "data": {
      "image/png": "[encoded data removed]",
      "text/plain": [
       "<Figure size 432x288 with 1 Axes>"
      ]
     },
     "metadata": {
      "needs_background": "light"
     },
     "output_type": "display_data"
    },
    {
     "data": {
      "image/png": "[encoded data removed]",
      "text/plain": [
       "<Figure size 432x288 with 1 Axes>"
      ]
     },
     "metadata": {
      "needs_background": "light"
     },
     "output_type": "display_data"
    },
    {
     "data": {
      "image/png": "[encoded data removed]",
      "text/plain": [
       "<Figure size 432x288 with 1 Axes>"
      ]
     },
     "metadata": {
      "needs_background": "light"
     },
     "output_type": "display_data"
    }
   ],
   "source": [
    "\n",
    "plt.figure(1)\n",
    "plt.xlim(-5,5)\n",
    "plt.ylim(-2,5)\n",
    "for i in range(seven.shape[0]):\n",
    "    plt.scatter(one[i][0],one[i][1],color='black',s=50)\n",
    "    \n",
    "\n",
    "plt.figure(2)\n",
    "plt.xlim(-5,5)\n",
    "plt.ylim(-2,5)\n",
    "for i in range(seven.shape[0]):\n",
    "    plt.scatter(seven[i][0],seven[i][1],color='black',s=50)\n",
    "    \n",
    "\n",
    "plt.figure(3)\n",
    "plt.xlim(-5,5)\n",
    "plt.ylim(-2,5)\n",
    "for i in range(seven.shape[0]):\n",
    "    plt.scatter(zero[i][0],zero[i][1],color='black',s=50)"
   ]
  },
  {
   "cell_type": "code",
   "execution_count": null,
   "id": "b81b3814",
   "metadata": {},
   "outputs": [],
   "source": []
  },
  {
   "cell_type": "code",
   "execution_count": 5,
   "id": "22ded89e",
   "metadata": {},
   "outputs": [],
   "source": [
    "def generate(data,smear,move,Shuffle):\n",
    "    \n",
    "    if Shuffle:\n",
    "        data=shuffle(data)\n",
    "        \n",
    "        \n",
    "    center_x=data[:,0].mean()\n",
    "    center_y=data[:,1].mean()\n",
    "    newData=data-[center_x,center_y]\n",
    "\n",
    "    #smear\n",
    "    newData[:,:]=newData[:,:]+np.random.uniform(-smear,smear,newData.shape)\n",
    "\n",
    "    \n",
    "    \n",
    "    #rotate\n",
    "    theta=np.random.rand(1)*2*np.pi\n",
    "    cos=np.cos(theta)\n",
    "    sin=np.sin(theta)\n",
    "    newx=newData[:,0]*cos-newData[:,1]*sin\n",
    "    newy=newData[:,0]*sin+newData[:,1]*cos\n",
    "    newData[:,0]=newx\n",
    "    newData[:,1]=newy\n",
    "\n",
    "    #enlarge:\n",
    "    scale=np.random.uniform(0.5,5)\n",
    "    newData[:,0]=newData[:,0]*scale\n",
    "    newData[:,1]=newData[:,1]*scale\n",
    "    \n",
    "    #move\n",
    "    dx=np.random.uniform(-move,move)\n",
    "    dy=np.random.uniform(-move,move)\n",
    "    newData=newData+[dx,dy]\n",
    "    \n",
    "    return newData\n",
    "    \n",
    "    "
   ]
  },
  {
   "cell_type": "code",
   "execution_count": 6,
   "id": "a562b09d",
   "metadata": {},
   "outputs": [],
   "source": [
    "data=[]\n",
    "label=[]\n",
    "\n",
    "output_dict={\"1\":[],\"0\":[],\"7\":[]}\n",
    "\n",
    "for i in range(nImages):\n",
    "    tmpZero=generate(zero,smear,maxTranslation,Shuffle)\n",
    "    data.append(tmpZero)\n",
    "    #label.append(np.array([1,0,0]))\n",
    "    label.append(0)\n",
    "    output_dict[\"0\"].append(tmpZero)\n",
    "    \n",
    "    tmpOne=generate(one,smear,maxTranslation,Shuffle)\n",
    "    data.append(tmpOne)\n",
    "    #label.append(np.array([0,1,0]))\n",
    "    label.append(1)\n",
    "    output_dict[\"1\"].append(tmpOne)\n",
    "    \n",
    "#     tmpSeven=generate(seven,smear,maxTranslation,Shuffle)\n",
    "#     data.append(tmpSeven)\n",
    "#     label.append(np.array([0,0,1]))\n",
    "#     output_dict[\"7\"].append(tmpSeven)\n",
    "\n",
    "    \n",
    "data=np.array(data)\n",
    "label=np.array(label)\n",
    "\n",
    "output_dict[\"0\"]=np.array(output_dict[\"0\"])\n",
    "output_dict[\"1\"]=np.array(output_dict[\"1\"])\n",
    "#output_dict[\"7\"]=np.array(output_dict[\"7\"])\n",
    "\n",
    "data,label=shuffle(data,label,random_state=1000)"
   ]
  },
  {
   "cell_type": "code",
   "execution_count": 7,
   "id": "ec32babb",
   "metadata": {},
   "outputs": [
    {
     "data": {
      "text/plain": [
       "(1000, 4, 2)"
      ]
     },
     "execution_count": 7,
     "metadata": {},
     "output_type": "execute_result"
    }
   ],
   "source": [
    "output_dict[\"0\"].shape"
   ]
  },
  {
   "cell_type": "code",
   "execution_count": 8,
   "id": "52402f96",
   "metadata": {},
   "outputs": [
    {
     "name": "stdout",
     "output_type": "stream",
     "text": [
      "1\n"
     ]
    },
    {
     "data": {
      "image/png": "[encoded data removed]",
      "text/plain": [
       "<Figure size 432x288 with 1 Axes>"
      ]
     },
     "metadata": {
      "needs_background": "light"
     },
     "output_type": "display_data"
    }
   ],
   "source": [
    "\n",
    "plt.figure(1)\n",
    "plt.xlim(-20,20)\n",
    "plt.ylim(-20,20)\n",
    "i=int(np.random.rand(1)*nImages*3)\n",
    "for j in range(data[i].shape[0]):\n",
    "    plt.scatter(data[i][j][0],data[i][j][1],color='black',s=30)\n",
    "print(label[i])"
   ]
  },
  {
   "cell_type": "code",
   "execution_count": 9,
   "id": "c51a791c",
   "metadata": {},
   "outputs": [],
   "source": [
    "with open(dataDir+\"/images\"+name+\".pk\", \"wb\") as fp:   #Pickling\n",
    "    pickle.dump(data, fp)"
   ]
  },
  {
   "cell_type": "code",
   "execution_count": 10,
   "id": "beea9329",
   "metadata": {},
   "outputs": [],
   "source": [
    "with open(dataDir+\"/label\"+name+\".pk\", \"wb\") as fp:   #Pickling\n",
    "    pickle.dump(label, fp)"
   ]
  },
  {
   "cell_type": "code",
   "execution_count": 11,
   "id": "81a82978",
   "metadata": {},
   "outputs": [],
   "source": [
    "with open(dataDir+\"/outputDict\"+name+\".pk\", \"wb\") as fp:   #Pickling\n",
    "    pickle.dump(output_dict, fp)"
   ]
  },
  {
   "cell_type": "code",
   "execution_count": null,
   "id": "e48b4b7f",
   "metadata": {},
   "outputs": [],
   "source": []
  },
  {
   "cell_type": "code",
   "execution_count": null,
   "id": "228b37fb",
   "metadata": {},
   "outputs": [],
   "source": []
  }
 ],
 "metadata": {
  "kernelspec": {
   "display_name": "qc",
   "language": "python",
   "name": "qc"
  },
  "language_info": {
   "codemirror_mode": {
    "name": "ipython",
    "version": 3
   },
   "file_extension": ".py",
   "mimetype": "text/x-python",
   "name": "python",
   "nbconvert_exporter": "python",
   "pygments_lexer": "ipython3",
   "version": "3.10.4"
  }
 },
 "nbformat": 4,
 "nbformat_minor": 5
}
