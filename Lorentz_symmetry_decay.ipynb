{
 "cells": [
  {
   "cell_type": "code",
   "execution_count": 1,
   "id": "51a78568",
   "metadata": {},
   "outputs": [],
   "source": [
    "import numpy as np\n",
    "from qiskit import QuantumCircuit\n",
    "from qiskit.circuit import Parameter\n",
    "import numpy as np\n",
    "from qiskit.quantum_info.operators import Operator, Pauli\n",
    "from qiskit.extensions import RXGate, RZGate\n",
    "from qiskit.circuit import QuantumRegister,ClassicalRegister\n",
    "from qiskit import  execute, BasicAer\n",
    "import qiskit.quantum_info as qi\n",
    "import scipy.optimize \n",
    "import random\n",
    "import matplotlib.pyplot as plt\n",
    "import pickle\n",
    "import os \n",
    "import h5py \n",
    "import pandas as pd\n",
    "import uproot\n",
    "from sklearn.model_selection import train_test_split\n",
    "from sklearn.utils import shuffle\n",
    "import time\n",
    "\n",
    "\n",
    "from qiskit.primitives import Sampler\n",
    "from qiskit.circuit.library import ZZFeatureMap\n",
    "from qiskit_algorithms.optimizers import COBYLA\n",
    "from IPython.display import clear_output\n",
    "from qiskit import  execute, BasicAer\n",
    "from qiskit_machine_learning.circuit.library import RawFeatureVector\n",
    "\n",
    "from qiskit_machine_learning.algorithms.classifiers import VQC\n",
    "from qiskit.circuit.library import RealAmplitudes,EfficientSU2\n",
    "from sklearn.utils import shuffle\n",
    "import pandas as pd"
   ]
  },
  {
   "cell_type": "code",
   "execution_count": 2,
   "id": "3e42ba93",
   "metadata": {},
   "outputs": [],
   "source": [
    "def callback_graph(weights, obj_func_eval):\n",
    "    print(len(objective_func_vals))\n",
    "    clear_output(wait=True)\n",
    "    objective_func_vals.append(obj_func_eval)\n",
    "    plt.title(\"Objective function value against iteration\")\n",
    "    plt.xlabel(\"Iteration\")\n",
    "    plt.ylabel(\"Objective function value\")\n",
    "    plt.plot(range(len(objective_func_vals)), objective_func_vals)\n",
    "    plt.show()\n",
    "    \n",
    "    \n",
    "def produceDataset(inputFileName,path,treeName):\n",
    "    \n",
    "    print(\"start preparing\",inputFileName)\n",
    "    file = uproot.open(path+inputFileName+\".root\")\n",
    "    tree=file[treeName]\n",
    "    VariableList=tree.keys()\n",
    "    \n",
    "\n",
    "    df = tree.arrays(filter_name=VariableList[0],library=\"pd\") \n",
    "    for i in range(1,len(VariableList)):\n",
    "        df=df.join(tree.arrays(filter_name=VariableList[i],library=\"pd\"))\n",
    "\n",
    "\n",
    "\n",
    "    return df\n",
    "\n",
    "def getFourVector(pt,eta,phi):\n",
    "   \n",
    "    m=1 # precision issues. not sure why but m=1 makes that no negative invariant mass square.\n",
    "    px=pt*np.cos(phi)\n",
    "    py=pt*np.sin(phi)\n",
    "    pz=pt*np.sinh(eta)\n",
    "    E=np.sqrt(px**2+py**2+pz**2+m**2)\n",
    "    return np.array([E,px,py,pz], dtype=np.float64)\n",
    "\n",
    "def getInvM(v):\n",
    "    m2=v[0]**2-v[1]**2-v[2]**2-v[3]**2\n",
    "    \n",
    "    return np.sqrt(m2)\n",
    "\n",
    "def getMass(df):\n",
    "    v1=getFourVector(df['f_lept1_pt'],df['f_lept1_eta'],df['f_lept1_phi'])\n",
    "    v2=getFourVector(df['f_lept2_pt'],df['f_lept2_eta'],df['f_lept2_phi'])\n",
    "    v3=getFourVector(df['f_lept3_pt'],df['f_lept3_eta'],df['f_lept3_phi'])\n",
    "    v4=getFourVector(df['f_lept4_pt'],df['f_lept4_eta'],df['f_lept4_phi'])\n",
    "    v=v1+v2+v3+v4\n",
    "    m_reco=getInvM(v)\n",
    "    return m_reco\n",
    "\n",
    "def getThreeVectors_df(df):\n",
    "    v1=getFourVector(df['f_lept1_pt'],df['f_lept1_eta'],df['f_lept1_phi'])\n",
    "    v2=getFourVector(df['f_lept2_pt'],df['f_lept2_eta'],df['f_lept2_phi'])\n",
    "    v3=getFourVector(df['f_lept3_pt'],df['f_lept3_eta'],df['f_lept3_phi'])\n",
    "    v4=getFourVector(df['f_lept4_pt'],df['f_lept4_eta'],df['f_lept4_phi'])\n",
    "    \n",
    "\n",
    "    output=np.concatenate([v1[1:],v2[1:],v3[1:],v4[1:]])\n",
    "    return  np.transpose(output)\n",
    "\n",
    "def getDot_df(df):\n",
    "    v1=getFourVector(df['f_lept1_pt'],df['f_lept1_eta'],df['f_lept1_phi'])\n",
    "    v2=getFourVector(df['f_lept2_pt'],df['f_lept2_eta'],df['f_lept2_phi'])\n",
    "    v3=getFourVector(df['f_lept3_pt'],df['f_lept3_eta'],df['f_lept3_phi'])\n",
    "    v4=getFourVector(df['f_lept4_pt'],df['f_lept4_eta'],df['f_lept4_phi'])\n",
    "    \n",
    "    dot=[]\n",
    "\n",
    "    dot.append(getInvM(v1+v1))\n",
    "    dot.append(getInvM(v2+v2))\n",
    "    dot.append(getInvM(v3+v3))\n",
    "    dot.append(getInvM(v4+v4))\n",
    "    \n",
    "    dot.append(getInvM(v1+v2))\n",
    "    dot.append(getInvM(v1+v3))\n",
    "    dot.append(getInvM(v1+v4))\n",
    "    dot.append(getInvM(v2+v3))\n",
    "    dot.append(getInvM(v2+v4))\n",
    "    dot.append(getInvM(v3+v4))\n",
    "    dot=np.array(dot)\n",
    "    \n",
    "\n",
    "    return np.transpose(dot)\n",
    "    "
   ]
  },
  {
   "cell_type": "code",
   "execution_count": null,
   "id": "52c3396b",
   "metadata": {},
   "outputs": [],
   "source": []
  },
  {
   "cell_type": "code",
   "execution_count": 3,
   "id": "f69382fe",
   "metadata": {},
   "outputs": [
    {
     "name": "stdout",
     "output_type": "stream",
     "text": [
      "nShots =  4096\n"
     ]
    }
   ],
   "source": [
    "\n",
    "nShots=2**12\n",
    "nMaxIter=300\n",
    "method=\"COBYLA\"\n",
    "maxDatasetEvents=5000\n",
    "\n",
    "Dir=\"/Users/lizhelun/Desktop/QC/Datasets/\"\n",
    "\n",
    "h4l_VV=\"ntuple_4mu_VV\"\n",
    "h4l_bkg=\"ntuple_4mu_bkg\"\n",
    "\n",
    "print(\"nShots = \",nShots)"
   ]
  },
  {
   "cell_type": "code",
   "execution_count": 4,
   "id": "e8b1405c",
   "metadata": {},
   "outputs": [
    {
     "name": "stdout",
     "output_type": "stream",
     "text": [
      "start preparing ntuple_4mu_VV\n"
     ]
    }
   ],
   "source": [
    "h4l=produceDataset(h4l_VV,Dir,'HZZ4LeptonsAnalysisReduced')"
   ]
  },
  {
   "cell_type": "code",
   "execution_count": 5,
   "id": "2bab707c",
   "metadata": {},
   "outputs": [
    {
     "name": "stdout",
     "output_type": "stream",
     "text": [
      "start preparing ntuple_4mu_bkg\n"
     ]
    }
   ],
   "source": [
    "bkg=produceDataset(h4l_bkg,Dir,'HZZ4LeptonsAnalysisReduced')"
   ]
  },
  {
   "cell_type": "code",
   "execution_count": 6,
   "id": "fbf1a62d",
   "metadata": {},
   "outputs": [],
   "source": [
    "m_reco_signal=getMass(h4l)\n",
    "m_reco_bkg=getMass(bkg)"
   ]
  },
  {
   "cell_type": "code",
   "execution_count": null,
   "id": "623d9a7c",
   "metadata": {},
   "outputs": [],
   "source": []
  },
  {
   "cell_type": "code",
   "execution_count": 7,
   "id": "a4ad29e4",
   "metadata": {},
   "outputs": [
    {
     "data": {
      "text/plain": [
       "<matplotlib.legend.Legend at 0x169cd08e0>"
      ]
     },
     "execution_count": 7,
     "metadata": {},
     "output_type": "execute_result"
    },
    {
     "data": {
      "image/png": "[encoded data removed]",
      "text/plain": [
       "<Figure size 432x288 with 1 Axes>"
      ]
     },
     "metadata": {
      "needs_background": "light"
     },
     "output_type": "display_data"
    }
   ],
   "source": [
    "#h4l['f_mass4l'].hist(bins=np.arange(100,150,1),label='truth');\n",
    "plt.hist(m_reco_signal,bins=np.arange(0,400,5),histtype='step',label='Reco signal');\n",
    "plt.hist(m_reco_bkg,bins=np.arange(0,400,5),histtype='step',label='Reco bkg');\n",
    "plt.legend()"
   ]
  },
  {
   "cell_type": "code",
   "execution_count": 8,
   "id": "9bc1a176",
   "metadata": {},
   "outputs": [],
   "source": [
    "sig_3vec=getThreeVectors_df(h4l)\n",
    "bkg_3vec=getThreeVectors_df(bkg)"
   ]
  },
  {
   "cell_type": "code",
   "execution_count": 9,
   "id": "d65b286f",
   "metadata": {},
   "outputs": [],
   "source": [
    "sig_dot=getDot_df(h4l)\n",
    "bkg_dot=getDot_df(bkg)"
   ]
  },
  {
   "cell_type": "code",
   "execution_count": 10,
   "id": "2dbc79c5",
   "metadata": {},
   "outputs": [],
   "source": [
    "def split(X,y):\n",
    "    train_ratio=0.6\n",
    "    X_train, X_valTest, y_train, y_valTest = train_test_split(X.copy(), y.copy(), train_size=train_ratio, random_state=100)\n",
    "    X_val, X_test, y_val, y_test = train_test_split(X_valTest, y_valTest, test_size=0.5, random_state=200)\n",
    "    #Normalizing everythings:\n",
    "    X_train=X_train/X_train.max()\n",
    "    X_val=X_val/X_val.max()\n",
    "    X_test=X_test/X_test.max()\n",
    "    \n",
    "    return X_train,y_train,X_val,y_val,X_test,y_test"
   ]
  },
  {
   "cell_type": "code",
   "execution_count": 11,
   "id": "9a6f86f2",
   "metadata": {},
   "outputs": [],
   "source": [
    "X_3=np.concatenate([sig_3vec[0:maxDatasetEvents],bkg_3vec[0:maxDatasetEvents]])\n",
    "y_3=np.concatenate([np.ones(sig_3vec[0:maxDatasetEvents].shape[0]),-1*np.ones(bkg_3vec[0:maxDatasetEvents].shape[0])])\n",
    "X_3,y_3=shuffle(X_3,y_3,random_state=1000)\n",
    "\n",
    "X_train_3,y_train_3,X_val_3,y_val_3,X_test_3,y_test_3=split(X_3,y_3)"
   ]
  },
  {
   "cell_type": "code",
   "execution_count": 12,
   "id": "983a76d9",
   "metadata": {},
   "outputs": [],
   "source": [
    "X_dot=np.concatenate([sig_dot[0:maxDatasetEvents],bkg_dot[0:maxDatasetEvents]])\n",
    "y_dot=np.concatenate([np.ones(sig_dot[0:maxDatasetEvents].shape[0]),-1*np.ones(bkg_dot[0:maxDatasetEvents].shape[0])])\n",
    "X_dot,y_dot=shuffle(X_dot,y_dot,random_state=1000)\n",
    "\n",
    "X_train_dot,y_train_dot,X_val_dot,y_val_dot,X_test_dot,y_test_dot=split(X_dot,y_dot)"
   ]
  },
  {
   "cell_type": "code",
   "execution_count": 13,
   "id": "09fc508a",
   "metadata": {},
   "outputs": [],
   "source": [
    "from qiskit.circuit.library import ZZFeatureMap,ZFeatureMap\n",
    "from qiskit.circuit import ParameterVector\n",
    "\n",
    "from qiskit.quantum_info import SparsePauliOp\n",
    "\n",
    "from qiskit_machine_learning.neural_networks import EstimatorQNN\n",
    "\n",
    "from qiskit_machine_learning.algorithms.classifiers import NeuralNetworkClassifier, VQC\n",
    "from qiskit_machine_learning.algorithms.regressors import NeuralNetworkRegressor, VQR\n",
    "\n",
    "\n",
    "\n",
    "maxEvents=500\n",
    "MaxIter=300"
   ]
  },
  {
   "cell_type": "markdown",
   "id": "f4f2b830",
   "metadata": {},
   "source": [
    "No symmetry"
   ]
  },
  {
   "cell_type": "code",
   "execution_count": 14,
   "id": "03892dbe",
   "metadata": {},
   "outputs": [
    {
     "name": "stdout",
     "output_type": "stream",
     "text": [
      "12\n"
     ]
    }
   ],
   "source": [
    "nLayer_realAmplitude=2\n",
    "num_qubits=X_3.shape[1]\n",
    "n_inputParams=num_qubits\n",
    "n_params=nLayer_realAmplitude*num_qubits\n",
    "N_particles=4\n",
    "print(num_qubits)\n"
   ]
  },
  {
   "cell_type": "code",
   "execution_count": 15,
   "id": "338edb6b",
   "metadata": {},
   "outputs": [],
   "source": [
    "qr = QuantumRegister(num_qubits)\n",
    "qc = QuantumCircuit(qr)\n",
    "feature_map = ZFeatureMap(feature_dimension=num_qubits,reps=1,parameter_prefix=\"inputs\")\n",
    "ansatz=RealAmplitudes(num_qubits, reps=nLayer_realAmplitude)\n",
    "\n",
    "\n",
    "qc.compose(feature_map, inplace=True) \n",
    "qc.compose(ansatz,inplace=True)    \n"
   ]
  },
  {
   "cell_type": "code",
   "execution_count": 16,
   "id": "d722cd86",
   "metadata": {},
   "outputs": [],
   "source": [
    "observable1 = SparsePauliOp.from_list([(\"Z\" * num_qubits, 1)])\n",
    "estimator_qnn = EstimatorQNN(\n",
    "    circuit=qc, observables=observable1, input_params=feature_map.parameters, weight_params=ansatz.parameters\n",
    ")\n",
    "\n",
    "estimator_classifier_baseline = NeuralNetworkClassifier(\n",
    "    estimator_qnn, optimizer=COBYLA(maxiter=MaxIter), callback=callback_graph\n",
    ")\n",
    "\n"
   ]
  },
  {
   "cell_type": "code",
   "execution_count": 17,
   "id": "29221849",
   "metadata": {
    "scrolled": true
   },
   "outputs": [
    {
     "data": {
      "image/png": "[encoded data removed]",
      "text/plain": [
       "<Figure size 864x432 with 1 Axes>"
      ]
     },
     "metadata": {
      "needs_background": "light"
     },
     "output_type": "display_data"
    },
    {
     "data": {
      "text/plain": [
       "<qiskit_machine_learning.algorithms.classifiers.neural_network_classifier.NeuralNetworkClassifier at 0x16a2a2500>"
      ]
     },
     "execution_count": 17,
     "metadata": {},
     "output_type": "execute_result"
    }
   ],
   "source": [
    "\n",
    "\n",
    "\n",
    "objective_func_vals = []\n",
    "plt.rcParams[\"figure.figsize\"] = (12, 6)\n",
    "\n",
    "# fit classifier to data\n",
    "estimator_classifier_baseline.fit(X_train_3[0:maxEvents],y_train_3[0:maxEvents])\n",
    "\n",
    "# return to default figsize\n",
    "# plt.rcParams[\"figure.figxsize\"] = (6, 4)\n",
    "\n"
   ]
  },
  {
   "cell_type": "code",
   "execution_count": 18,
   "id": "6bf062e0",
   "metadata": {},
   "outputs": [
    {
     "name": "stdout",
     "output_type": "stream",
     "text": [
      "training score =  0.552\n",
      "test score =  0.558\n"
     ]
    }
   ],
   "source": [
    "# score classifier\n",
    "print(\"training score = \",estimator_classifier_baseline.score(X_train_3[0:maxEvents], y_train_3[0:maxEvents]))\n",
    "print(\"test score = \",estimator_classifier_baseline.score(X_test_3[0:2*maxEvents], y_test_3[0:2*maxEvents]))\n"
   ]
  },
  {
   "cell_type": "markdown",
   "id": "95f5c6d2",
   "metadata": {},
   "source": [
    "Rotation only"
   ]
  },
  {
   "cell_type": "code",
   "execution_count": 19,
   "id": "8813ffc2",
   "metadata": {},
   "outputs": [],
   "source": [
    "\n",
    "num_layers=2\n",
    "N_particles=4\n",
    "num_qubits=int((N_particles+1)*N_particles/2)\n",
    "n_params=num_layers*num_qubits\n",
    "zeroState = '0'\n",
    "for i in range(num_qubits-1):\n",
    "    zeroState+='0'\n",
    "def countZero(x):\n",
    "    return f\"{bin(x)}\".count(\"0\")%(num_qubits+1)"
   ]
  },
  {
   "cell_type": "code",
   "execution_count": 20,
   "id": "1e85fe40",
   "metadata": {},
   "outputs": [],
   "source": [
    "qr_rot = QuantumRegister(num_qubits)\n",
    "qc_rot = QuantumCircuit(qr_rot)\n",
    "feature_map_rot = ZFeatureMap(feature_dimension=num_qubits,reps=1,parameter_prefix=\"inputs\")\n",
    "ansatz_rot=RealAmplitudes(num_qubits, reps=nLayer_realAmplitude)\n",
    "\n",
    "\n",
    "inputParams_index=0\n",
    "params_index=0\n",
    "\n",
    "\n",
    "qc_rot.compose(feature_map_rot, inplace=True) \n",
    "qc_rot.compose(ansatz_rot,inplace=True)    \n"
   ]
  },
  {
   "cell_type": "code",
   "execution_count": 21,
   "id": "a3f2fc88",
   "metadata": {},
   "outputs": [],
   "source": [
    "observable1_rot = SparsePauliOp.from_list([(\"Z\" * num_qubits, 1)])\n",
    "estimator_qnn_rot = EstimatorQNN(\n",
    "    circuit=qc_rot, observables=observable1_rot, input_params=feature_map_rot.parameters, weight_params=ansatz_rot.parameters\n",
    ")\n",
    "estimator_classifier_rot = NeuralNetworkClassifier(\n",
    "    estimator_qnn_rot, optimizer=COBYLA(maxiter=MaxIter), callback=callback_graph\n",
    ")\n",
    "\n"
   ]
  },
  {
   "cell_type": "code",
   "execution_count": 22,
   "id": "b7992f15",
   "metadata": {},
   "outputs": [
    {
     "data": {
      "image/png": "[encoded data removed]",
      "text/plain": [
       "<Figure size 864x432 with 1 Axes>"
      ]
     },
     "metadata": {
      "needs_background": "light"
     },
     "output_type": "display_data"
    },
    {
     "name": "stdout",
     "output_type": "stream",
     "text": [
      "training score =  0.588\n",
      "test score =  0.547\n"
     ]
    }
   ],
   "source": [
    "\n",
    "\n",
    "\n",
    "objective_func_vals = []\n",
    "plt.rcParams[\"figure.figsize\"] = (12, 6)\n",
    "\n",
    "# fit classifier to data\n",
    "estimator_classifier_rot.fit(X_train_dot[0:maxEvents], y_train_dot[0:maxEvents])\n",
    "\n",
    "# return to default figsize\n",
    "# plt.rcParams[\"figure.figxsize\"] = (6, 4)\n",
    "# score classifier\n",
    "print(\"training score = \",estimator_classifier_rot.score(X_train_dot[0:maxEvents], y_train_dot[0:maxEvents]))\n",
    "print(\"test score = \",estimator_classifier_rot.score(X_test_dot[0:2*maxEvents], y_test_dot[0:2*maxEvents]))"
   ]
  },
  {
   "cell_type": "code",
   "execution_count": null,
   "id": "2e74f970",
   "metadata": {},
   "outputs": [],
   "source": []
  },
  {
   "cell_type": "code",
   "execution_count": null,
   "id": "129a8140",
   "metadata": {},
   "outputs": [],
   "source": []
  },
  {
   "cell_type": "code",
   "execution_count": null,
   "id": "3f01317a",
   "metadata": {},
   "outputs": [],
   "source": []
  },
  {
   "cell_type": "markdown",
   "id": "41636973",
   "metadata": {},
   "source": [
    "Rotation + Permutation"
   ]
  },
  {
   "cell_type": "code",
   "execution_count": 23,
   "id": "7fd33aa6",
   "metadata": {},
   "outputs": [],
   "source": [
    "\n",
    "num_layers=2\n",
    "# n_inputParams=num_qubits\n",
    "n_params=num_layers*4\n",
    "N_particles=4\n",
    "num_qubits=int((N_particles+1)*N_particles/2)"
   ]
  },
  {
   "cell_type": "code",
   "execution_count": 24,
   "id": "094bcbd9",
   "metadata": {},
   "outputs": [
    {
     "name": "stdout",
     "output_type": "stream",
     "text": [
      "weight parameters: ['weight[0]', 'weight[1]', 'weight[2]', 'weight[3]', 'weight[4]', 'weight[5]', 'weight[6]', 'weight[7]']\n"
     ]
    }
   ],
   "source": [
    "\n",
    "qr = QuantumRegister(num_qubits)\n",
    "qc = QuantumCircuit(qr)\n",
    "feature_map = ZFeatureMap(feature_dimension=num_qubits,reps=1,parameter_prefix=\"inputs\")\n",
    "\n",
    "\n",
    "weights = ParameterVector(\"weight\", n_params)\n",
    "print(f\"weight parameters: {[str(item) for item in weights.params]}\")\n",
    "\n",
    "inputParams_index=0\n",
    "params_index=0\n",
    "\n",
    "\n",
    "qc.compose(feature_map, inplace=True) \n",
    "   \n",
    "for layer in range(num_layers):\n",
    "    \n",
    "        for i in range(N_particles):\n",
    "            qc.ry(weights[params_index],i)\n",
    "            \n",
    "        params_index += 1 \n",
    "        \n",
    "        for i in range(N_particles):\n",
    "            for k in np.arange(i,N_particles,1):\n",
    "                if i!=k:\n",
    "                    qc.rzz(weights[params_index],i,k)\n",
    "            \n",
    "            \n",
    "        params_index += 1\n",
    "        for j in np.arange(N_particles,num_qubits,1):\n",
    "            qc.ry(weights[params_index],j)\n",
    "        params_index += 1\n",
    "        \n",
    "        for i in np.arange(N_particles,num_qubits,1):\n",
    "            for k in np.arange(i,num_qubits,1):\n",
    "                if i!=k:\n",
    "                    qc.rzz(weights[params_index],i,k)\n",
    "                    \n",
    "        params_index += 1\n",
    "            \n",
    "        \n",
    "        qc.barrier()"
   ]
  },
  {
   "cell_type": "code",
   "execution_count": 25,
   "id": "7b810ae1",
   "metadata": {},
   "outputs": [],
   "source": [
    "\n",
    "observable1 = SparsePauliOp.from_list([(\"Z\" * num_qubits, 1)])\n",
    "estimator_qnn = EstimatorQNN(\n",
    "    circuit=qc, observables=observable1, input_params=feature_map.parameters, weight_params=weights\n",
    ")\n",
    "\n",
    "estimator_classifier_rotPerm = NeuralNetworkClassifier(\n",
    "    estimator_qnn, optimizer=COBYLA(maxiter=MaxIter), callback=callback_graph\n",
    ")"
   ]
  },
  {
   "cell_type": "code",
   "execution_count": 26,
   "id": "e85bfa94",
   "metadata": {
    "scrolled": false
   },
   "outputs": [
    {
     "data": {
      "image/png": "[encoded data removed]",
      "text/plain": [
       "<Figure size 864x432 with 1 Axes>"
      ]
     },
     "metadata": {
      "needs_background": "light"
     },
     "output_type": "display_data"
    },
    {
     "name": "stdout",
     "output_type": "stream",
     "text": [
      "training score =  0.834\n",
      "test score =  0.761\n"
     ]
    }
   ],
   "source": [
    "\n",
    "\n",
    "\n",
    "objective_func_vals = []\n",
    "plt.rcParams[\"figure.figsize\"] = (12, 6)\n",
    "\n",
    "# fit classifier to data\n",
    "estimator_classifier_rotPerm.fit(X_train_dot[0:maxEvents], y_train_dot[0:maxEvents])\n",
    "\n",
    "# return to default figsize\n",
    "# plt.rcParams[\"figure.figxsize\"] = (6, 4)\n",
    "# score classifier\n",
    "print(\"training score = \",estimator_classifier_rotPerm.score(X_train_dot[0:maxEvents], y_train_dot[0:maxEvents]))\n",
    "print(\"test score = \",estimator_classifier_rotPerm.score(X_test_dot[0:2*maxEvents], y_test_dot[0:2*maxEvents]))"
   ]
  },
  {
   "cell_type": "code",
   "execution_count": null,
   "id": "61496058",
   "metadata": {},
   "outputs": [],
   "source": []
  },
  {
   "cell_type": "code",
   "execution_count": null,
   "id": "d8ae8ed2",
   "metadata": {},
   "outputs": [],
   "source": []
  },
  {
   "cell_type": "code",
   "execution_count": null,
   "id": "9a3e6a73",
   "metadata": {},
   "outputs": [],
   "source": []
  },
  {
   "cell_type": "code",
   "execution_count": null,
   "id": "47dd115b",
   "metadata": {},
   "outputs": [],
   "source": []
  },
  {
   "cell_type": "code",
   "execution_count": null,
   "id": "80ab6f83",
   "metadata": {},
   "outputs": [],
   "source": []
  },
  {
   "cell_type": "code",
   "execution_count": null,
   "id": "e515d9b8",
   "metadata": {},
   "outputs": [],
   "source": []
  },
  {
   "cell_type": "code",
   "execution_count": null,
   "id": "803df5b2",
   "metadata": {},
   "outputs": [],
   "source": []
  },
  {
   "cell_type": "code",
   "execution_count": null,
   "id": "cf76184e",
   "metadata": {},
   "outputs": [],
   "source": []
  },
  {
   "cell_type": "code",
   "execution_count": null,
   "id": "d713b115",
   "metadata": {},
   "outputs": [],
   "source": []
  },
  {
   "cell_type": "code",
   "execution_count": null,
   "id": "bdb28d38",
   "metadata": {},
   "outputs": [],
   "source": []
  },
  {
   "cell_type": "code",
   "execution_count": null,
   "id": "abd8c15c",
   "metadata": {},
   "outputs": [],
   "source": []
  },
  {
   "cell_type": "code",
   "execution_count": null,
   "id": "f328db61",
   "metadata": {},
   "outputs": [],
   "source": []
  },
  {
   "cell_type": "code",
   "execution_count": null,
   "id": "8e952eff",
   "metadata": {},
   "outputs": [],
   "source": []
  },
  {
   "cell_type": "code",
   "execution_count": null,
   "id": "393695e4",
   "metadata": {},
   "outputs": [],
   "source": []
  }
 ],
 "metadata": {
  "kernelspec": {
   "display_name": "qc",
   "language": "python",
   "name": "qc"
  },
  "language_info": {
   "codemirror_mode": {
    "name": "ipython",
    "version": 3
   },
   "file_extension": ".py",
   "mimetype": "text/x-python",
   "name": "python",
   "nbconvert_exporter": "python",
   "pygments_lexer": "ipython3",
   "version": "3.10.4"
  }
 },
 "nbformat": 4,
 "nbformat_minor": 5
}
