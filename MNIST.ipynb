{
 "cells": [
  {
   "cell_type": "code",
   "execution_count": 1,
   "id": "b86b2466",
   "metadata": {},
   "outputs": [],
   "source": [
    "import numpy as np\n",
    "from qiskit import QuantumCircuit\n",
    "from qiskit.circuit import Parameter\n",
    "\n",
    "from qiskit.quantum_info.operators import Operator, Pauli\n",
    "from qiskit.extensions import RXGate, RZGate\n",
    "from qiskit.circuit import QuantumRegister,ClassicalRegister\n",
    "from qiskit import  execute, BasicAer\n",
    "import qiskit.quantum_info as qi\n",
    "import scipy.optimize \n",
    "import random\n",
    "import matplotlib.pyplot as plt\n",
    "import pickle\n",
    "import os \n",
    "from sklearn.model_selection import train_test_split\n",
    "import time\n",
    "from qiskit_machine_learning.algorithms.classifiers import VQC\n",
    "from qiskit.circuit.library import RealAmplitudes,EfficientSU2\n",
    "from sklearn.utils import shuffle\n",
    "\n",
    "from qiskit.primitives import Sampler\n",
    "from qiskit.circuit.library import ZZFeatureMap\n",
    "from qiskit_algorithms.optimizers import COBYLA\n",
    "from IPython.display import clear_output\n",
    "from qiskit import  execute, BasicAer\n",
    "from qiskit_machine_learning.circuit.library import RawFeatureVector"
   ]
  },
  {
   "cell_type": "code",
   "execution_count": 2,
   "id": "e0176beb",
   "metadata": {},
   "outputs": [],
   "source": [
    "import tensorflow as tf"
   ]
  },
  {
   "cell_type": "code",
   "execution_count": 3,
   "id": "9c033101",
   "metadata": {},
   "outputs": [],
   "source": [
    "(x_train, y_train), (x_test, y_test) = tf.keras.datasets.mnist.load_data()\n",
    "# Rescale the images from [0,255] to the [0.0,1.0] range.\n",
    "x_train, x_test = x_train[..., np.newaxis]/255.0, x_test[..., np.newaxis]/255.0\n"
   ]
  },
  {
   "cell_type": "code",
   "execution_count": 4,
   "id": "115602e2",
   "metadata": {},
   "outputs": [
    {
     "name": "stdout",
     "output_type": "stream",
     "text": [
      "Number of original training examples: 60000\n",
      "Number of original test examples: 10000\n"
     ]
    }
   ],
   "source": [
    "print(\"Number of original training examples:\", len(x_train))\n",
    "print(\"Number of original test examples:\", len(x_test))\n"
   ]
  },
  {
   "cell_type": "code",
   "execution_count": 5,
   "id": "414c3128",
   "metadata": {},
   "outputs": [],
   "source": [
    "# Filter the dataset to keep just the 3s and 6s, remove the other classes. \n",
    "# At the same time convert the label, y, to boolean: True for 3 and False for 6. \n",
    "def filter_10(x, y):\n",
    "    keep = (y == 1) | (y == 0)\n",
    "    x, y = x[keep], y[keep]\n",
    "    y = y == 1\n",
    "    return x,y"
   ]
  },
  {
   "cell_type": "code",
   "execution_count": 6,
   "id": "5ad4747f",
   "metadata": {},
   "outputs": [
    {
     "name": "stdout",
     "output_type": "stream",
     "text": [
      "Number of filtered training examples: 12665\n",
      "Number of filtered test examples: 2115\n"
     ]
    }
   ],
   "source": [
    "x_train, y_train = filter_10(x_train, y_train)\n",
    "x_test, y_test = filter_10(x_test, y_test)\n",
    "\n",
    "print(\"Number of filtered training examples:\", len(x_train))\n",
    "print(\"Number of filtered test examples:\", len(x_test))\n"
   ]
  },
  {
   "cell_type": "code",
   "execution_count": 7,
   "id": "590d67a9",
   "metadata": {},
   "outputs": [
    {
     "name": "stdout",
     "output_type": "stream",
     "text": [
      "True\n"
     ]
    },
    {
     "data": {
      "text/plain": [
       "<matplotlib.colorbar.Colorbar at 0x280694e50>"
      ]
     },
     "execution_count": 7,
     "metadata": {},
     "output_type": "execute_result"
    },
    {
     "data": {
      "image/png": "[encoded data removed]",
      "text/plain": [
       "<Figure size 432x288 with 2 Axes>"
      ]
     },
     "metadata": {
      "needs_background": "light"
     },
     "output_type": "display_data"
    }
   ],
   "source": [
    "print(y_train[300])\n",
    "\n",
    "plt.imshow(x_train[344, :, :, 0])\n",
    "plt.colorbar()\n"
   ]
  },
  {
   "cell_type": "code",
   "execution_count": 8,
   "id": "8954e353",
   "metadata": {},
   "outputs": [],
   "source": [
    "n_small=7\n",
    "x_train_small = tf.image.resize(x_train, (n_small,n_small)).numpy()\n",
    "x_test_small = tf.image.resize(x_test, (n_small,n_small)).numpy()\n"
   ]
  },
  {
   "cell_type": "code",
   "execution_count": 9,
   "id": "57b24681",
   "metadata": {},
   "outputs": [
    {
     "data": {
      "text/plain": [
       "(12665, 7, 7, 1)"
      ]
     },
     "execution_count": 9,
     "metadata": {},
     "output_type": "execute_result"
    }
   ],
   "source": [
    "x_train_small.shape"
   ]
  },
  {
   "cell_type": "code",
   "execution_count": 10,
   "id": "d6a04206",
   "metadata": {},
   "outputs": [
    {
     "name": "stdout",
     "output_type": "stream",
     "text": [
      "False\n"
     ]
    },
    {
     "data": {
      "image/png": "[encoded data removed]",
      "text/plain": [
       "<Figure size 432x288 with 2 Axes>"
      ]
     },
     "metadata": {
      "needs_background": "light"
     },
     "output_type": "display_data"
    }
   ],
   "source": [
    "index=int(np.random.rand(1)*100)\n",
    "#index=10\n",
    "plt.imshow(x_train_small[index,:,:,0], vmin=0, vmax=1)\n",
    "plt.colorbar()\n",
    "print(y_train[index])"
   ]
  },
  {
   "cell_type": "code",
   "execution_count": 11,
   "id": "ff8a4d6a",
   "metadata": {},
   "outputs": [],
   "source": [
    "def dataAugmentation(data):\n",
    "    #centering\n",
    "    meanValues=data[None,:].mean(axis=1)\n",
    "    data=data-meanValues[:,None]\n",
    "    \n",
    "    #scaling\n",
    "    norm=np.linalg.norm(data,axis=2)\n",
    "    scale=norm.max(axis=1)\n",
    "    data=data/scale[:,None,None]\n",
    "    \n",
    "    return data\n",
    "\n",
    "\n",
    "\n",
    "def prepareData(x,y,N_points,pixel_min=0.8):\n",
    "    output_x=[]\n",
    "    output_y=[]\n",
    "    for index in range(x.shape[0]):\n",
    "        p_list=[]\n",
    "        pixel_list=[]\n",
    "        for i in range(x_train_small[index,:,:,0].shape[0]):\n",
    "            for j in range(x_train_small[index,:,:,0].shape[1]):\n",
    "                pixel = x_train_small[index,i,j,0]\n",
    "                if pixel>pixel_min:\n",
    "                    p_list.append(np.array([i,j]))\n",
    "                    pixel_list.append(x_train_small[index,i,j,0])\n",
    "        p_list=np.array(p_list)\n",
    "        pixel_list=np.array(pixel_list) \n",
    "        #print(y[index],p_list.shape[0])\n",
    "        if p_list.shape[0]<N_points:\n",
    "            continue\n",
    "        r_ind=np.random.choice(np.arange(0,p_list.shape[0],1),N_points,replace=False)\n",
    "        r_ind.sort()\n",
    "        p_list=p_list[r_ind]\n",
    "        p_aug=dataAugmentation(p_list)[0]\n",
    "        \n",
    "        \n",
    "        output_x.append(p_aug)\n",
    "        output_y.append(y[index])\n",
    "        \n",
    "    return np.array(output_x),np.array(output_y)\n",
    "        "
   ]
  },
  {
   "cell_type": "code",
   "execution_count": 12,
   "id": "17595193",
   "metadata": {},
   "outputs": [],
   "source": [
    "def plotPoints(p_list):\n",
    "    for i in range(p_list.shape[0]):\n",
    "        plt.scatter(p_list[i][0],p_list[i][1],color='black',s=50)"
   ]
  },
  {
   "cell_type": "code",
   "execution_count": 13,
   "id": "ead3d3cc",
   "metadata": {},
   "outputs": [],
   "source": [
    "N=5\n",
    "X_train_noDot,finalY_train=prepareData(x_train_small,y_train,N,pixel_min=0.4)\n",
    "X_test_noDot,finalY_test=prepareData(x_test_small,y_train,N,pixel_min=0.4)\n",
    "\n"
   ]
  },
  {
   "cell_type": "code",
   "execution_count": 14,
   "id": "7b0734c4",
   "metadata": {},
   "outputs": [],
   "source": [
    "def Dot(data):\n",
    "    output=[]\n",
    "    for i in range(data.shape[0]):\n",
    "        event=[]\n",
    "        for j in range(data.shape[1]):\n",
    "            for k in np.arange(j+1,data.shape[1]):\n",
    "                event.append((data[i][j]*data[i][k]).sum())\n",
    "        output.append(np.array(event))\n",
    "\n",
    "    \n",
    "    output=np.array(output)\n",
    "    return output"
   ]
  },
  {
   "cell_type": "code",
   "execution_count": 15,
   "id": "5a5cde2a",
   "metadata": {},
   "outputs": [
    {
     "name": "stdout",
     "output_type": "stream",
     "text": [
      "False\n"
     ]
    },
    {
     "data": {
      "image/png": "[encoded data removed]",
      "text/plain": [
       "<Figure size 432x288 with 1 Axes>"
      ]
     },
     "metadata": {
      "needs_background": "light"
     },
     "output_type": "display_data"
    }
   ],
   "source": [
    "index=int(np.random.rand(1)*1000)\n",
    "plotPoints(X_train_noDot[index])\n",
    "print(finalY_train[index])"
   ]
  },
  {
   "cell_type": "code",
   "execution_count": 16,
   "id": "bab8f40b",
   "metadata": {},
   "outputs": [],
   "source": [
    "train_dot=Dot(X_train_noDot)\n",
    "test_dot=Dot(X_test_noDot)"
   ]
  },
  {
   "cell_type": "code",
   "execution_count": 17,
   "id": "4c88dda0",
   "metadata": {},
   "outputs": [
    {
     "data": {
      "text/plain": [
       "0.3856948371557231"
      ]
     },
     "execution_count": 17,
     "metadata": {},
     "output_type": "execute_result"
    }
   ],
   "source": [
    "finalY_train.sum()/finalY_train.shape[0]"
   ]
  },
  {
   "cell_type": "code",
   "execution_count": 18,
   "id": "0f83381f",
   "metadata": {},
   "outputs": [
    {
     "data": {
      "text/plain": [
       "0.4007285974499089"
      ]
     },
     "execution_count": 18,
     "metadata": {},
     "output_type": "execute_result"
    }
   ],
   "source": [
    "finalY_test.sum()/finalY_test.shape[0]"
   ]
  },
  {
   "cell_type": "code",
   "execution_count": null,
   "id": "1dbd5c5e",
   "metadata": {},
   "outputs": [],
   "source": []
  },
  {
   "cell_type": "code",
   "execution_count": null,
   "id": "8bca2bb9",
   "metadata": {},
   "outputs": [],
   "source": []
  },
  {
   "cell_type": "code",
   "execution_count": null,
   "id": "d15780cd",
   "metadata": {},
   "outputs": [],
   "source": []
  },
  {
   "cell_type": "code",
   "execution_count": 21,
   "id": "bd82d7f3",
   "metadata": {},
   "outputs": [
    {
     "name": "stdout",
     "output_type": "stream",
     "text": [
      "-2.0\n"
     ]
    }
   ],
   "source": [
    "num_qubits=3\n",
    "\n",
    "print(2**num_qubits-N*(N-1)/2 )"
   ]
  },
  {
   "cell_type": "code",
   "execution_count": 22,
   "id": "37e125d7",
   "metadata": {},
   "outputs": [
    {
     "data": {
      "text/plain": [
       "10.0"
      ]
     },
     "execution_count": 22,
     "metadata": {},
     "output_type": "execute_result"
    }
   ],
   "source": [
    "N*(N-1)/2 "
   ]
  },
  {
   "cell_type": "code",
   "execution_count": 23,
   "id": "bacca617",
   "metadata": {
    "scrolled": true
   },
   "outputs": [],
   "source": [
    "\n",
    "train_dot=train_dot[:,0:2**num_qubits]\n",
    "test_dot=test_dot[:,0:2**num_qubits]"
   ]
  },
  {
   "cell_type": "code",
   "execution_count": 24,
   "id": "c9dd513e",
   "metadata": {},
   "outputs": [
    {
     "data": {
      "text/plain": [
       "(1647, 8)"
      ]
     },
     "execution_count": 24,
     "metadata": {},
     "output_type": "execute_result"
    }
   ],
   "source": [
    "test_dot.shape"
   ]
  },
  {
   "cell_type": "code",
   "execution_count": 25,
   "id": "4b99f6e1",
   "metadata": {},
   "outputs": [],
   "source": [
    "sampler = Sampler()\n",
    "\n",
    "\n",
    "\n",
    "objective_func_vals = []\n",
    "plt.rcParams[\"figure.figsize\"] = (12, 6)\n",
    "\n",
    "\n",
    "def callback_graph(weights, obj_func_eval):\n",
    "    print(len(objective_func_vals))\n",
    "    clear_output(wait=True)\n",
    "    objective_func_vals.append(obj_func_eval)\n",
    "    plt.title(\"Objective function value against iteration\")\n",
    "    plt.xlabel(\"Iteration\")\n",
    "    plt.ylabel(\"Objective function value\")\n",
    "    plt.plot(range(len(objective_func_vals)), objective_func_vals)\n",
    "    plt.show()\n",
    "    \n"
   ]
  },
  {
   "cell_type": "code",
   "execution_count": 26,
   "id": "899048b0",
   "metadata": {},
   "outputs": [],
   "source": [
    "# from qiskit_algorithms.optimizers import GradientDescent\n",
    "# optimizer = COBYLA(maxiter=250)\n",
    "\n"
   ]
  },
  {
   "cell_type": "code",
   "execution_count": 27,
   "id": "ff293987",
   "metadata": {},
   "outputs": [],
   "source": [
    "# vqc = VQC(\n",
    "#     sampler=sampler,\n",
    "#     feature_map=RawFeatureVector(2**num_qubits),\n",
    "#     #ansatz=EfficientSU2(num_qubits, reps=2),\n",
    "#     ansatz=RealAmplitudes(num_qubits, reps=5),\n",
    "#     optimizer=optimizer,\n",
    "#     callback=callback_graph,\n",
    "# )"
   ]
  },
  {
   "cell_type": "code",
   "execution_count": 28,
   "id": "6e7d800e",
   "metadata": {},
   "outputs": [],
   "source": [
    "# maxEvents=500\n",
    "\n",
    "# # clear objective value history\n",
    "# objective_func_vals = []\n",
    "\n",
    "# start = time.time(a)\n",
    "# vqc.fit(train_dot[0:maxEvents], y_train[0:maxEvents])\n",
    "# elapsed = time.time() - start"
   ]
  },
  {
   "cell_type": "code",
   "execution_count": 29,
   "id": "a7a22cd7",
   "metadata": {},
   "outputs": [
    {
     "ename": "NameError",
     "evalue": "name 'vqc' is not defined",
     "output_type": "error",
     "traceback": [
      "\u001b[0;31m---------------------------------------------------------------------------\u001b[0m",
      "\u001b[0;31mNameError\u001b[0m                                 Traceback (most recent call last)",
      "Input \u001b[0;32mIn [29]\u001b[0m, in \u001b[0;36m<cell line: 1>\u001b[0;34m()\u001b[0m\n\u001b[0;32m----> 1\u001b[0m \u001b[43mvqc\u001b[49m\u001b[38;5;241m.\u001b[39mscore(train_dot[\u001b[38;5;241m0\u001b[39m:maxEvents],y_train[\u001b[38;5;241m0\u001b[39m:maxEvents])\n",
      "\u001b[0;31mNameError\u001b[0m: name 'vqc' is not defined"
     ]
    }
   ],
   "source": [
    "vqc.score(train_dot[0:maxEvents],y_train[0:maxEvents])"
   ]
  },
  {
   "cell_type": "code",
   "execution_count": 30,
   "id": "1fdb2d4b",
   "metadata": {},
   "outputs": [
    {
     "ename": "NameError",
     "evalue": "name 'vqc' is not defined",
     "output_type": "error",
     "traceback": [
      "\u001b[0;31m---------------------------------------------------------------------------\u001b[0m",
      "\u001b[0;31mNameError\u001b[0m                                 Traceback (most recent call last)",
      "Input \u001b[0;32mIn [30]\u001b[0m, in \u001b[0;36m<cell line: 1>\u001b[0;34m()\u001b[0m\n\u001b[0;32m----> 1\u001b[0m \u001b[43mvqc\u001b[49m\u001b[38;5;241m.\u001b[39mscore(train_dot[maxEvents:\u001b[38;5;241m2\u001b[39m\u001b[38;5;241m*\u001b[39mmaxEvents],y_train[maxEvents:\u001b[38;5;241m2\u001b[39m\u001b[38;5;241m*\u001b[39mmaxEvents])\n",
      "\u001b[0;31mNameError\u001b[0m: name 'vqc' is not defined"
     ]
    }
   ],
   "source": [
    "vqc.score(train_dot[maxEvents:2*maxEvents],y_train[maxEvents:2*maxEvents])"
   ]
  },
  {
   "cell_type": "code",
   "execution_count": null,
   "id": "a5094c35",
   "metadata": {},
   "outputs": [],
   "source": [
    "y_p=vqc.predict(train_dot[maxEvents:2*maxEvents])\n",
    "                "
   ]
  },
  {
   "cell_type": "code",
   "execution_count": null,
   "id": "e1b2df5e",
   "metadata": {},
   "outputs": [],
   "source": [
    "(1-y_train[maxEvents:2*maxEvents]).sum()/y_train[maxEvents:2*maxEvents].shape[0]"
   ]
  },
  {
   "cell_type": "code",
   "execution_count": null,
   "id": "07fa4e3f",
   "metadata": {},
   "outputs": [],
   "source": [
    "(1-y_train[0:maxEvents]).sum()/y_train[maxEvents:2*maxEvents].shape[0]"
   ]
  },
  {
   "cell_type": "code",
   "execution_count": null,
   "id": "5b50e44b",
   "metadata": {},
   "outputs": [],
   "source": []
  },
  {
   "cell_type": "code",
   "execution_count": null,
   "id": "f4a0b44e",
   "metadata": {},
   "outputs": [],
   "source": []
  },
  {
   "cell_type": "code",
   "execution_count": null,
   "id": "f871a208",
   "metadata": {},
   "outputs": [],
   "source": []
  },
  {
   "cell_type": "code",
   "execution_count": 31,
   "id": "3a41d6b6",
   "metadata": {},
   "outputs": [],
   "source": [
    "num_qubits=train_dot.shape[1]\n",
    "nLayer=3"
   ]
  },
  {
   "cell_type": "code",
   "execution_count": 34,
   "id": "28e623f6",
   "metadata": {},
   "outputs": [],
   "source": [
    "maxIteration=400\n",
    "maxEvents=200"
   ]
  },
  {
   "cell_type": "code",
   "execution_count": 35,
   "id": "9b40b26e",
   "metadata": {},
   "outputs": [],
   "source": [
    "\n",
    "\n",
    "sampler = Sampler()\n",
    "\n",
    "feature_map_augDot = ZZFeatureMap(feature_dimension=num_qubits, reps=1)\n",
    "optimizer_augDot = COBYLA(maxiter=maxIteration)\n",
    "\n",
    "\n",
    "vqc_augDot = VQC(\n",
    "    sampler=sampler,\n",
    "    feature_map=feature_map_augDot,\n",
    "    ansatz=RealAmplitudes(num_qubits, reps=nLayer),\n",
    "    optimizer=optimizer_augDot,\n",
    "    callback=callback_graph,\n",
    ")"
   ]
  },
  {
   "cell_type": "code",
   "execution_count": 36,
   "id": "1d862859",
   "metadata": {},
   "outputs": [
    {
     "data": {
      "image/png": "[encoded data removed]",
      "text/plain": [
       "<Figure size 864x432 with 1 Axes>"
      ]
     },
     "metadata": {
      "needs_background": "light"
     },
     "output_type": "display_data"
    }
   ],
   "source": [
    "\n",
    "\n",
    "# clear objective value history\n",
    "objective_func_vals = []\n",
    "\n",
    "start = time.time()\n",
    "vqc_augDot.fit(train_dot[0:maxEvents], finalY_train[0:maxEvents])\n",
    "elapsed = time.time() - start"
   ]
  },
  {
   "cell_type": "code",
   "execution_count": 37,
   "id": "74fd9d91",
   "metadata": {},
   "outputs": [
    {
     "data": {
      "text/plain": [
       "0.79"
      ]
     },
     "execution_count": 37,
     "metadata": {},
     "output_type": "execute_result"
    }
   ],
   "source": [
    "vqc_augDot.score(train_dot[0:maxEvents],finalY_train[0:maxEvents])"
   ]
  },
  {
   "cell_type": "code",
   "execution_count": 38,
   "id": "971224a6",
   "metadata": {},
   "outputs": [
    {
     "data": {
      "text/plain": [
       "0.73"
      ]
     },
     "execution_count": 38,
     "metadata": {},
     "output_type": "execute_result"
    }
   ],
   "source": [
    "vqc_augDot.score(test_dot[0:maxEvents],finalY_test[0:maxEvents])"
   ]
  },
  {
   "cell_type": "code",
   "execution_count": 39,
   "id": "e875bd3f",
   "metadata": {},
   "outputs": [
    {
     "data": {
      "text/plain": [
       "0.46"
      ]
     },
     "execution_count": 39,
     "metadata": {},
     "output_type": "execute_result"
    }
   ],
   "source": [
    "finalY_test[0:100].sum()/finalY_test[0:100].shape[0]"
   ]
  },
  {
   "cell_type": "code",
   "execution_count": null,
   "id": "2407b106",
   "metadata": {},
   "outputs": [],
   "source": []
  },
  {
   "cell_type": "code",
   "execution_count": null,
   "id": "e01b8e07",
   "metadata": {},
   "outputs": [],
   "source": []
  },
  {
   "cell_type": "code",
   "execution_count": null,
   "id": "7cad1586",
   "metadata": {},
   "outputs": [],
   "source": []
  },
  {
   "cell_type": "code",
   "execution_count": null,
   "id": "2b71f9e7",
   "metadata": {},
   "outputs": [],
   "source": []
  },
  {
   "cell_type": "code",
   "execution_count": null,
   "id": "5fe7c05f",
   "metadata": {},
   "outputs": [],
   "source": []
  }
 ],
 "metadata": {
  "kernelspec": {
   "display_name": "qc",
   "language": "python",
   "name": "qc"
  },
  "language_info": {
   "codemirror_mode": {
    "name": "ipython",
    "version": 3
   },
   "file_extension": ".py",
   "mimetype": "text/x-python",
   "name": "python",
   "nbconvert_exporter": "python",
   "pygments_lexer": "ipython3",
   "version": "3.10.4"
  }
 },
 "nbformat": 4,
 "nbformat_minor": 5
}
