{
 "cells": [
  {
   "cell_type": "code",
   "execution_count": 1,
   "id": "51a78568",
   "metadata": {},
   "outputs": [],
   "source": [
    "import numpy as np\n",
    "from qiskit import QuantumCircuit\n",
    "from qiskit.circuit import Parameter\n",
    "import numpy as np\n",
    "from qiskit.quantum_info.operators import Operator, Pauli\n",
    "from qiskit.extensions import RXGate, RZGate\n",
    "from qiskit.circuit import QuantumRegister,ClassicalRegister\n",
    "from qiskit import  execute, BasicAer\n",
    "import qiskit.quantum_info as qi\n",
    "import scipy.optimize \n",
    "import random\n",
    "import matplotlib.pyplot as plt\n",
    "import pickle\n",
    "import os \n",
    "import h5py \n",
    "import pandas as pd\n",
    "import uproot\n",
    "from sklearn.model_selection import train_test_split\n",
    "from sklearn.utils import shuffle\n",
    "import time\n",
    "\n",
    "\n",
    "from qiskit.primitives import Sampler\n",
    "from qiskit.circuit.library import ZZFeatureMap\n",
    "from qiskit_algorithms.optimizers import COBYLA\n",
    "from IPython.display import clear_output\n",
    "from qiskit import  execute, BasicAer\n",
    "from qiskit_machine_learning.circuit.library import RawFeatureVector\n",
    "\n",
    "from qiskit_machine_learning.algorithms.classifiers import VQC\n",
    "from qiskit.circuit.library import RealAmplitudes,EfficientSU2\n",
    "from sklearn.utils import shuffle\n",
    "import pandas as pd\n",
    "\n",
    "from sklearn import metrics\n",
    "from sklearn.metrics import RocCurveDisplay\n"
   ]
  },
  {
   "cell_type": "code",
   "execution_count": 2,
   "id": "3e42ba93",
   "metadata": {},
   "outputs": [],
   "source": [
    "def callback_graph(weights, obj_func_eval):\n",
    "    print(len(objective_func_vals))\n",
    "    clear_output(wait=True)\n",
    "    objective_func_vals.append(obj_func_eval)\n",
    "    plt.title(\"Objective function value against iteration\")\n",
    "    plt.xlabel(\"Iteration\")\n",
    "    plt.ylabel(\"Objective function value\")\n",
    "    plt.plot(range(len(objective_func_vals)), objective_func_vals)\n",
    "    plt.show()\n",
    "    \n",
    "    \n",
    "def produceDataset(inputFileName,path,treeName):\n",
    "    \n",
    "    print(\"start preparing\",inputFileName)\n",
    "    file = uproot.open(path+inputFileName+\".root\")\n",
    "    tree=file[treeName]\n",
    "    VariableList=tree.keys()\n",
    "    \n",
    "\n",
    "    df = tree.arrays(filter_name=VariableList[0],library=\"pd\") \n",
    "    for i in range(1,len(VariableList)):\n",
    "        df=df.join(tree.arrays(filter_name=VariableList[i],library=\"pd\"))\n",
    "\n",
    "\n",
    "\n",
    "    return df\n",
    "\n",
    "def getFourVector(pt,eta,phi):\n",
    "   \n",
    "    m=1 # precision issues. not sure why but m=1 makes that no negative invariant mass square.\n",
    "    px=pt*np.cos(phi)\n",
    "    py=pt*np.sin(phi)\n",
    "    pz=pt*np.sinh(eta)\n",
    "    E=np.sqrt(px**2+py**2+pz**2+m**2)\n",
    "    return np.array([E,px,py,pz], dtype=np.float64)\n",
    "\n",
    "def getInvM(v):\n",
    "    m2=v[0]**2-v[1]**2-v[2]**2-v[3]**2\n",
    "    \n",
    "    return np.sqrt(m2)\n",
    "\n",
    "def getMass(df):\n",
    "    v1=getFourVector(df['f_lept1_pt'],df['f_lept1_eta'],df['f_lept1_phi'])\n",
    "    v2=getFourVector(df['f_lept2_pt'],df['f_lept2_eta'],df['f_lept2_phi'])\n",
    "    v3=getFourVector(df['f_lept3_pt'],df['f_lept3_eta'],df['f_lept3_phi'])\n",
    "    v4=getFourVector(df['f_lept4_pt'],df['f_lept4_eta'],df['f_lept4_phi'])\n",
    "    v=v1+v2+v3+v4\n",
    "    m_reco=getInvM(v)\n",
    "    return m_reco\n",
    "\n",
    "def getThreeVectors_df(df):\n",
    "    v1=getFourVector(df['f_lept1_pt'],df['f_lept1_eta'],df['f_lept1_phi'])\n",
    "    v2=getFourVector(df['f_lept2_pt'],df['f_lept2_eta'],df['f_lept2_phi'])\n",
    "    v3=getFourVector(df['f_lept3_pt'],df['f_lept3_eta'],df['f_lept3_phi'])\n",
    "    v4=getFourVector(df['f_lept4_pt'],df['f_lept4_eta'],df['f_lept4_phi'])\n",
    "    \n",
    "\n",
    "    output=np.concatenate([v1[1:],v2[1:],v3[1:],v4[1:]])\n",
    "    return  np.transpose(output)\n",
    "\n",
    "def getDot_df(df):\n",
    "    v1=getFourVector(df['f_lept1_pt'],df['f_lept1_eta'],df['f_lept1_phi'])\n",
    "    v2=getFourVector(df['f_lept2_pt'],df['f_lept2_eta'],df['f_lept2_phi'])\n",
    "    v3=getFourVector(df['f_lept3_pt'],df['f_lept3_eta'],df['f_lept3_phi'])\n",
    "    v4=getFourVector(df['f_lept4_pt'],df['f_lept4_eta'],df['f_lept4_phi'])\n",
    "    \n",
    "    dot=[]\n",
    "\n",
    "#     dot.append(getInvM(v1+v1))\n",
    "#     dot.append(getInvM(v2+v2))\n",
    "#     dot.append(getInvM(v3+v3))\n",
    "#     dot.append(getInvM(v4+v4))\n",
    "    \n",
    "    dot.append(getInvM(v1+v2))\n",
    "    dot.append(getInvM(v1+v3))\n",
    "    dot.append(getInvM(v1+v4))\n",
    "    dot.append(getInvM(v2+v3))\n",
    "    dot.append(getInvM(v2+v4))\n",
    "    dot.append(getInvM(v3+v4))\n",
    "    dot=np.array(dot)\n",
    "    \n",
    "\n",
    "    return np.transpose(dot)\n",
    "    "
   ]
  },
  {
   "cell_type": "code",
   "execution_count": null,
   "id": "52c3396b",
   "metadata": {},
   "outputs": [],
   "source": []
  },
  {
   "cell_type": "code",
   "execution_count": 3,
   "id": "f69382fe",
   "metadata": {},
   "outputs": [
    {
     "name": "stdout",
     "output_type": "stream",
     "text": [
      "nShots =  4096\n"
     ]
    }
   ],
   "source": [
    "\n",
    "nShots=2**12\n",
    "nMaxIter=300\n",
    "maxDatasetEvents=5000\n",
    "\n",
    "Dir=\"/Users/lizhelun/Desktop/QC/Datasets/\"\n",
    "\n",
    "h4l_VV=\"ntuple_4mu_VV\"\n",
    "h4l_bkg=\"ntuple_4mu_bkg\"\n",
    "\n",
    "print(\"nShots = \",nShots)"
   ]
  },
  {
   "cell_type": "code",
   "execution_count": 4,
   "id": "e8b1405c",
   "metadata": {},
   "outputs": [
    {
     "name": "stdout",
     "output_type": "stream",
     "text": [
      "start preparing ntuple_4mu_VV\n",
      "start preparing ntuple_4mu_bkg\n"
     ]
    }
   ],
   "source": [
    "h4l=produceDataset(h4l_VV,Dir,'HZZ4LeptonsAnalysisReduced')\n",
    "bkg=produceDataset(h4l_bkg,Dir,'HZZ4LeptonsAnalysisReduced')"
   ]
  },
  {
   "cell_type": "code",
   "execution_count": 5,
   "id": "fbf1a62d",
   "metadata": {},
   "outputs": [],
   "source": [
    "m_reco_signal=getMass(h4l)\n",
    "m_reco_bkg=getMass(bkg)"
   ]
  },
  {
   "cell_type": "code",
   "execution_count": 6,
   "id": "a4ad29e4",
   "metadata": {},
   "outputs": [
    {
     "data": {
      "text/plain": [
       "<matplotlib.legend.Legend at 0x17c2304f0>"
      ]
     },
     "execution_count": 6,
     "metadata": {},
     "output_type": "execute_result"
    },
    {
     "data": {
      "image/png": "[encoded data removed]",
      "text/plain": [
       "<Figure size 432x288 with 1 Axes>"
      ]
     },
     "metadata": {
      "needs_background": "light"
     },
     "output_type": "display_data"
    }
   ],
   "source": [
    "#h4l['f_mass4l'].hist(bins=np.arange(100,150,1),label='truth');\n",
    "plt.hist(m_reco_signal,bins=np.arange(0,400,5),histtype='step',label='Reco signal');\n",
    "plt.hist(m_reco_bkg,bins=np.arange(0,400,5),histtype='step',label='Reco bkg');\n",
    "plt.legend()"
   ]
  },
  {
   "cell_type": "code",
   "execution_count": 7,
   "id": "90f565bb",
   "metadata": {},
   "outputs": [],
   "source": [
    "# #remove large invM\n",
    "# bkg=bkg[m_reco_bkg<150]"
   ]
  },
  {
   "cell_type": "code",
   "execution_count": 8,
   "id": "9bc1a176",
   "metadata": {},
   "outputs": [],
   "source": [
    "sig_3vec=getThreeVectors_df(h4l)\n",
    "bkg_3vec=getThreeVectors_df(bkg)"
   ]
  },
  {
   "cell_type": "code",
   "execution_count": 9,
   "id": "d65b286f",
   "metadata": {},
   "outputs": [],
   "source": [
    "sig_dot=getDot_df(h4l)\n",
    "bkg_dot=getDot_df(bkg)"
   ]
  },
  {
   "cell_type": "code",
   "execution_count": 10,
   "id": "2dbc79c5",
   "metadata": {},
   "outputs": [],
   "source": [
    "def split(X,y,normalize=True):\n",
    "    train_ratio=0.6\n",
    "    X_train, X_valTest, y_train, y_valTest = train_test_split(X.copy(), y.copy(), train_size=train_ratio, random_state=100)\n",
    "    X_val, X_test, y_val, y_test = train_test_split(X_valTest, y_valTest, test_size=0.5, random_state=200)\n",
    "    #Normalizing everythings:\n",
    "    if normalize:\n",
    "        Max=X_train.max()\n",
    "        X_train=X_train/Max\n",
    "        X_val=X_val/Max\n",
    "        X_test=X_test/Max\n",
    "        \n",
    "    \n",
    "    return X_train,y_train,X_val,y_val,X_test,y_test"
   ]
  },
  {
   "cell_type": "code",
   "execution_count": 11,
   "id": "9a6f86f2",
   "metadata": {},
   "outputs": [],
   "source": [
    "X_3=np.concatenate([sig_3vec[0:maxDatasetEvents],bkg_3vec[0:maxDatasetEvents]])\n",
    "y_3=np.concatenate([np.ones(sig_3vec[0:maxDatasetEvents].shape[0]),-1*np.ones(bkg_3vec[0:maxDatasetEvents].shape[0])])\n",
    "X_3,y_3=shuffle(X_3,y_3,random_state=1000)\n",
    "\n",
    "X_train_3,y_train_3,X_val_3,y_val_3,X_test_3,y_test_3=split(X_3,y_3)"
   ]
  },
  {
   "cell_type": "code",
   "execution_count": 12,
   "id": "983a76d9",
   "metadata": {},
   "outputs": [],
   "source": [
    "X_dot=np.concatenate([sig_dot[0:maxDatasetEvents],bkg_dot[0:maxDatasetEvents]])\n",
    "y_dot=np.concatenate([np.ones(sig_dot[0:maxDatasetEvents].shape[0]),-1*np.ones(bkg_dot[0:maxDatasetEvents].shape[0])])\n",
    "X_dot,y_dot=shuffle(X_dot,y_dot,random_state=1000)\n",
    "\n",
    "X_train_dot,y_train_dot,X_val_dot,y_val_dot,X_test_dot,y_test_dot=split(X_dot,y_dot)"
   ]
  },
  {
   "cell_type": "code",
   "execution_count": 13,
   "id": "db082fa7",
   "metadata": {},
   "outputs": [],
   "source": [
    "inv_dot=np.concatenate([m_reco_signal[0:maxDatasetEvents],m_reco_bkg[0:maxDatasetEvents]])\n",
    "inv_dot=shuffle(inv_dot,random_state=1000)\n",
    "inv_dot_train,inv_doty_train_3,inv_dot_val,inv_doty_val,inv_dot_test,inv_doty_test_3=split(inv_dot,y_3,normalize=False)"
   ]
  },
  {
   "cell_type": "code",
   "execution_count": null,
   "id": "64f84218",
   "metadata": {},
   "outputs": [],
   "source": []
  },
  {
   "cell_type": "code",
   "execution_count": 14,
   "id": "09fc508a",
   "metadata": {},
   "outputs": [],
   "source": [
    "from qiskit.circuit.library import ZZFeatureMap,ZFeatureMap\n",
    "from qiskit.circuit import ParameterVector\n",
    "\n",
    "from qiskit.quantum_info import SparsePauliOp\n",
    "\n",
    "from qiskit_machine_learning.neural_networks import EstimatorQNN\n",
    "\n",
    "from qiskit_machine_learning.algorithms.classifiers import NeuralNetworkClassifier, VQC\n",
    "from qiskit_machine_learning.algorithms.regressors import NeuralNetworkRegressor, VQR\n"
   ]
  },
  {
   "cell_type": "code",
   "execution_count": 15,
   "id": "cd44aecb",
   "metadata": {},
   "outputs": [
    {
     "data": {
      "image/png": "[encoded data removed]",
      "text/plain": [
       "<Figure size 432x288 with 1 Axes>"
      ]
     },
     "metadata": {
      "needs_background": "light"
     },
     "output_type": "display_data"
    }
   ],
   "source": [
    "plt.hist(sig_dot[0:maxDatasetEvents].sum(axis=1),bins=np.arange(0,800,10));\n",
    "plt.hist(bkg_dot[0:maxDatasetEvents].sum(axis=1),bins=np.arange(0,800,10));"
   ]
  },
  {
   "cell_type": "code",
   "execution_count": null,
   "id": "e7118219",
   "metadata": {},
   "outputs": [],
   "source": []
  },
  {
   "cell_type": "code",
   "execution_count": null,
   "id": "d4c4632b",
   "metadata": {},
   "outputs": [],
   "source": []
  },
  {
   "cell_type": "code",
   "execution_count": 16,
   "id": "216a3d67",
   "metadata": {},
   "outputs": [],
   "source": [
    "#regressor:\n",
    "\n",
    "def getEstimator(num_layers,N_particles):\n",
    "\n",
    "    n_params=num_layers*2\n",
    "    num_qubits=int((N_particles-1)*N_particles/2)\n",
    "\n",
    "    qr = QuantumRegister(num_qubits)\n",
    "    qc = QuantumCircuit(qr)\n",
    "    feature_map = ZFeatureMap(feature_dimension=num_qubits,reps=1,parameter_prefix=\"inputs\")\n",
    "    weights = ParameterVector(\"weight\", n_params)\n",
    "    print(f\"weight parameters: {[str(item) for item in weights.params]}\")\n",
    "\n",
    "    inputParams_index=0\n",
    "    params_index=0\n",
    "\n",
    "    qc.compose(feature_map, inplace=True) \n",
    "\n",
    "    for layer in range(num_layers):\n",
    "\n",
    "            for j in np.arange(0,num_qubits,1):\n",
    "                qc.ry(weights[params_index],j)\n",
    "\n",
    "            params_index += 1\n",
    "\n",
    "            for i in np.arange(0,num_qubits,1):\n",
    "                for k in np.arange(i,num_qubits,1):\n",
    "                    if i!=k:\n",
    "                        qc.rzz(weights[params_index],i,k)\n",
    "\n",
    "            params_index += 1\n",
    "\n",
    "            qc.barrier()\n",
    "\n",
    "    observable1 = SparsePauliOp.from_list([(\"Z\" * num_qubits, 1)])\n",
    "    estimator_qnn_rotPerm = EstimatorQNN(\n",
    "        circuit=qc, observables=observable1, input_params=feature_map.parameters, weight_params=weights\n",
    "    )\n",
    "    return estimator_qnn_rotPerm"
   ]
  },
  {
   "cell_type": "code",
   "execution_count": 17,
   "id": "bc454505",
   "metadata": {},
   "outputs": [
    {
     "name": "stdout",
     "output_type": "stream",
     "text": [
      "weight parameters: ['weight[0]', 'weight[1]', 'weight[2]', 'weight[3]']\n"
     ]
    }
   ],
   "source": [
    "estimator_qnn_rotPerm=getEstimator(2,4)"
   ]
  },
  {
   "cell_type": "code",
   "execution_count": 18,
   "id": "84249c07",
   "metadata": {},
   "outputs": [
    {
     "data": {
      "image/png": "[encoded data removed]",
      "text/plain": [
       "<Figure size 864x432 with 1 Axes>"
      ]
     },
     "metadata": {
      "needs_background": "light"
     },
     "output_type": "display_data"
    },
    {
     "name": "stdout",
     "output_type": "stream",
     "text": [
      "training score =  0.053886488942377464\n",
      "test score =  0.055782681528698475\n"
     ]
    }
   ],
   "source": [
    "maxEvents=5000\n",
    "MaxIter=20\n",
    "\n",
    "loss='squared_error'\n",
    "optimizer=COBYLA(maxiter=MaxIter)\n",
    "\n",
    "estimator_regressor_rotPerm = NeuralNetworkRegressor(\n",
    "    estimator_qnn_rotPerm, optimizer=optimizer ,callback=callback_graph,loss=loss\n",
    ")\n",
    "\n",
    "\n",
    "objective_func_vals = []\n",
    "plt.rcParams[\"figure.figsize\"] = (12, 6)\n",
    "plt.grid()\n",
    "\n",
    "# fit classifier to data\n",
    "estimator_regressor_rotPerm.fit(X_train_dot[0:maxEvents], y_train_dot[0:maxEvents])\n",
    "\n",
    "print(\"training score = \",estimator_regressor_rotPerm.score(X_train_dot[0:maxEvents], y_train_dot[0:maxEvents]))\n",
    "print(\"test score = \",estimator_regressor_rotPerm.score(X_test_dot[0:maxEvents], y_test_dot[0:maxEvents]))"
   ]
  },
  {
   "cell_type": "code",
   "execution_count": 19,
   "id": "3ec3ebf5",
   "metadata": {},
   "outputs": [],
   "source": [
    "def getBestTheshold(est,X_test,y_test):\n",
    "    y_predict=est.predict(X_test)\n",
    "    fpr, tpr, thresholds = metrics.roc_curve(y_test, y_predict, pos_label=1)\n",
    "\n",
    "    bestValidation=0\n",
    "    threshold_best=0\n",
    "    for t in thresholds:\n",
    "        y=y_predict.copy().flatten()\n",
    "        y[y>t]=1\n",
    "        y[y<t]=-1\n",
    "        diff=y-y_test[0:maxEvents]\n",
    "        val=diff[diff==0].shape[0]/y.shape[0]\n",
    "        if val>bestValidation:\n",
    "            bestValidation=val\n",
    "            threshold_best=t\n",
    "            print(val,threshold_best)\n",
    "    return threshold_best"
   ]
  },
  {
   "cell_type": "code",
   "execution_count": 20,
   "id": "66a435a9",
   "metadata": {},
   "outputs": [
    {
     "name": "stdout",
     "output_type": "stream",
     "text": [
      "0.5035 inf\n",
      "0.5065 0.08623340116971831\n",
      "0.5185 0.08594669087968365\n",
      "0.536 0.08562302461938154\n",
      "0.611 0.08404320725096182\n",
      "0.621 0.0838236834464718\n",
      "0.6215 0.08376229192455403\n",
      "0.6325 0.08353880314793183\n",
      "0.6355 0.08349169792187575\n",
      "0.6385 0.08335042417037145\n",
      "0.6405 0.08327495284543122\n",
      "0.6705 0.08266863778283524\n",
      "0.682 0.08249924975202572\n",
      "0.697 0.08209881217586243\n",
      "0.7255 0.08124700930867938\n",
      "0.7285 0.08113394576977145\n",
      "0.7445 0.08048686623033544\n",
      "0.754 0.08005700921126443\n",
      "0.7725 0.07945839000705712\n",
      "0.7755 0.07926919972987384\n",
      "0.789 0.07866507865528846\n",
      "0.8105 0.07775277080310955\n",
      "0.8355 0.07657682755117541\n",
      "0.838 0.07631812355909794\n",
      "0.8395 0.07615120462670771\n",
      "0.8465 0.07520571431863984\n",
      "0.8485 0.07351213300911853\n"
     ]
    }
   ],
   "source": [
    "threshold_best=getBestTheshold(estimator_regressor_rotPerm,X_test_dot[0:maxEvents],y_test_dot[0:maxEvents])"
   ]
  },
  {
   "cell_type": "code",
   "execution_count": null,
   "id": "a87c1faf",
   "metadata": {},
   "outputs": [],
   "source": []
  },
  {
   "cell_type": "code",
   "execution_count": 21,
   "id": "a544a2cb",
   "metadata": {},
   "outputs": [
    {
     "name": "stdout",
     "output_type": "stream",
     "text": [
      "0.5035 inf\n",
      "0.5065 0.08623340116971831\n",
      "0.5185 0.08594669087968365\n",
      "0.536 0.08562302461938154\n",
      "0.611 0.08404320725096182\n",
      "0.621 0.0838236834464718\n",
      "0.6215 0.08376229192455403\n",
      "0.6325 0.08353880314793183\n",
      "0.6355 0.08349169792187575\n",
      "0.6385 0.08335042417037145\n",
      "0.6405 0.08327495284543122\n",
      "0.6705 0.08266863778283524\n",
      "0.682 0.08249924975202572\n",
      "0.697 0.08209881217586243\n",
      "0.7255 0.08124700930867938\n",
      "0.7285 0.08113394576977145\n",
      "0.7445 0.08048686623033544\n",
      "0.754 0.08005700921126443\n",
      "0.7725 0.07945839000705712\n",
      "0.7755 0.07926919972987384\n",
      "0.789 0.07866507865528846\n",
      "0.8105 0.07775277080310955\n",
      "0.8355 0.07657682755117541\n",
      "0.838 0.07631812355909794\n",
      "0.8395 0.07615120462670771\n",
      "0.8465 0.07520571431863984\n",
      "0.8485 0.07351213300911853\n"
     ]
    },
    {
     "data": {
      "image/png": "[encoded data removed]",
      "text/plain": [
       "<Figure size 864x432 with 1 Axes>"
      ]
     },
     "metadata": {
      "needs_background": "light"
     },
     "output_type": "display_data"
    },
    {
     "data": {
      "image/png": "[encoded data removed]",
      "text/plain": [
       "<Figure size 864x432 with 1 Axes>"
      ]
     },
     "metadata": {
      "needs_background": "light"
     },
     "output_type": "display_data"
    }
   ],
   "source": [
    "y_predict=estimator_regressor_rotPerm.predict(X_test_dot[0:maxEvents]).flatten()\n",
    "train_predict=estimator_regressor_rotPerm.predict(X_train_dot[0:maxEvents]).flatten()\n",
    "threshold_best=getBestTheshold(estimator_regressor_rotPerm,X_test_dot[0:maxEvents],y_test_dot[0:maxEvents])\n",
    "\n",
    "plt.figure(1)\n",
    "bins=np.arange(-0.2,0.2,0.01)\n",
    "plt.hist(y_predict,bins=bins,histtype='step',label='test');\n",
    "plt.hist(train_predict,bins=bins,histtype='step',label='train');\n",
    "plt.legend()\n",
    "\n",
    "plt.figure(2)\n",
    "fpr, tpr, thresholds = metrics.roc_curve(y_train_dot[0:maxEvents], train_predict, pos_label=1)\n",
    "\n",
    "plt.plot(fpr,tpr)\n",
    "plt.xlabel(\"False Positive Rate\")\n",
    "\n",
    "plt.show()\n",
    "\n",
    "\n",
    "# fpr, tpr, thresholds = metrics.roc_curve(y_test_dot[0:maxEvents], y_predict, pos_label=1)\n",
    "\n",
    "# bestValidation=0\n",
    "# threshold_best=0\n",
    "# inv_dot_all=inv_dot_test[0:maxEvents]\n",
    "# for t in thresholds:\n",
    "#     y=y_predict.copy().flatten()\n",
    "#     y[y>t]=1\n",
    "#     y[y<t]=-1\n",
    "#     diff=y-y_test_dot[0:maxEvents]\n",
    "#     val=diff[diff==0].shape[0]/y.shape[0]\n",
    "#     if val>bestValidation:\n",
    "#         bestValidation=val\n",
    "#         threshold_best=t\n",
    "#         print(val,threshold_best)\n",
    "        \n",
    "#         inv_dot_wrong=inv_dot_all[diff!=0]\n",
    "#         inv_dot_correct=inv_dot_all[diff==0]\n",
    "        \n",
    "#         X_test_dot_wrong=X_test_dot[np.where(diff!=0)[0]]\n",
    "#         X_test_dot_correct=X_test_dot[np.where(diff==0)[0]]   \n",
    "    "
   ]
  },
  {
   "cell_type": "code",
   "execution_count": null,
   "id": "062aa35b",
   "metadata": {},
   "outputs": [],
   "source": []
  },
  {
   "cell_type": "code",
   "execution_count": null,
   "id": "1dde3b35",
   "metadata": {},
   "outputs": [],
   "source": []
  },
  {
   "cell_type": "code",
   "execution_count": null,
   "id": "c9d5e221",
   "metadata": {},
   "outputs": [],
   "source": []
  },
  {
   "cell_type": "code",
   "execution_count": 22,
   "id": "f49d70a2",
   "metadata": {
    "scrolled": false
   },
   "outputs": [
    {
     "data": {
      "image/png": "[encoded data removed]",
      "text/plain": [
       "<Figure size 864x432 with 1 Axes>"
      ]
     },
     "metadata": {
      "needs_background": "light"
     },
     "output_type": "display_data"
    },
    {
     "data": {
      "text/plain": [
       "<qiskit_machine_learning.algorithms.regressors.neural_network_regressor.NeuralNetworkRegressor at 0x17e834100>"
      ]
     },
     "execution_count": 22,
     "metadata": {},
     "output_type": "execute_result"
    }
   ],
   "source": [
    "estimator_qnn_rotPerm2=getEstimator(2,4)\n",
    "\n",
    "MaxIter=30\n",
    "\n",
    "loss='squared_error'\n",
    "optimizer=COBYLA(maxiter=MaxIter)\n",
    "\n",
    "estimator_regressor_rotPerm2 = NeuralNetworkRegressor(\n",
    "    estimator_qnn_rotPerm2, optimizer=optimizer ,callback=callback_graph,loss=loss\n",
    ")\n",
    "\n",
    "\n",
    "objective_func_vals = []\n",
    "plt.rcParams[\"figure.figsize\"] = (12, 6)\n",
    "plt.grid()\n",
    "\n",
    "# fit classifier to data\n",
    "X_2=X_train_dot[0:maxEvents][train_predict>threshold_best]\n",
    "y_2= y_train_dot[0:maxEvents][train_predict>threshold_best]\n",
    "\n",
    "estimator_regressor_rotPerm2.fit(X_2, y_2)"
   ]
  },
  {
   "cell_type": "code",
   "execution_count": 23,
   "id": "e5f469c9",
   "metadata": {},
   "outputs": [],
   "source": [
    "y_predict2=estimator_regressor_rotPerm2.predict(X_2).flatten()\n",
    "train_predict2=estimator_regressor_rotPerm2.predict(X_2).flatten()"
   ]
  },
  {
   "cell_type": "code",
   "execution_count": 24,
   "id": "4df27060",
   "metadata": {},
   "outputs": [
    {
     "data": {
      "text/plain": [
       "array([0.50934896, 0.52538714, 0.52300788, ..., 0.51935074, 0.51912727,\n",
       "       0.51952511])"
      ]
     },
     "execution_count": 24,
     "metadata": {},
     "output_type": "execute_result"
    }
   ],
   "source": [
    "train_predict2"
   ]
  },
  {
   "cell_type": "code",
   "execution_count": 25,
   "id": "f74499c0",
   "metadata": {},
   "outputs": [
    {
     "name": "stdout",
     "output_type": "stream",
     "text": [
      "0.23718932187787664 inf\n",
      "0.24884934028843203 0.5299214596298518\n",
      "0.2586683031604787 0.5291069506068384\n",
      "0.2598956735194845 0.5288662624355444\n",
      "0.26327094200675055 0.5287290488397753\n",
      "0.263577784596502 0.5286520835021986\n",
      "0.2786130714943234 0.5275219843695284\n",
      "0.28843203436637005 0.5269437067436158\n",
      "0.2973304694691623 0.5264259783745995\n",
      "0.29763731205891375 0.5263664943360283\n",
      "0.2988646824179196 0.5262432965758203\n",
      "0.30285363608468857 0.5259856528958338\n",
      "0.3040810064436944 0.5259175580480749\n",
      "0.30622890457195456 0.5258274634720891\n",
      "0.3142068119054925 0.5253688730488517\n",
      "0.3148204970849954 0.5253216040307356\n",
      "0.32218471923903036 0.5249121345206944\n",
      "0.33108315434182267 0.5245502829098566\n",
      "0.33261736729057995 0.5243657923840767\n",
      "0.3341515802393372 0.5242470110422167\n",
      "0.33599263577784594 0.5240956845818245\n",
      "0.3451979134703897 0.52382720042012\n",
      "0.3473458115986499 0.5237668314823671\n",
      "0.35225529303467323 0.5235886981565016\n",
      "0.3537895059834305 0.5234902964949288\n",
      "0.35992635777845966 0.5232896208379905\n",
      "0.36943847806075486 0.5229306345286658\n",
      "0.3752684872660325 0.5227396181719\n",
      "0.3780300705737956 0.5226858531985554\n",
      "0.38293955200981894 0.5225202779031995\n",
      "0.3857011353175821 0.5224324422730312\n",
      "0.386314820497085 0.5223695068500325\n",
      "0.41607855170297636 0.5216436050235138\n",
      "0.4216017183185026 0.5214542861078046\n",
      "0.42436330162626573 0.5213586665182\n",
      "0.42835225529303467 0.5212496752203131\n",
      "0.43786437557532987 0.5209838107192589\n",
      "0.4412396440625959 0.5208716398088823\n",
      "0.44246701442160175 0.5208456835154216\n",
      "0.44308069960110463 0.5208196049599771\n",
      "0.4532065050629027 0.5205734587334087\n",
      "0.45474071801166 0.5205268583696436\n",
      "0.4556612457809144 0.5205056718369576\n",
      "0.4838907640380485 0.5200312135873322\n",
      "0.512427124884934 0.5193762714905272\n",
      "0.5391224301933109 0.51880974228118\n",
      "0.5440319116293342 0.5187591106027563\n",
      "0.5535440319116294 0.5185547710724028\n",
      "0.6173672905799324 0.5175895313976223\n",
      "0.6216630868364529 0.517507819851561\n",
      "0.6385394292727831 0.5171978793330105\n",
      "0.6413010125805462 0.5171560053412172\n",
      "0.6551089291193618 0.5168528764975308\n",
      "0.656643142068119 0.5168271507542478\n",
      "0.6833384473764958 0.5163674961772489\n",
      "0.6913163547100337 0.5162577068488261\n",
      "0.6992942620435717 0.5161042682289432\n",
      "0.7131021785823872 0.5158762702881087\n",
      "0.7321264191469776 0.5156012605039217\n",
      "0.7434795949677815 0.5154238238526845\n",
      "0.7483890764038048 0.5153506483780871\n",
      "0.7499232893525621 0.5152889441038745\n",
      "0.7631175207118748 0.5150312957557381\n",
      "0.7637312058913778 0.5150130910414473\n",
      "0.7793801779687021 0.5147678228854835\n",
      "0.786744400122737 0.5145682014385152\n",
      "0.7879717704817428 0.5145476390968083\n",
      "0.8005523166615526 0.514217324963842\n",
      "0.8106781221233508 0.5138983562639381\n",
      "0.8220312979441546 0.5136307647107061\n",
      "0.8272476219699294 0.5134801085180289\n",
      "0.8306228904571955 0.5133446031136336\n",
      "0.8315434182264498 0.513272568674148\n",
      "0.8459650199447684 0.5128987641641283\n",
      "0.8640687327401043 0.5123713166669993\n",
      "0.8800245474071802 0.5118629704684442\n",
      "0.8843203436637005 0.5117346265174374\n",
      "0.8861613992022093 0.5115694008722801\n",
      "0.9008898435102792 0.5108902224656104\n",
      "0.9042651119975452 0.5106366589750434\n",
      "0.9116293341515802 0.5102241552152271\n",
      "0.9125498619208346 0.5101748682654297\n",
      "0.9171525007671065 0.5098904185069514\n",
      "0.917459343356858 0.5098215981905911\n",
      "0.9177661859466094 0.509731761707209\n",
      "0.9226756673826327 0.5093692459583564\n",
      "0.9239030377416385 0.5092404223956118\n",
      "0.9260509358698987 0.5091104170112732\n",
      "0.9312672598956735 0.5086280905399846\n",
      "0.9334151580239337 0.5085236137958205\n",
      "0.934949370972691 0.5082282011200778\n",
      "0.9361767413316968 0.5079366925871578\n",
      "0.9377109542804541 0.5076741547501558\n",
      "0.9426204357164775 0.5071927784338958\n",
      "0.9438478060754832 0.5067748577072367\n",
      "0.9450751764344891 0.5066508652401834\n",
      "0.945688861613992 0.5065700335639657\n",
      "0.9459957042037435 0.5060025339601893\n",
      "0.9463025467934949 0.5059425507497012\n"
     ]
    },
    {
     "data": {
      "image/png": "[encoded data removed]",
      "text/plain": [
       "<Figure size 864x432 with 1 Axes>"
      ]
     },
     "metadata": {
      "needs_background": "light"
     },
     "output_type": "display_data"
    },
    {
     "data": {
      "image/png": "[encoded data removed]",
      "text/plain": [
       "<Figure size 864x432 with 1 Axes>"
      ]
     },
     "metadata": {
      "needs_background": "light"
     },
     "output_type": "display_data"
    }
   ],
   "source": [
    "threshold_best2=getBestTheshold(estimator_regressor_rotPerm2,X_2,y_2)\n",
    "\n",
    "plt.figure(1)\n",
    "bins=np.arange(0,1,0.01)\n",
    "plt.hist(train_predict2,bins=bins,histtype='step',label='train');\n",
    "plt.legend()\n",
    "\n",
    "plt.figure(2)\n",
    "fpr, tpr, thresholds = metrics.roc_curve(y_2, train_predict2, pos_label=1)\n",
    "\n",
    "plt.plot(fpr,tpr)\n",
    "plt.xlabel(\"False Positive Rate\")\n",
    "\n",
    "plt.show()\n"
   ]
  },
  {
   "cell_type": "code",
   "execution_count": 42,
   "id": "711e4740",
   "metadata": {},
   "outputs": [],
   "source": [
    "#validation\n",
    "\n",
    "x_test=X_test_dot[0:maxEvents]\n",
    "y_test=y_test_dot[0:maxEvents]\n",
    "y_predict=estimator_regressor_rotPerm.predict(x_test).flatten()\n",
    "y_predict[y_predict<threshold_best]=-1\n",
    "\n",
    "x_test_split=x_test[y_predict>threshold_best]\n",
    "y_predict2=estimator_regressor_rotPerm2.predict(x_test_split).flatten()\n",
    "y_predict2[y_predict2<threshold_best2]=-1\n",
    "y_predict2[y_predict2>threshold_best2]=1\n",
    "y_predict[y_predict>threshold_best]=y_predict2\n",
    "\n"
   ]
  },
  {
   "cell_type": "code",
   "execution_count": 47,
   "id": "c161d9d7",
   "metadata": {},
   "outputs": [
    {
     "data": {
      "text/plain": [
       "array([-1., -1., -1., ...,  1., -1.,  1.])"
      ]
     },
     "execution_count": 47,
     "metadata": {},
     "output_type": "execute_result"
    }
   ],
   "source": [
    "y_predict"
   ]
  },
  {
   "cell_type": "code",
   "execution_count": 48,
   "id": "5d9f51d5",
   "metadata": {},
   "outputs": [
    {
     "data": {
      "text/plain": [
       "array([-1., -1., -1., ...,  1., -1.,  1.])"
      ]
     },
     "execution_count": 48,
     "metadata": {},
     "output_type": "execute_result"
    }
   ],
   "source": [
    "y_test"
   ]
  },
  {
   "cell_type": "code",
   "execution_count": 49,
   "id": "cee9770f",
   "metadata": {},
   "outputs": [
    {
     "data": {
      "text/plain": [
       "<matplotlib.legend.Legend at 0x28dfc3b80>"
      ]
     },
     "execution_count": 49,
     "metadata": {},
     "output_type": "execute_result"
    },
    {
     "data": {
      "image/png": "[encoded data removed]",
      "text/plain": [
       "<Figure size 864x432 with 1 Axes>"
      ]
     },
     "metadata": {
      "needs_background": "light"
     },
     "output_type": "display_data"
    }
   ],
   "source": [
    "plt.figure(1)\n",
    "bins=np.arange(-1.1,1.1,0.01)\n",
    "plt.hist(y_predict,bins=bins,histtype='step',label='test');\n",
    "plt.legend()\n",
    "\n"
   ]
  },
  {
   "cell_type": "code",
   "execution_count": 54,
   "id": "a6e1308a",
   "metadata": {},
   "outputs": [
    {
     "name": "stdout",
     "output_type": "stream",
     "text": [
      "0.9585\n"
     ]
    }
   ],
   "source": [
    "diff=y_predict-y_test\n",
    "print(diff[diff==0].shape[0]/diff.shape[0])"
   ]
  },
  {
   "cell_type": "code",
   "execution_count": null,
   "id": "51e225ca",
   "metadata": {},
   "outputs": [],
   "source": []
  },
  {
   "cell_type": "markdown",
   "id": "f4f2b830",
   "metadata": {},
   "source": [
    "No symmetry"
   ]
  },
  {
   "cell_type": "code",
   "execution_count": null,
   "id": "03892dbe",
   "metadata": {},
   "outputs": [],
   "source": [
    "nLayer_realAmplitude=2\n",
    "num_qubits=X_3.shape[1]\n",
    "n_inputParams=num_qubits\n",
    "n_params=nLayer_realAmplitude*num_qubits\n",
    "N_particles=4\n",
    "print(num_qubits)\n",
    "\n",
    "\n",
    "\n",
    "objective_func_vals = []\n",
    "plt.rcParams[\"figure.figsize\"] = (12, 6)\n",
    "\n",
    "# fit classifier to data\n",
    "estimator_classifier_baseline.fit(X_train_3[0:maxEvents],y_train_3[0:maxEvents])\n",
    "\n",
    "# return to default figsize\n",
    "# plt.rcParams[\"figure.figxsize\"] = (6, 4)\n",
    "\n",
    "\n",
    "qr = QuantumRegister(num_qubits)\n",
    "qc = QuantumCircuit(qr)\n",
    "feature_map = ZFeatureMap(feature_dimension=num_qubits,reps=1,parameter_prefix=\"inputs\")\n",
    "ansatz=RealAmplitudes(num_qubits, reps=nLayer_realAmplitude)\n",
    "\n",
    "qc.compose(feature_map, inplace=True) \n",
    "qc.compose(ansatz,inplace=True)    \n",
    "\n",
    "observable1 = SparsePauliOp.from_list([(\"Z\" * num_qubits, 1)])\n",
    "estimator_qnn = EstimatorQNN(\n",
    "    circuit=qc, observables=observable1, input_params=feature_map.parameters, weight_params=ansatz.parameters\n",
    ")\n",
    "\n",
    "estimator_classifier_baseline = NeuralNetworkClassifier(\n",
    "    estimator_qnn, optimizer=COBYLA(maxiter=MaxIter), callback=callback_graph\n",
    ")\n",
    "\n",
    "objective_func_vals = []\n",
    "plt.rcParams[\"figure.figsize\"] = (12, 6)\n",
    "\n",
    "# fit classifier to data\n",
    "estimator_classifier_baseline.fit(X_train_3[0:maxEvents],y_train_3[0:maxEvents])\n",
    "\n",
    "# score classifier\n",
    "print(\"training score = \",estimator_classifier_baseline.score(X_train_3[0:maxEvents], y_train_3[0:maxEvents]))\n",
    "print(\"test score = \",estimator_classifier_baseline.score(X_test_3[0:2*maxEvents], y_test_3[0:2*maxEvents]))\n"
   ]
  },
  {
   "cell_type": "markdown",
   "id": "95f5c6d2",
   "metadata": {},
   "source": [
    "Rotation only"
   ]
  },
  {
   "cell_type": "code",
   "execution_count": null,
   "id": "8813ffc2",
   "metadata": {},
   "outputs": [],
   "source": [
    "\n",
    "num_layers=2\n",
    "N_particles=4\n",
    "num_qubits=int((N_particles+1)*N_particles/2)\n",
    "n_params=num_layers*num_qubits\n",
    "zeroState = '0'\n",
    "for i in range(num_qubits-1):\n",
    "    zeroState+='0'\n",
    "def countZero(x):\n",
    "    return f\"{bin(x)}\".count(\"0\")%(num_qubits+1)\n",
    "\n",
    "qr_rot = QuantumRegister(num_qubits)\n",
    "qc_rot = QuantumCircuit(qr_rot)\n",
    "feature_map_rot = ZFeatureMap(feature_dimension=num_qubits,reps=1,parameter_prefix=\"inputs\")\n",
    "ansatz_rot=RealAmplitudes(num_qubits, reps=nLayer_realAmplitude)\n",
    "\n",
    "\n",
    "inputParams_index=0\n",
    "params_index=0\n",
    "qc_rot.compose(feature_map_rot, inplace=True) \n",
    "qc_rot.compose(ansatz_rot,inplace=True)    \n",
    "\n",
    "observable1_rot = SparsePauliOp.from_list([(\"Z\" * num_qubits, 1)])\n",
    "estimator_qnn_rot = EstimatorQNN(\n",
    "    circuit=qc_rot, observables=observable1_rot, input_params=feature_map_rot.parameters, weight_params=ansatz_rot.parameters\n",
    ")\n",
    "estimator_classifier_rot = NeuralNetworkClassifier(\n",
    "    estimator_qnn_rot, optimizer=COBYLA(maxiter=MaxIter), callback=callback_graph\n",
    ")\n",
    "\n",
    "objective_func_vals = []\n",
    "plt.rcParams[\"figure.figsize\"] = (12, 6)\n",
    "\n",
    "# fit classifier to data\n",
    "estimator_classifier_rot.fit(X_train_dot[0:maxEvents], y_train_dot[0:maxEvents])\n",
    "\n",
    "print(\"training score = \",estimator_classifier_rot.score(X_train_dot[0:maxEvents], y_train_dot[0:maxEvents]))\n",
    "print(\"test score = \",estimator_classifier_rot.score(X_test_dot[0:2*maxEvents], y_test_dot[0:2*maxEvents]))\n"
   ]
  },
  {
   "cell_type": "code",
   "execution_count": null,
   "id": "2e74f970",
   "metadata": {},
   "outputs": [],
   "source": []
  },
  {
   "cell_type": "code",
   "execution_count": null,
   "id": "129a8140",
   "metadata": {},
   "outputs": [],
   "source": []
  },
  {
   "cell_type": "code",
   "execution_count": null,
   "id": "3f01317a",
   "metadata": {},
   "outputs": [],
   "source": []
  },
  {
   "cell_type": "markdown",
   "id": "41636973",
   "metadata": {},
   "source": [
    "Rotation + Permutation"
   ]
  },
  {
   "cell_type": "code",
   "execution_count": null,
   "id": "7fd33aa6",
   "metadata": {},
   "outputs": [],
   "source": [
    "\n",
    "num_layers=2\n",
    "# n_inputParams=num_qubits\n",
    "n_params=num_layers*2\n",
    "N_particles=4\n",
    "num_qubits=int((N_particles-1)*N_particles/2)"
   ]
  },
  {
   "cell_type": "code",
   "execution_count": null,
   "id": "094bcbd9",
   "metadata": {},
   "outputs": [],
   "source": [
    "\n",
    "qr = QuantumRegister(num_qubits)\n",
    "qc = QuantumCircuit(qr)\n",
    "feature_map = ZFeatureMap(feature_dimension=num_qubits,reps=1,parameter_prefix=\"inputs\")\n",
    "\n",
    "\n",
    "weights = ParameterVector(\"weight\", n_params)\n",
    "print(f\"weight parameters: {[str(item) for item in weights.params]}\")\n",
    "\n",
    "inputParams_index=0\n",
    "params_index=0\n",
    "\n",
    "\n",
    "qc.compose(feature_map, inplace=True) \n",
    "   \n",
    "for layer in range(num_layers):\n",
    "    \n",
    "#         for i in range(N_particles):\n",
    "#             qc.ry(weights[params_index],i)\n",
    "            \n",
    "#         params_index += 1 \n",
    "        \n",
    "#         for i in range(N_particles):\n",
    "#             for k in np.arange(i,N_particles,1):\n",
    "#                 if i!=k:\n",
    "#                     qc.rzz(weights[params_index],i,k)\n",
    "            \n",
    "            \n",
    "#         params_index += 1\n",
    "#         for j in np.arange(N_particles,num_qubits,1):\n",
    "#             qc.ry(weights[params_index],j)\n",
    "#         params_index += 1\n",
    "        \n",
    "#         for i in np.arange(N_particles,num_qubits,1):\n",
    "#             for k in np.arange(i,num_qubits,1):\n",
    "#                 if i!=k:\n",
    "#                     qc.rzz(weights[params_index],i,k)\n",
    "                    \n",
    "#         params_index += 1\n",
    "        \n",
    "        for j in np.arange(0,num_qubits,1):\n",
    "            qc.ry(weights[params_index],j)\n",
    "        \n",
    "        params_index += 1\n",
    "        \n",
    "        for i in np.arange(0,num_qubits,1):\n",
    "            for k in np.arange(i,num_qubits,1):\n",
    "                if i!=k:\n",
    "                    qc.rzz(weights[params_index],i,k)\n",
    "                    \n",
    "        params_index += 1\n",
    "            \n",
    "        \n",
    "        qc.barrier()"
   ]
  },
  {
   "cell_type": "code",
   "execution_count": null,
   "id": "f3cce93b",
   "metadata": {
    "scrolled": true
   },
   "outputs": [],
   "source": [
    "qc.draw('mpl')"
   ]
  },
  {
   "cell_type": "code",
   "execution_count": null,
   "id": "7b810ae1",
   "metadata": {},
   "outputs": [],
   "source": [
    "MaxIter=30\n",
    "maxEvents=1000\n",
    "\n",
    "observable1 = SparsePauliOp.from_list([(\"Z\" * num_qubits, 1)])\n",
    "estimator_qnn = EstimatorQNN(\n",
    "    circuit=qc, observables=observable1, input_params=feature_map.parameters, weight_params=weights\n",
    ")\n",
    "\n",
    "estimator_classifier_rotPerm = NeuralNetworkClassifier(\n",
    "    estimator_qnn, optimizer=COBYLA(maxiter=MaxIter), callback=callback_graph\n",
    ")"
   ]
  },
  {
   "cell_type": "code",
   "execution_count": null,
   "id": "cd7e98e5",
   "metadata": {},
   "outputs": [],
   "source": []
  },
  {
   "cell_type": "code",
   "execution_count": null,
   "id": "e85bfa94",
   "metadata": {
    "scrolled": false
   },
   "outputs": [],
   "source": [
    "\n",
    "\n",
    "\n",
    "objective_func_vals = []\n",
    "plt.rcParams[\"figure.figsize\"] = (12, 6)\n",
    "\n",
    "\n",
    "# fit classifier to data\n",
    "estimator_classifier_rotPerm.fit(X_train_dot[0:maxEvents], y_train_dot[0:maxEvents])\n",
    "\n",
    "# return to default figsize\n",
    "# plt.rcParams[\"figure.figxsize\"] = (6, 4)\n",
    "# score classifier\n",
    "print(\"training score = \",estimator_classifier_rotPerm.score(X_train_dot[0:maxEvents], y_train_dot[0:maxEvents]))\n",
    "print(\"test score = \",estimator_classifier_rotPerm.score(X_test_dot[0:maxEvents], y_test_dot[0:maxEvents]))"
   ]
  },
  {
   "cell_type": "code",
   "execution_count": null,
   "id": "907ec5b2",
   "metadata": {},
   "outputs": [],
   "source": []
  },
  {
   "cell_type": "code",
   "execution_count": null,
   "id": "26548a8b",
   "metadata": {},
   "outputs": [],
   "source": []
  },
  {
   "cell_type": "code",
   "execution_count": null,
   "id": "9b5adf85",
   "metadata": {},
   "outputs": [],
   "source": [
    "#regressor:"
   ]
  },
  {
   "cell_type": "code",
   "execution_count": null,
   "id": "fe42d198",
   "metadata": {},
   "outputs": [],
   "source": [
    "\n",
    "num_layers=2\n",
    "# n_inputParams=num_qubits\n",
    "n_params=num_layers*2\n",
    "N_particles=4\n",
    "num_qubits=int((N_particles-1)*N_particles/2)\n",
    "\n",
    "qr = QuantumRegister(num_qubits)\n",
    "qc = QuantumCircuit(qr)\n",
    "feature_map = ZFeatureMap(feature_dimension=num_qubits,reps=1,parameter_prefix=\"inputs\")\n",
    "\n",
    "\n",
    "weights = ParameterVector(\"weight\", n_params)\n",
    "print(f\"weight parameters: {[str(item) for item in weights.params]}\")\n",
    "\n",
    "inputParams_index=0\n",
    "params_index=0\n",
    "\n",
    "qc.compose(feature_map, inplace=True) \n",
    "   \n",
    "for layer in range(num_layers):\n",
    "\n",
    "        for j in np.arange(0,num_qubits,1):\n",
    "            qc.ry(weights[params_index],j)\n",
    "        \n",
    "        params_index += 1\n",
    "        \n",
    "        for i in np.arange(0,num_qubits,1):\n",
    "            for k in np.arange(i,num_qubits,1):\n",
    "                if i!=k:\n",
    "                    qc.rzz(weights[params_index],i,k)\n",
    "                    \n",
    "        params_index += 1\n",
    "        \n",
    "        qc.barrier()\n",
    "\n",
    "observable1 = SparsePauliOp.from_list([(\"Z\" * num_qubits, 1)])\n",
    "estimator_qnn_rotPerm = EstimatorQNN(\n",
    "    circuit=qc, observables=observable1, input_params=feature_map.parameters, weight_params=weights\n",
    ")\n",
    "\n",
    "\n",
    "loss='squared_error'\n",
    "\n",
    "\n",
    "optimizer=COBYLA(maxiter=MaxIter)\n",
    "\n",
    "estimator_regressor_rotPerm = NeuralNetworkRegressor(\n",
    "    estimator_qnn_rotPerm, optimizer=optimizer ,callback=callback_graph,loss=loss\n",
    ")\n"
   ]
  },
  {
   "cell_type": "code",
   "execution_count": null,
   "id": "93dfd6e4",
   "metadata": {
    "scrolled": true
   },
   "outputs": [],
   "source": [
    "maxEvents=500\n",
    "MaxIter=30\n",
    "\n",
    "objective_func_vals = []\n",
    "plt.rcParams[\"figure.figsize\"] = (12, 6)\n",
    "plt.grid()\n",
    "\n",
    "# fit classifier to data\n",
    "estimator_regressor_rotPerm.fit(X_train_dot[0:maxEvents], y_train_dot[0:maxEvents])\n",
    "\n",
    "print(\"training score = \",estimator_regressor_rotPerm.score(X_train_dot[0:maxEvents], y_train_dot[0:maxEvents]))\n",
    "print(\"test score = \",estimator_regressor_rotPerm.score(X_test_dot[0:maxEvents], y_test_dot[0:maxEvents]))"
   ]
  },
  {
   "cell_type": "code",
   "execution_count": null,
   "id": "6a67066f",
   "metadata": {},
   "outputs": [],
   "source": []
  },
  {
   "cell_type": "code",
   "execution_count": null,
   "id": "9a3e6a73",
   "metadata": {},
   "outputs": [],
   "source": [
    "y_predict=estimator_regressor_rotPerm.predict(X_test_dot[0:maxEvents])\n",
    "fpr, tpr, thresholds = metrics.roc_curve(y_test_dot[0:maxEvents], y_predict, pos_label=1)\n",
    "\n",
    "bestValidation=0\n",
    "inv_dot_all=inv_dot_test[0:maxEvents]\n",
    "for t in thresholds:\n",
    "    y=y_predict.copy().flatten()\n",
    "    y[y>t]=1\n",
    "    y[y<t]=-1\n",
    "    diff=y-y_test_dot[0:maxEvents]\n",
    "    val=diff[diff==0].shape[0]/y.shape[0]\n",
    "    if val>bestValidation:\n",
    "        bestValidation=val\n",
    "        print(val)\n",
    "        \n",
    "        inv_dot_wrong=inv_dot_all[diff!=0]\n",
    "        inv_dot_correct=inv_dot_all[diff==0]\n",
    "        \n",
    "        X_test_dot_wrong=X_test_dot[np.where(diff!=0)[0]]\n",
    "        X_test_dot_correct=X_test_dot[np.where(diff==0)[0]]\n",
    "        \n",
    "    "
   ]
  },
  {
   "cell_type": "code",
   "execution_count": null,
   "id": "293fe773",
   "metadata": {},
   "outputs": [],
   "source": [
    "train_predict=estimator_regressor_rotPerm.predict(X_train_dot[0:maxEvents])\n",
    "bins=np.arange(-0.2,0.2,0.01)\n",
    "plt.hist(y_predict,bins=bins,histtype='step',label='test');\n",
    "\n",
    "plt.hist(train_predict,bins=bins,histtype='step',label='train');\n",
    "plt.legend()"
   ]
  },
  {
   "cell_type": "code",
   "execution_count": null,
   "id": "bb594f15",
   "metadata": {},
   "outputs": [],
   "source": [
    "bins=np.arange(-0.2,0.2,0.01)\n",
    "plt.hist(y_predict,bins=bins,histtype='step',label='test');\n",
    "\n",
    "plt.hist(train_predict,bins=bins,histtype='step',label='train');\n",
    "plt.legend()"
   ]
  },
  {
   "cell_type": "code",
   "execution_count": null,
   "id": "e1eb0368",
   "metadata": {},
   "outputs": [],
   "source": []
  },
  {
   "cell_type": "code",
   "execution_count": null,
   "id": "bcaf3c02",
   "metadata": {},
   "outputs": [],
   "source": []
  },
  {
   "cell_type": "code",
   "execution_count": null,
   "id": "93ba0110",
   "metadata": {},
   "outputs": [],
   "source": []
  },
  {
   "cell_type": "code",
   "execution_count": null,
   "id": "2cd8d1ca",
   "metadata": {},
   "outputs": [],
   "source": []
  },
  {
   "cell_type": "code",
   "execution_count": null,
   "id": "32ba6556",
   "metadata": {},
   "outputs": [],
   "source": [
    "plt.hist(inv_dot_wrong,bins=np.arange(0,400,10),histtype='step',label='Wrongly labeled');\n",
    "plt.hist(inv_dot_correct,bins=np.arange(0,400,10),histtype='step',label='Correctly labeled');\n",
    "plt.legend()"
   ]
  },
  {
   "cell_type": "code",
   "execution_count": null,
   "id": "9d90d3c1",
   "metadata": {
    "scrolled": false
   },
   "outputs": [],
   "source": [
    "plt.hist((X_test_dot_wrong*1593.626863377703).max(axis=1),histtype='step',bins=np.arange(0,100,5));\n",
    "plt.hist((X_test_dot_correct*1593.626863377703).max(axis=1),histtype='step',bins=np.arange(0,100,5));\n",
    "\n"
   ]
  },
  {
   "cell_type": "code",
   "execution_count": null,
   "id": "9feb0fd8",
   "metadata": {},
   "outputs": [],
   "source": [
    "plt.hist((X_test_dot_wrong*1593.626863377703).sum(axis=1),histtype='step',bins=np.arange(0,1000,5));\n",
    "plt.hist((X_test_dot_correct*1593.626863377703).sum(axis=1),histtype='step',bins=np.arange(0,1000,5));\n",
    "\n"
   ]
  },
  {
   "cell_type": "code",
   "execution_count": null,
   "id": "03fa3ba9",
   "metadata": {},
   "outputs": [],
   "source": [
    "(X_test_dot_correct*1593.626863377703)"
   ]
  },
  {
   "cell_type": "code",
   "execution_count": null,
   "id": "80996823",
   "metadata": {
    "scrolled": true
   },
   "outputs": [],
   "source": [
    "3(X_test_dot_wrong*1593.626863377703)"
   ]
  },
  {
   "cell_type": "code",
   "execution_count": null,
   "id": "16c178a2",
   "metadata": {},
   "outputs": [],
   "source": []
  },
  {
   "cell_type": "code",
   "execution_count": null,
   "id": "1a580231",
   "metadata": {},
   "outputs": [],
   "source": []
  },
  {
   "cell_type": "code",
   "execution_count": null,
   "id": "47dd115b",
   "metadata": {},
   "outputs": [],
   "source": [
    "plt.hist(y_predict,bins=np.linspace(-1,1,100));\n"
   ]
  },
  {
   "cell_type": "code",
   "execution_count": null,
   "id": "8b5647b6",
   "metadata": {},
   "outputs": [],
   "source": [
    "plt.plot(fpr,tpr)\n",
    "plt.xlabel(\"False Positive Rate\")\n",
    "plt.ylabel(\"True Positive Rate\")\n",
    "\n",
    "plt.show()"
   ]
  },
  {
   "cell_type": "code",
   "execution_count": null,
   "id": "b87f6a20",
   "metadata": {},
   "outputs": [],
   "source": []
  },
  {
   "cell_type": "code",
   "execution_count": null,
   "id": "0de9d27b",
   "metadata": {},
   "outputs": [],
   "source": []
  },
  {
   "cell_type": "code",
   "execution_count": null,
   "id": "07d1ee0b",
   "metadata": {},
   "outputs": [],
   "source": []
  },
  {
   "cell_type": "code",
   "execution_count": null,
   "id": "2220ae3a",
   "metadata": {},
   "outputs": [],
   "source": []
  },
  {
   "cell_type": "code",
   "execution_count": null,
   "id": "80ab6f83",
   "metadata": {},
   "outputs": [],
   "source": [
    "#classical 4vec"
   ]
  },
  {
   "cell_type": "code",
   "execution_count": null,
   "id": "e515d9b8",
   "metadata": {},
   "outputs": [],
   "source": [
    "from keras import utils \n",
    "from sklearn import metrics\n",
    "from sklearn.metrics import RocCurveDisplay\n",
    "import sklearn.neural_network as skl_nn\n",
    "from sklearn.model_selection import KFold\n",
    "from sklearn.model_selection import cross_validate \n"
   ]
  },
  {
   "cell_type": "code",
   "execution_count": null,
   "id": "803df5b2",
   "metadata": {},
   "outputs": [],
   "source": [
    "\n",
    "def getFourVectors_df(df):\n",
    "    v1=getFourVector(df['f_lept1_pt'],df['f_lept1_eta'],df['f_lept1_phi'])\n",
    "    v2=getFourVector(df['f_lept2_pt'],df['f_lept2_eta'],df['f_lept2_phi'])\n",
    "    v3=getFourVector(df['f_lept3_pt'],df['f_lept3_eta'],df['f_lept3_phi'])\n",
    "    v4=getFourVector(df['f_lept4_pt'],df['f_lept4_eta'],df['f_lept4_phi'])\n",
    "    \n",
    "\n",
    "    output=np.concatenate([v1,v2,v3,v4])\n",
    "    return  np.transpose(output)\n",
    "\n",
    "sig_4vec=getFourVectors_df(h4l)\n",
    "bkg_4vec=getFourVectors_df(bkg)\n",
    "\n",
    "X_4=np.concatenate([sig_4vec[0:maxDatasetEvents],bkg_4vec[0:maxDatasetEvents]])\n",
    "\n",
    "maxEvents=5000\n",
    "n_neurons=10\n",
    "\n",
    "X_onehot=np.concatenate([sig_4vec[0:maxDatasetEvents],bkg_4vec[0:maxDatasetEvents]])\n",
    "y_onehot=np.concatenate([np.ones(sig_4vec[0:maxDatasetEvents].shape[0]),np.zeros(bkg_4vec[0:maxDatasetEvents].shape[0])])\n",
    "y_onehot= utils.to_categorical(y_onehot, 2)\n",
    "X_onehot,y_onehot=shuffle(X_onehot,y_onehot,random_state=1000)\n"
   ]
  },
  {
   "cell_type": "code",
   "execution_count": null,
   "id": "5bf222f4",
   "metadata": {},
   "outputs": [],
   "source": []
  },
  {
   "cell_type": "code",
   "execution_count": null,
   "id": "73cc0b7a",
   "metadata": {},
   "outputs": [],
   "source": [
    "n_neurons_list=[2,3,4,5,10,50]\n",
    "validation_list=[]\n",
    "nParams_list=[]\n",
    "\n",
    "for n_neurons in n_neurons_list:\n",
    "    print(\"starting \",n_neurons)\n",
    "    mlp = skl_nn.MLPClassifier(hidden_layer_sizes=(n_neurons,n_neurons),early_stopping=True, \n",
    "                           validation_fraction=0.2,max_iter=10000, verbose=0, random_state=10,\n",
    "                          n_iter_no_change=1000)\n",
    "    mlp.fit(X_onehot[0:maxEvents],y_onehot[0:maxEvents])\n",
    "    best_validation=mlp.best_validation_score_ \n",
    "    n_params=X_onehot.shape[1]*n_neurons+(n_neurons**2)*3+n_neurons\n",
    "    \n",
    "    validation_list.append(best_validation)\n",
    "    nParams_list.append(n_params)\n",
    "    print(\"best_validation = \",best_validation)\n",
    "\n",
    "    print(\"finishing \",n_neurons)"
   ]
  },
  {
   "cell_type": "code",
   "execution_count": null,
   "id": "84d23a32",
   "metadata": {},
   "outputs": [],
   "source": [
    "plt.plot(nParams_list,validation_list)\n",
    "plt.xlabel('number of parameters')\n",
    "plt.ylabel('best validation score')\n",
    "plt.xscale('log')"
   ]
  },
  {
   "cell_type": "code",
   "execution_count": null,
   "id": "21771fba",
   "metadata": {},
   "outputs": [],
   "source": []
  },
  {
   "cell_type": "code",
   "execution_count": null,
   "id": "1e81ab83",
   "metadata": {},
   "outputs": [],
   "source": [
    "X_onehot.shape[1]"
   ]
  },
  {
   "cell_type": "code",
   "execution_count": null,
   "id": "4eef82ff",
   "metadata": {},
   "outputs": [],
   "source": [
    "#classical lorentz"
   ]
  },
  {
   "cell_type": "code",
   "execution_count": null,
   "id": "8e952eff",
   "metadata": {},
   "outputs": [],
   "source": [
    "X_dot_onehot=np.concatenate([sig_dot[0:maxDatasetEvents],bkg_dot[0:maxDatasetEvents]])\n",
    "y_dot_onehot=np.concatenate([np.ones(sig_4vec[0:maxDatasetEvents].shape[0]),np.zeros(bkg_4vec[0:maxDatasetEvents].shape[0])])\n",
    "\n",
    "X_dot_onehot,y_dot_onehot=shuffle(X_dot_onehot,y_dot_onehot,random_state=1000)"
   ]
  },
  {
   "cell_type": "code",
   "execution_count": null,
   "id": "7393d93c",
   "metadata": {},
   "outputs": [],
   "source": [
    "#single:\n",
    "\n",
    "\n",
    "n_neurons_list=[1]\n",
    "\n",
    "validation_list=[]\n",
    "validation_list_error=[]\n",
    "nParams_list=[]\n",
    "\n",
    "for i in range(len(n_neurons_list)):\n",
    "    \n",
    "    tmp_validation_list=[]\n",
    "    for j in range(10):\n",
    "        mlp = skl_nn.MLPClassifier(hidden_layer_sizes=(n_neurons_list[i]),early_stopping=True, \n",
    "                                   validation_fraction=0.2,max_iter=10000, verbose=0,\n",
    "                                  n_iter_no_change=1000)\n",
    "        mlp.fit(X_dot_onehot[0:maxEvents],y_dot_onehot[0:maxEvents])\n",
    "        best_validation=mlp.best_validation_score_ \n",
    "        tmp_validation_list.append(best_validation)\n",
    "        \n",
    "    tmp_validation_list=np.array(tmp_validation_list)\n",
    "    n_params=X_onehot.shape[1]*n_neurons_list[i]+n_neurons_list[i]\n",
    "    \n",
    "    validation_list.append(tmp_validation_list.mean())\n",
    "    validation_list_error.append(tmp_validation_list.std())\n",
    "    nParams_list.append(n_params)\n",
    "    print(\"nparams =\",n_params,\"best_validation = \",tmp_validation_list.mean(),\"error = \",tmp_validation_list.std())\n",
    "\n",
    "    print(\"finishing \",n_neurons)"
   ]
  },
  {
   "cell_type": "code",
   "execution_count": null,
   "id": "0b216c39",
   "metadata": {},
   "outputs": [],
   "source": []
  },
  {
   "cell_type": "code",
   "execution_count": null,
   "id": "ffa1c979",
   "metadata": {
    "scrolled": false
   },
   "outputs": [],
   "source": [
    "#One layer:\n",
    "\n",
    "\n",
    "n_neurons_list=[2,3,4,5,10]\n",
    "\n",
    "validation_list=[]\n",
    "validation_list_error=[]\n",
    "nParams_list=[]\n",
    "\n",
    "for i in range(len(n_neurons_list)):\n",
    "    \n",
    "    tmp_validation_list=[]\n",
    "    for j in range(10):\n",
    "        mlp = skl_nn.MLPClassifier(hidden_layer_sizes=(n_neurons_list[i]),early_stopping=True, \n",
    "                                   validation_fraction=0.2,max_iter=10000, verbose=0,\n",
    "                                  n_iter_no_change=2000)\n",
    "        mlp.fit(X_dot_onehot[0:maxEvents],y_dot_onehot[0:maxEvents])\n",
    "        best_validation=mlp.best_validation_score_ \n",
    "        tmp_validation_list.append(best_validation)\n",
    "        \n",
    "    tmp_validation_list=np.array(tmp_validation_list)\n",
    "    n_params=X_onehot.shape[1]*n_neurons_list[i]+n_neurons_list[i]\n",
    "    \n",
    "    validation_list.append(tmp_validation_list.mean())\n",
    "    validation_list_error.append(tmp_validation_list.std())\n",
    "    nParams_list.append(n_params)\n",
    "    print(\"nparams =\",n_params,\"best_validation = \",tmp_validation_list.mean(),\"error = \",tmp_validation_list.std())\n",
    "\n",
    "    print(\"finishing \",n_neurons)"
   ]
  },
  {
   "cell_type": "code",
   "execution_count": null,
   "id": "88141271",
   "metadata": {},
   "outputs": [],
   "source": []
  },
  {
   "cell_type": "code",
   "execution_count": null,
   "id": "fbfbaa0e",
   "metadata": {},
   "outputs": [],
   "source": [
    "#twolayers:\n",
    "\n",
    "\n",
    "n_neurons_list=[1,2,3,4,5]\n",
    "\n",
    "validation_list=[]\n",
    "validation_list_error=[]\n",
    "nParams_list=[]\n",
    "\n",
    "for i in range(len(n_neurons_list)):\n",
    "    \n",
    "    tmp_validation_list=[]\n",
    "    for j in range(10):\n",
    "        mlp = skl_nn.MLPClassifier(hidden_layer_sizes=(2,n_neurons_list[i]),early_stopping=True, \n",
    "                                   validation_fraction=0.2,max_iter=10000, verbose=0,\n",
    "                                  n_iter_no_change=2000)\n",
    "        mlp.fit(X_dot_onehot[0:maxEvents],y_dot_onehot[0:maxEvents])\n",
    "        best_validation=mlp.best_validation_score_ \n",
    "        tmp_validation_list.append(best_validation)\n",
    "        \n",
    "    tmp_validation_list=np.array(tmp_validation_list)\n",
    "    n_params=n_params=X_onehot.shape[1]*2+2+(n_neurons_list[i]*2)\n",
    "    \n",
    "    validation_list.append(tmp_validation_list.mean())\n",
    "    validation_list_error.append(tmp_validation_list.std())\n",
    "    nParams_list.append(n_params)\n",
    "    print(\"nparams =\",n_params,\"best_validation = \",tmp_validation_list.mean(),\"error = \",tmp_validation_list.std())\n",
    "\n",
    "    print(\"finishing \",n_neurons)"
   ]
  },
  {
   "cell_type": "code",
   "execution_count": null,
   "id": "daca9e19",
   "metadata": {},
   "outputs": [],
   "source": []
  },
  {
   "cell_type": "code",
   "execution_count": null,
   "id": "8fa80de7",
   "metadata": {},
   "outputs": [],
   "source": []
  }
 ],
 "metadata": {
  "kernelspec": {
   "display_name": "qc",
   "language": "python",
   "name": "qc"
  },
  "language_info": {
   "codemirror_mode": {
    "name": "ipython",
    "version": 3
   },
   "file_extension": ".py",
   "mimetype": "text/x-python",
   "name": "python",
   "nbconvert_exporter": "python",
   "pygments_lexer": "ipython3",
   "version": "3.10.4"
  }
 },
 "nbformat": 4,
 "nbformat_minor": 5
}
