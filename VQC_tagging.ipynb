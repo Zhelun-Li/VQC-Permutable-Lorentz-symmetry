{
 "cells": [
  {
   "cell_type": "code",
   "execution_count": 5,
   "id": "398800cc",
   "metadata": {},
   "outputs": [],
   "source": [
    "import numpy as np\n",
    "from qiskit import QuantumCircuit\n",
    "from qiskit.circuit import Parameter\n",
    "import numpy as np\n",
    "from qiskit.quantum_info.operators import Operator, Pauli\n",
    "from qiskit.extensions import RXGate, RZGate\n",
    "from qiskit.circuit import QuantumRegister,ClassicalRegister\n",
    "from qiskit import  execute, BasicAer\n",
    "import qiskit.quantum_info as qi\n",
    "import scipy.optimize \n",
    "import random\n",
    "import matplotlib.pyplot as plt\n",
    "import pickle\n",
    "import os \n",
    "import h5py \n",
    "import pandas as pd\n",
    "import uproot\n",
    "from sklearn.model_selection import train_test_split\n",
    "\n",
    "from header import produceDataset"
   ]
  },
  {
   "cell_type": "code",
   "execution_count": 6,
   "id": "4a13d200",
   "metadata": {},
   "outputs": [],
   "source": [
    "maxParticles=7\n",
    "\n",
    "Dir=\"/Users/lizhelun/Desktop/QC/Datasets/JetClass_Pythia_train_100M_part0/\"\n",
    "\n",
    "datasetList=[\"HToBB_000\",\"ZJetsToNuNu_000\"\n",
    "            ]"
   ]
  },
  {
   "cell_type": "code",
   "execution_count": 7,
   "id": "1d6e1cf1",
   "metadata": {},
   "outputs": [],
   "source": [
    "jetVariableList=['jet_pt',\n",
    " 'jet_eta',\n",
    " 'jet_phi',\n",
    " 'jet_energy',\n",
    " 'jet_nparticles',\n",
    " 'jet_sdmass',\n",
    " 'jet_tau1',\n",
    " 'jet_tau2',\n",
    " 'jet_tau3',\n",
    " 'jet_tau4']\n",
    "\n",
    "labelVariableList=[\n",
    " 'label_QCD',\n",
    " 'label_Hbb',\n",
    " 'label_Hcc',\n",
    " 'label_Hgg',\n",
    " 'label_H4q',\n",
    " 'label_Hqql',\n",
    " 'label_Zqq',\n",
    " 'label_Wqq',\n",
    " 'label_Tbqq',\n",
    " 'label_Tbl']\n",
    "\n",
    "partVariableList=['part_px',\n",
    " 'part_py',\n",
    " 'part_pz',\n",
    " 'part_energy',\n",
    " \n",
    "  ]\n",
    "# 'part_deta',\n",
    "#  'part_dphi',\n",
    "#  'part_charge',\n",
    "#  'part_isChargedHadron',\n",
    "#  'part_isNeutralHadron',\n",
    "#  'part_isPhoton',\n",
    "#  'part_isElectron',\n",
    "#  'part_isMuon']\n"
   ]
  },
  {
   "cell_type": "code",
   "execution_count": null,
   "id": "263a7643",
   "metadata": {},
   "outputs": [],
   "source": []
  },
  {
   "cell_type": "code",
   "execution_count": 8,
   "id": "7894b7c9",
   "metadata": {},
   "outputs": [
    {
     "name": "stdout",
     "output_type": "stream",
     "text": [
      "start preparing HToBB_000\n"
     ]
    },
    {
     "ename": "NameError",
     "evalue": "name 'uproot' is not defined",
     "output_type": "error",
     "traceback": [
      "\u001b[0;31m---------------------------------------------------------------------------\u001b[0m",
      "\u001b[0;31mNameError\u001b[0m                                 Traceback (most recent call last)",
      "Input \u001b[0;32mIn [8]\u001b[0m, in \u001b[0;36m<cell line: 1>\u001b[0;34m()\u001b[0m\n\u001b[0;32m----> 1\u001b[0m jets,labels,p,p_keys\u001b[38;5;241m=\u001b[39m\u001b[43mproduceDataset\u001b[49m\u001b[43m(\u001b[49m\u001b[43mdatasetList\u001b[49m\u001b[43m[\u001b[49m\u001b[38;5;241;43m0\u001b[39;49m\u001b[43m]\u001b[49m\u001b[43m,\u001b[49m\u001b[43mDir\u001b[49m\u001b[43m,\u001b[49m\u001b[43mjetVariableList\u001b[49m\u001b[38;5;241;43m=\u001b[39;49m\u001b[43mjetVariableList\u001b[49m\u001b[43m,\u001b[49m\u001b[43mlabelVariableList\u001b[49m\u001b[38;5;241;43m=\u001b[39;49m\u001b[43mlabelVariableList\u001b[49m\u001b[43m,\u001b[49m\u001b[43mpartVariableList\u001b[49m\u001b[38;5;241;43m=\u001b[39;49m\u001b[43mpartVariableList\u001b[49m\u001b[43m,\u001b[49m\u001b[43mmaxParticles\u001b[49m\u001b[38;5;241;43m=\u001b[39;49m\u001b[43mmaxParticles\u001b[49m\u001b[43m)\u001b[49m\n\u001b[1;32m      2\u001b[0m \u001b[38;5;28;01mfor\u001b[39;00m i \u001b[38;5;129;01min\u001b[39;00m \u001b[38;5;28mrange\u001b[39m(\u001b[38;5;241m1\u001b[39m,\u001b[38;5;28mlen\u001b[39m(datasetList)):\n\u001b[1;32m      3\u001b[0m     tmp_jets,tmp_labels,tmp_p,tmp_p_keys\u001b[38;5;241m=\u001b[39mproduceDataset(datasetList[i],Dir,jetVariableList\u001b[38;5;241m=\u001b[39mjetVariableList,labelVariableList\u001b[38;5;241m=\u001b[39mlabelVariableList,partVariableList\u001b[38;5;241m=\u001b[39mpartVariableList,maxParticles\u001b[38;5;241m=\u001b[39mmaxParticles)\n",
      "File \u001b[0;32m~/Desktop/QC/VQC-Permutable-Lorentz-symmetry/header.py:4\u001b[0m, in \u001b[0;36mproduceDataset\u001b[0;34m(inputFileName, path, jetVariableList, labelVariableList, partVariableList, maxParticles)\u001b[0m\n\u001b[1;32m      1\u001b[0m \u001b[38;5;28;01mdef\u001b[39;00m \u001b[38;5;21mproduceDataset\u001b[39m(inputFileName,path,jetVariableList,labelVariableList,partVariableList,maxParticles\u001b[38;5;241m=\u001b[39m\u001b[38;5;241m10\u001b[39m):\n\u001b[1;32m      3\u001b[0m     \u001b[38;5;28mprint\u001b[39m(\u001b[38;5;124m\"\u001b[39m\u001b[38;5;124mstart preparing\u001b[39m\u001b[38;5;124m\"\u001b[39m,inputFileName)\n\u001b[0;32m----> 4\u001b[0m     file \u001b[38;5;241m=\u001b[39m \u001b[43muproot\u001b[49m\u001b[38;5;241m.\u001b[39mopen(path\u001b[38;5;241m+\u001b[39minputFileName\u001b[38;5;241m+\u001b[39m\u001b[38;5;124m\"\u001b[39m\u001b[38;5;124m.root\u001b[39m\u001b[38;5;124m\"\u001b[39m)\n\u001b[1;32m      5\u001b[0m     tree\u001b[38;5;241m=\u001b[39mfile[\u001b[38;5;124m'\u001b[39m\u001b[38;5;124mtree\u001b[39m\u001b[38;5;124m'\u001b[39m]\n\u001b[1;32m      7\u001b[0m     \u001b[38;5;28mprint\u001b[39m(\u001b[38;5;124m\"\u001b[39m\u001b[38;5;124mpreparing jets\u001b[39m\u001b[38;5;124m\"\u001b[39m)\n",
      "\u001b[0;31mNameError\u001b[0m: name 'uproot' is not defined"
     ]
    }
   ],
   "source": [
    "jets,labels,p,p_keys=produceDataset(datasetList[0],Dir,jetVariableList=jetVariableList,labelVariableList=labelVariableList,partVariableList=partVariableList,maxParticles=maxParticles)\n",
    "for i in range(1,len(datasetList)):\n",
    "    tmp_jets,tmp_labels,tmp_p,tmp_p_keys=produceDataset(datasetList[i],Dir,jetVariableList=jetVariableList,labelVariableList=labelVariableList,partVariableList=partVariableList,maxParticles=maxParticles)\n",
    "    jets=pd.concat([jets,tmp_jets],ignore_index=True)\n",
    "    labels=pd.concat([labels,tmp_labels],ignore_index=True)\n",
    "    p=np.concatenate([p,tmp_p])\n",
    "    "
   ]
  },
  {
   "cell_type": "code",
   "execution_count": 77,
   "id": "c6f913e7",
   "metadata": {},
   "outputs": [],
   "source": [
    "y=1-labels['label_QCD']"
   ]
  },
  {
   "cell_type": "code",
   "execution_count": 78,
   "id": "291907ec",
   "metadata": {},
   "outputs": [],
   "source": [
    "\n",
    "train_ratio=0.6\n",
    "\n",
    "X_train, X_valTest, y_train, y_valTest = train_test_split(p.copy(), y.copy(), train_size=train_ratio, random_state=100)\n",
    "X_val, X_test, y_val, y_test = train_test_split(X_valTest, y_valTest, test_size=0.5, random_state=200)\n",
    "\n"
   ]
  },
  {
   "cell_type": "code",
   "execution_count": 79,
   "id": "7cefa458",
   "metadata": {},
   "outputs": [
    {
     "data": {
      "text/plain": [
       "(120000, 7, 4)"
      ]
     },
     "execution_count": 79,
     "metadata": {},
     "output_type": "execute_result"
    }
   ],
   "source": [
    "X_train.shape"
   ]
  },
  {
   "cell_type": "code",
   "execution_count": 80,
   "id": "c03075ed",
   "metadata": {},
   "outputs": [
    {
     "data": {
      "text/plain": [
       "(40000, 7, 4)"
      ]
     },
     "execution_count": 80,
     "metadata": {},
     "output_type": "execute_result"
    }
   ],
   "source": [
    "X_val.shape"
   ]
  },
  {
   "cell_type": "code",
   "execution_count": 81,
   "id": "467dc292",
   "metadata": {},
   "outputs": [
    {
     "data": {
      "text/plain": [
       "(40000, 7, 4)"
      ]
     },
     "execution_count": 81,
     "metadata": {},
     "output_type": "execute_result"
    }
   ],
   "source": [
    "X_test.shape"
   ]
  },
  {
   "cell_type": "code",
   "execution_count": 82,
   "id": "46f920f8",
   "metadata": {},
   "outputs": [
    {
     "data": {
      "text/plain": [
       "array([[164.68841553, 105.63881683, -27.56221199, 197.58929443],\n",
       "       [111.8979187 ,  71.22538757, -18.93469238, 133.98783875],\n",
       "       [ 98.03250122,  63.36462402, -14.60273361, 117.63794708],\n",
       "       [ 76.19268799,  48.04338074, -12.51373005,  90.94012451],\n",
       "       [ 31.39674187,  20.99783134,  -5.3654561 ,  38.16192627],\n",
       "       [ 12.76003456,   8.51772404,  -2.33521223,  15.51848316],\n",
       "       [  7.37678432,   4.94922495,  -1.5222708 ,   9.0127182 ]])"
      ]
     },
     "execution_count": 82,
     "metadata": {},
     "output_type": "execute_result"
    }
   ],
   "source": [
    "X_train[0]"
   ]
  },
  {
   "cell_type": "code",
   "execution_count": null,
   "id": "988b8ebd",
   "metadata": {},
   "outputs": [],
   "source": []
  },
  {
   "cell_type": "code",
   "execution_count": null,
   "id": "a5fbd16f",
   "metadata": {},
   "outputs": [],
   "source": []
  }
 ],
 "metadata": {
  "kernelspec": {
   "display_name": "qc",
   "language": "python",
   "name": "qc"
  },
  "language_info": {
   "codemirror_mode": {
    "name": "ipython",
    "version": 3
   },
   "file_extension": ".py",
   "mimetype": "text/x-python",
   "name": "python",
   "nbconvert_exporter": "python",
   "pygments_lexer": "ipython3",
   "version": "3.10.4"
  }
 },
 "nbformat": 4,
 "nbformat_minor": 5
}
