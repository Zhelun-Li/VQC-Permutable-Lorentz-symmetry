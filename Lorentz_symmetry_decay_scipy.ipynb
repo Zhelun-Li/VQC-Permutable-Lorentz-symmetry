{
 "cells": [
  {
   "cell_type": "code",
   "execution_count": 1,
   "id": "51a78568",
   "metadata": {},
   "outputs": [],
   "source": [
    "import numpy as np\n",
    "from qiskit import QuantumCircuit\n",
    "from qiskit.circuit import Parameter\n",
    "import numpy as np\n",
    "from qiskit.quantum_info.operators import Operator, Pauli\n",
    "from qiskit.extensions import RXGate, RZGate\n",
    "from qiskit.circuit import QuantumRegister,ClassicalRegister\n",
    "from qiskit import  execute, BasicAer\n",
    "import qiskit.quantum_info as qi\n",
    "import scipy.optimize \n",
    "import random\n",
    "import matplotlib.pyplot as plt\n",
    "import pickle\n",
    "import os \n",
    "import h5py \n",
    "import pandas as pd\n",
    "import uproot\n",
    "from sklearn.model_selection import train_test_split\n",
    "from sklearn.utils import shuffle\n",
    "import time\n",
    "\n",
    "\n",
    "from qiskit.primitives import Sampler\n",
    "from qiskit.circuit.library import ZZFeatureMap\n",
    "from qiskit_algorithms.optimizers import COBYLA\n",
    "from IPython.display import clear_output\n",
    "from qiskit import  execute, BasicAer\n",
    "from qiskit_machine_learning.circuit.library import RawFeatureVector\n",
    "\n",
    "from qiskit_machine_learning.algorithms.classifiers import VQC\n",
    "from qiskit.circuit.library import RealAmplitudes,EfficientSU2\n",
    "from sklearn.utils import shuffle\n",
    "import pandas as pd\n",
    "\n",
    "from sklearn import metrics\n",
    "from sklearn.metrics import RocCurveDisplay\n"
   ]
  },
  {
   "cell_type": "code",
   "execution_count": 2,
   "id": "3e42ba93",
   "metadata": {},
   "outputs": [],
   "source": [
    "def callback_graph(weights, obj_func_eval):\n",
    "    print(len(objective_func_vals))\n",
    "    clear_output(wait=True)\n",
    "    objective_func_vals.append(obj_func_eval)\n",
    "    plt.title(\"Objective function value against iteration\")\n",
    "    plt.xlabel(\"Iteration\")\n",
    "    plt.ylabel(\"Objective function value\")\n",
    "    plt.plot(range(len(objective_func_vals)), objective_func_vals)\n",
    "    plt.show()\n",
    "    \n",
    "    \n",
    "def produceDataset(inputFileName,path,treeName):\n",
    "    \n",
    "    print(\"start preparing\",inputFileName)\n",
    "    file = uproot.open(path+inputFileName+\".root\")\n",
    "    tree=file[treeName]\n",
    "    VariableList=tree.keys()\n",
    "    \n",
    "\n",
    "    df = tree.arrays(filter_name=VariableList[0],library=\"pd\") \n",
    "    for i in range(1,len(VariableList)):\n",
    "        df=df.join(tree.arrays(filter_name=VariableList[i],library=\"pd\"))\n",
    "\n",
    "\n",
    "\n",
    "    return df\n",
    "\n",
    "def getFourVector(pt,eta,phi):\n",
    "   \n",
    "    m=1 # precision issues. not sure why but m=1 makes that no negative invariant mass square.\n",
    "    px=pt*np.cos(phi)\n",
    "    py=pt*np.sin(phi)\n",
    "    pz=pt*np.sinh(eta)\n",
    "    E=np.sqrt(px**2+py**2+pz**2+m**2)\n",
    "    return np.array([E,px,py,pz], dtype=np.float64)\n",
    "\n",
    "def getInvM(v):\n",
    "    m2=v[0]**2-v[1]**2-v[2]**2-v[3]**2\n",
    "    \n",
    "    return np.sqrt(m2)\n",
    "\n",
    "def getMass(df):\n",
    "    v1=getFourVector(df['f_lept1_pt'],df['f_lept1_eta'],df['f_lept1_phi'])\n",
    "    v2=getFourVector(df['f_lept2_pt'],df['f_lept2_eta'],df['f_lept2_phi'])\n",
    "    v3=getFourVector(df['f_lept3_pt'],df['f_lept3_eta'],df['f_lept3_phi'])\n",
    "    v4=getFourVector(df['f_lept4_pt'],df['f_lept4_eta'],df['f_lept4_phi'])\n",
    "    v=v1+v2+v3+v4\n",
    "    m_reco=getInvM(v)\n",
    "    return m_reco\n",
    "\n",
    "def getThreeVectors_df(df):\n",
    "    v1=getFourVector(df['f_lept1_pt'],df['f_lept1_eta'],df['f_lept1_phi'])\n",
    "    v2=getFourVector(df['f_lept2_pt'],df['f_lept2_eta'],df['f_lept2_phi'])\n",
    "    v3=getFourVector(df['f_lept3_pt'],df['f_lept3_eta'],df['f_lept3_phi'])\n",
    "    v4=getFourVector(df['f_lept4_pt'],df['f_lept4_eta'],df['f_lept4_phi'])\n",
    "    \n",
    "\n",
    "    output=np.concatenate([v1[1:],v2[1:],v3[1:],v4[1:]])\n",
    "    return  np.transpose(output)\n",
    "\n",
    "def getDot_df(df):\n",
    "    v1=getFourVector(df['f_lept1_pt'],df['f_lept1_eta'],df['f_lept1_phi'])\n",
    "    v2=getFourVector(df['f_lept2_pt'],df['f_lept2_eta'],df['f_lept2_phi'])\n",
    "    v3=getFourVector(df['f_lept3_pt'],df['f_lept3_eta'],df['f_lept3_phi'])\n",
    "    v4=getFourVector(df['f_lept4_pt'],df['f_lept4_eta'],df['f_lept4_phi'])\n",
    "    \n",
    "    dot=[]\n",
    "\n",
    "#     dot.append(getInvM(v1+v1))\n",
    "#     dot.append(getInvM(v2+v2))\n",
    "#     dot.append(getInvM(v3+v3))\n",
    "#     dot.append(getInvM(v4+v4))\n",
    "    \n",
    "    dot.append(getInvM(v1+v2))\n",
    "    dot.append(getInvM(v1+v3))\n",
    "    dot.append(getInvM(v1+v4))\n",
    "    dot.append(getInvM(v2+v3))\n",
    "    dot.append(getInvM(v2+v4))\n",
    "    dot.append(getInvM(v3+v4))\n",
    "    dot=np.array(dot)\n",
    "    \n",
    "\n",
    "    return np.transpose(dot)\n",
    "    "
   ]
  },
  {
   "cell_type": "code",
   "execution_count": null,
   "id": "52c3396b",
   "metadata": {},
   "outputs": [],
   "source": []
  },
  {
   "cell_type": "code",
   "execution_count": 3,
   "id": "f69382fe",
   "metadata": {},
   "outputs": [
    {
     "name": "stdout",
     "output_type": "stream",
     "text": [
      "nShots =  4096\n"
     ]
    }
   ],
   "source": [
    "\n",
    "nShots=2**12\n",
    "nMaxIter=300\n",
    "maxDatasetEvents=5000\n",
    "\n",
    "Dir=\"/Users/lizhelun/Desktop/QC/Datasets/\"\n",
    "\n",
    "h4l_VV=\"ntuple_4mu_VV\"\n",
    "h4l_bkg=\"ntuple_4mu_bkg\"\n",
    "\n",
    "print(\"nShots = \",nShots)"
   ]
  },
  {
   "cell_type": "code",
   "execution_count": 4,
   "id": "e8b1405c",
   "metadata": {},
   "outputs": [
    {
     "name": "stdout",
     "output_type": "stream",
     "text": [
      "start preparing ntuple_4mu_VV\n",
      "start preparing ntuple_4mu_bkg\n"
     ]
    }
   ],
   "source": [
    "h4l=produceDataset(h4l_VV,Dir,'HZZ4LeptonsAnalysisReduced')\n",
    "bkg=produceDataset(h4l_bkg,Dir,'HZZ4LeptonsAnalysisReduced')"
   ]
  },
  {
   "cell_type": "code",
   "execution_count": 5,
   "id": "fbf1a62d",
   "metadata": {},
   "outputs": [],
   "source": [
    "m_reco_signal=getMass(h4l)\n",
    "m_reco_bkg=getMass(bkg)"
   ]
  },
  {
   "cell_type": "code",
   "execution_count": 6,
   "id": "a4ad29e4",
   "metadata": {},
   "outputs": [
    {
     "data": {
      "text/plain": [
       "<matplotlib.legend.Legend at 0x28315a6e0>"
      ]
     },
     "execution_count": 6,
     "metadata": {},
     "output_type": "execute_result"
    },
    {
     "data": {
      "text/plain": [
       "<Figure size 432x288 with 0 Axes>"
      ]
     },
     "metadata": {},
     "output_type": "display_data"
    },
    {
     "data": {
      "image/png": "[encoded data removed]",
      "text/plain": [
       "<Figure size 1152x648 with 1 Axes>"
      ]
     },
     "metadata": {
      "needs_background": "light"
     },
     "output_type": "display_data"
    }
   ],
   "source": [
    "m_reco_signal=getMass(h4l)\n",
    "m_reco_bkg=getMass(bkg)\n",
    "\n",
    "LabelSize=30\n",
    "plt.figure(1)\n",
    "plt.figure(figsize=(16,9))\n",
    "plt.hist(m_reco_signal,bins=np.arange(0,500,10),histtype='step',label='Signal');\n",
    "plt.hist(m_reco_bkg,bins=np.arange(0,500,10),histtype='step',label='Background');\n",
    "\n",
    "plt.xlabel('Invariant mass',fontsize=LabelSize)\n",
    "plt.ylabel('Events',fontsize=LabelSize)\n",
    "plt.tick_params(axis='both', which='major', labelsize=LabelSize)\n",
    "plt.legend(fontsize=LabelSize)"
   ]
  },
  {
   "cell_type": "code",
   "execution_count": 7,
   "id": "9bc1a176",
   "metadata": {},
   "outputs": [],
   "source": [
    "sig_3vec=getThreeVectors_df(h4l)\n",
    "bkg_3vec=getThreeVectors_df(bkg)"
   ]
  },
  {
   "cell_type": "code",
   "execution_count": 8,
   "id": "d65b286f",
   "metadata": {},
   "outputs": [],
   "source": [
    "sig_dot=getDot_df(h4l)\n",
    "bkg_dot=getDot_df(bkg)"
   ]
  },
  {
   "cell_type": "code",
   "execution_count": 9,
   "id": "2dbc79c5",
   "metadata": {},
   "outputs": [],
   "source": [
    "def split(X,y,normalize=True):\n",
    "    train_ratio=0.6\n",
    "    X_train, X_valTest, y_train, y_valTest = train_test_split(X.copy(), y.copy(), train_size=train_ratio, random_state=100)\n",
    "    X_val, X_test, y_val, y_test = train_test_split(X_valTest, y_valTest, test_size=0.5, random_state=200)\n",
    "    #Normalizing everythings:\n",
    "    if normalize:\n",
    "        Max=X_train.max()\n",
    "        X_train=np.pi*2*X_train/Max\n",
    "        X_val=np.pi*2*X_val/Max\n",
    "        X_test=np.pi*2*X_test/Max\n",
    "        \n",
    "    \n",
    "    return X_train,y_train,X_val,y_val,X_test,y_test"
   ]
  },
  {
   "cell_type": "code",
   "execution_count": 10,
   "id": "9a6f86f2",
   "metadata": {},
   "outputs": [],
   "source": [
    "X_3=np.concatenate([sig_3vec[0:maxDatasetEvents],bkg_3vec[0:maxDatasetEvents]])\n",
    "y_3=np.concatenate([np.ones(sig_3vec[0:maxDatasetEvents].shape[0]),-1*np.ones(bkg_3vec[0:maxDatasetEvents].shape[0])])\n",
    "X_3,y_3=shuffle(X_3,y_3,random_state=1000)\n",
    "\n",
    "X_train_3,y_train_3,X_val_3,y_val_3,X_test_3,y_test_3=split(X_3,y_3)"
   ]
  },
  {
   "cell_type": "code",
   "execution_count": 11,
   "id": "983a76d9",
   "metadata": {},
   "outputs": [],
   "source": [
    "X_dot=np.concatenate([sig_dot[0:maxDatasetEvents],bkg_dot[0:maxDatasetEvents]])\n",
    "y_dot=np.concatenate([np.ones(sig_dot[0:maxDatasetEvents].shape[0]),-1*np.ones(bkg_dot[0:maxDatasetEvents].shape[0])])\n",
    "X_dot,y_dot=shuffle(X_dot,y_dot,random_state=1000)\n",
    "\n",
    "X_train_dot,y_train_dot,X_val_dot,y_val_dot,X_test_dot,y_test_dot=split(X_dot,y_dot)"
   ]
  },
  {
   "cell_type": "code",
   "execution_count": 12,
   "id": "db082fa7",
   "metadata": {},
   "outputs": [],
   "source": [
    "inv_dot=np.concatenate([m_reco_signal[0:maxDatasetEvents],m_reco_bkg[0:maxDatasetEvents]])\n",
    "inv_dot=shuffle(inv_dot,random_state=1000)\n",
    "inv_dot_train,inv_doty_train_3,inv_dot_val,inv_doty_val,inv_dot_test,inv_doty_test_3=split(inv_dot,y_3,normalize=False)"
   ]
  },
  {
   "cell_type": "code",
   "execution_count": 13,
   "id": "09fc508a",
   "metadata": {},
   "outputs": [],
   "source": [
    "from qiskit.circuit.library import ZZFeatureMap,ZFeatureMap\n",
    "from qiskit.circuit import ParameterVector\n",
    "\n",
    "from qiskit.quantum_info import SparsePauliOp\n",
    "\n",
    "from qiskit_machine_learning.neural_networks import EstimatorQNN\n",
    "\n",
    "from qiskit_machine_learning.algorithms.classifiers import NeuralNetworkClassifier, VQC\n",
    "from qiskit_machine_learning.algorithms.regressors import NeuralNetworkRegressor, VQR\n"
   ]
  },
  {
   "cell_type": "code",
   "execution_count": null,
   "id": "e7118219",
   "metadata": {},
   "outputs": [],
   "source": []
  },
  {
   "cell_type": "code",
   "execution_count": null,
   "id": "d4c4632b",
   "metadata": {},
   "outputs": [],
   "source": []
  },
  {
   "cell_type": "code",
   "execution_count": 14,
   "id": "216a3d67",
   "metadata": {},
   "outputs": [],
   "source": [
    "#regressor:\n",
    "def getEstimator_rotPerm(num_layers,N_particles):\n",
    "\n",
    "    n_params=num_layers*2\n",
    "    num_qubits=int((N_particles-1)*N_particles/2)\n",
    "\n",
    "    qr = QuantumRegister(num_qubits)\n",
    "    qc = QuantumCircuit(qr)\n",
    "    feature_map = ZFeatureMap(feature_dimension=num_qubits,reps=1,parameter_prefix=\"inputs\")\n",
    "    weights = ParameterVector(\"weight\", n_params)\n",
    "    print(f\"weight parameters: {[str(item) for item in weights.params]}\")\n",
    "\n",
    "    inputParams_index=0\n",
    "    params_index=0\n",
    "\n",
    "    qc.compose(feature_map, inplace=True) \n",
    "\n",
    "    for layer in range(num_layers):\n",
    "\n",
    "            for j in np.arange(0,num_qubits,1):\n",
    "                qc.ry(weights[params_index],j)\n",
    "\n",
    "            params_index += 1\n",
    "\n",
    "            for i in np.arange(0,num_qubits,1):\n",
    "                for k in np.arange(i,num_qubits,1):\n",
    "                    if i!=k:\n",
    "                        qc.rzz(weights[params_index],i,k)\n",
    "\n",
    "            params_index += 1\n",
    "\n",
    "            qc.barrier()\n",
    "\n",
    "    observable1 = SparsePauliOp.from_list([(\"Z\" * num_qubits, 1)])\n",
    "    estimator_qnn_rotPerm = EstimatorQNN(\n",
    "        circuit=qc, observables=observable1, input_params=feature_map.parameters, weight_params=weights\n",
    "    )\n",
    "    return estimator_qnn_rotPerm"
   ]
  },
  {
   "cell_type": "code",
   "execution_count": 18,
   "id": "388496e1",
   "metadata": {},
   "outputs": [],
   "source": [
    "def cost_func(params,estimator,X,y):\n",
    "    \"\"\"\n",
    "    input: \n",
    "        params: list of parameters\n",
    "        num_qubit: number of qubits\n",
    "        num_layers: number of layers\n",
    "        j_coupling: coeffecient in ZZ terms\n",
    "        h_coupling: coefficient in X terms\n",
    "        ansatz_type: type of ansatz (HEA or HVA)\n",
    "        \n",
    "    output: value of cost function (VEV of Hamiltonian)\n",
    "    \n",
    "    global variables:\n",
    "        cost_val_list: list of cost function values\n",
    "    \"\"\"\n",
    "    global cost_val_list\n",
    "    \n",
    "    \n",
    "    pred = estimator.forward(X,params[0:-1]).flatten()\n",
    "    pred=-abs(pred-params[-1])\n",
    "    cost_val=((pred-y)**2).sum()\n",
    "    \n",
    "    cost_val_list.append(cost_val)\n",
    "    \n",
    "    clear_output(wait=True)\n",
    "    \n",
    "    plt.plot(np.arange(0,len(cost_val_list)), cost_val_list)\n",
    "    plt.xlabel('iteration')\n",
    "    plt.ylabel('cost function')\n",
    "    plt.legend()\n",
    "    plt.show()\n",
    "    return cost_val\n",
    "\n",
    "def getBestTheshold(est,params,X_test,y_test):\n",
    "    y_predict=est.forward(X_test,params).flatten()\n",
    "    #plt.hist(y_predict)\n",
    "    fpr, tpr, thresholds = metrics.roc_curve(y_test, y_predict, pos_label=1)\n",
    "\n",
    "    bestValidation=0\n",
    "    threshold_best=0\n",
    "    for t in thresholds:\n",
    "        y=y_predict.copy().flatten()\n",
    "        y[y>t]=1\n",
    "        y[y<t]=-1\n",
    "        diff=y-y_test\n",
    "        val=diff[diff==0].shape[0]/y.shape[0]\n",
    "        if val>bestValidation:\n",
    "            bestValidation=val\n",
    "            threshold_best=t\n",
    "            print(val,threshold_best)\n",
    "    return threshold_best\n",
    "\n",
    "def computeAccuracy(est,params,X_test,y_test,threshold):\n",
    "    y=est.forward(X_test,params).flatten()\n",
    "\n",
    "    y[y>=threshold]=1\n",
    "    y[y<threshold]=-1\n",
    "    diff=y-y_test\n",
    "    acc=diff[diff==0].shape[0]/y.shape[0]\n",
    "    return acc\n",
    "    "
   ]
  },
  {
   "cell_type": "code",
   "execution_count": null,
   "id": "00cbda42",
   "metadata": {},
   "outputs": [],
   "source": []
  },
  {
   "cell_type": "code",
   "execution_count": 19,
   "id": "7f873c53",
   "metadata": {},
   "outputs": [
    {
     "name": "stderr",
     "output_type": "stream",
     "text": [
      "No artists with labels found to put in legend.  Note that artists whose label start with an underscore are ignored when legend() is called with no argument.\n"
     ]
    },
    {
     "data": {
      "image/png": "[encoded data removed]",
      "text/plain": [
       "<Figure size 432x288 with 1 Axes>"
      ]
     },
     "metadata": {
      "needs_background": "light"
     },
     "output_type": "display_data"
    }
   ],
   "source": [
    "method='COBYLA'\n",
    "maxEvents=1000\n",
    "MaxIter=20\n",
    "estimator_qnn_rotPerm1=getEstimator_rotPerm(2,4)\n",
    "initial_weights=np.pi*2*np.random.rand(estimator_qnn_rotPerm1.num_weights+1)\n",
    "cost_val_list=[]\n",
    "\n",
    "res_rotPerm1 = scipy.optimize.minimize(cost_func, initial_weights,method=method,options={'maxiter':MaxIter}\n",
    "                              ,args=(estimator_qnn_rotPerm1,X_train_dot[0:maxEvents], y_train_dot[0:maxEvents])) #minimize cost function via scipy\n",
    "cost_val_list_rotPerm1=cost_val_list\n",
    "params_rotPerm1=res_rotPerm1.x"
   ]
  },
  {
   "cell_type": "code",
   "execution_count": 25,
   "id": "2b521621",
   "metadata": {},
   "outputs": [],
   "source": [
    "yy=estimator_qnn_rotPerm1.forward(X_train_dot[0:maxEvents],params_rotPerm1[0:-1]).flatten()\n",
    "yy=-abs(yy-params_rotPerm1[-1])"
   ]
  },
  {
   "cell_type": "code",
   "execution_count": 28,
   "id": "5a597c23",
   "metadata": {},
   "outputs": [
    {
     "data": {
      "text/plain": [
       "<matplotlib.legend.Legend at 0x284086740>"
      ]
     },
     "execution_count": 28,
     "metadata": {},
     "output_type": "execute_result"
    },
    {
     "data": {
      "text/plain": [
       "<Figure size 432x288 with 0 Axes>"
      ]
     },
     "metadata": {},
     "output_type": "display_data"
    },
    {
     "data": {
      "image/png": "[encoded data removed]",
      "text/plain": [
       "<Figure size 1152x648 with 1 Axes>"
      ]
     },
     "metadata": {
      "needs_background": "light"
     },
     "output_type": "display_data"
    }
   ],
   "source": [
    "plt.figure(1)\n",
    "LabelSize=30\n",
    "plt.figure(figsize=(16,9))\n",
    "bins=np.linspace(-0.8,0.8,200)\n",
    "#bins=np.linspace(-0,0.1,100)\n",
    "Max=175\n",
    "plt.hist(yy,bins=bins,histtype='step',label='regressor output')\n",
    "plt.hist(yy[y_train_dot[0:maxEvents]==-1],bins=bins,histtype='step',label='bkg Events')\n",
    "#plt.plot([threshold_best_rotPerm1]*Max,np.arange(0,Max,1),label='cut')\n",
    "\n",
    "plt.ylim(0,Max)\n",
    "plt.xlabel('Level 1 regressor output',fontsize=LabelSize)\n",
    "plt.ylabel('Entries',fontsize=LabelSize)\n",
    "plt.tick_params(axis='both', which='major', labelsize=LabelSize)\n",
    "plt.legend(fontsize=LabelSize*0.75)"
   ]
  },
  {
   "cell_type": "code",
   "execution_count": 29,
   "id": "c274f06a",
   "metadata": {},
   "outputs": [
    {
     "name": "stdout",
     "output_type": "stream",
     "text": [
      "0.512 inf\n",
      "0.524 -0.0010441680065710335\n",
      "0.532 -0.0017760071780137388\n",
      "0.56 -0.0034823621599660015\n",
      "0.645 -0.007600264146496005\n",
      "0.753 -0.012356595196150677\n",
      "0.783 -0.013911516257361145\n",
      "0.8 -0.01454621101307424\n",
      "0.818 -0.01539968960775917\n",
      "0.911 -0.021704613368231374\n",
      "0.946 -0.025516465842644664\n",
      "0.949 -0.026269364234429327\n",
      "0.955 -0.027453968023046504\n",
      "0.957 -0.02826406768653178\n",
      "0.962 -0.03133339070726643\n",
      "0.966 -0.03291671313304628\n",
      "0.967 -0.03492964667702064\n",
      "0.969 -0.040373149862697244\n"
     ]
    }
   ],
   "source": [
    "y_predict=yy\n",
    "fpr, tpr, thresholds = metrics.roc_curve(y_train_dot[0:maxEvents], yy, pos_label=1)\n",
    "\n",
    "bestValidation=0\n",
    "threshold_best=0\n",
    "for t in thresholds:\n",
    "    y=y_predict.copy().flatten()\n",
    "    y[y>t]=1\n",
    "    y[y<t]=-1\n",
    "    diff=y-y_train_dot[0:maxEvents]\n",
    "    val=diff[diff==0].shape[0]/y.shape[0]\n",
    "    if val>bestValidation:\n",
    "        bestValidation=val\n",
    "        threshold_best=t\n",
    "        print(val,threshold_best)"
   ]
  },
  {
   "cell_type": "code",
   "execution_count": null,
   "id": "32cea105",
   "metadata": {},
   "outputs": [],
   "source": []
  },
  {
   "cell_type": "code",
   "execution_count": null,
   "id": "ce4fea36",
   "metadata": {},
   "outputs": [],
   "source": []
  },
  {
   "cell_type": "code",
   "execution_count": null,
   "id": "33ab64db",
   "metadata": {},
   "outputs": [],
   "source": []
  },
  {
   "cell_type": "code",
   "execution_count": null,
   "id": "0dbd5e45",
   "metadata": {},
   "outputs": [],
   "source": []
  },
  {
   "cell_type": "code",
   "execution_count": null,
   "id": "e4324eec",
   "metadata": {},
   "outputs": [],
   "source": []
  },
  {
   "cell_type": "code",
   "execution_count": null,
   "id": "8757285a",
   "metadata": {
    "scrolled": true
   },
   "outputs": [],
   "source": [
    "threshold_best_rotPerm1=getBestTheshold(estimator_qnn_rotPerm1,params_rotPerm1,X_train_dot[0:maxEvents],y_train_dot[0:maxEvents])\n",
    "print(\"Best level 1 threshold is\",threshold_best_rotPerm1)\n",
    "print('---------------------------')\n",
    "y_rotPerm1=estimator_qnn_rotPerm1.forward(X_train_dot[0:maxEvents],params_rotPerm1).flatten()\n",
    "y_rotPerm1[y_rotPerm1>=threshold_best_rotPerm1]=1\n",
    "y_rotPerm1[y_rotPerm1<threshold_best_rotPerm1]=-1\n",
    "\n",
    "diff=y_rotPerm1-y_train_dot[0:maxEvents]\n",
    "acc_sig_rotPerm1=(diff[y_rotPerm1==1][diff[y_rotPerm1==1]==0]).shape[0]/diff[y_rotPerm1==1].shape[0]\n",
    "acc_bkg_rotPerm1=(diff[y_rotPerm1==-1][diff[y_rotPerm1==-1]==0]).shape[0]/diff[y_rotPerm1==-1].shape[0]\n",
    "acc_rotPerm1=(diff[diff==0]).shape[0]/diff.shape[0]\n",
    "print(\"Accuracy of signal-like events in training dataset is \",acc_sig_rotPerm1)\n",
    "print(\"Accuracy of bkg-like events in training dataset is \",acc_bkg_rotPerm1)\n",
    "print(\"Training accuracy overall is \",acc_rotPerm1)\n",
    "acc_rotPerm1_test=computeAccuracy(estimator_qnn_rotPerm1,params_rotPerm1,X_test_dot,y_test_dot,threshold_best_rotPerm1)\n",
    "print(\"Test accuracy of level 1 estimator is \",acc_rotPerm1_test)"
   ]
  },
  {
   "cell_type": "code",
   "execution_count": null,
   "id": "db733194",
   "metadata": {},
   "outputs": [],
   "source": [
    "y_rotPerm1=estimator_qnn_rotPerm1.forward(X_train_dot[0:maxEvents],params_rotPerm1).flatten()\n",
    "\n",
    "X_2=X_train_dot[0:maxEvents][y_rotPerm1>=threshold_best_rotPerm1]\n",
    "y_2=y_train_dot[0:maxEvents][y_rotPerm1>=threshold_best_rotPerm1]"
   ]
  },
  {
   "cell_type": "code",
   "execution_count": null,
   "id": "a0f20665",
   "metadata": {},
   "outputs": [],
   "source": [
    "plt.figure(1)\n",
    "LabelSize=30\n",
    "plt.figure(figsize=(16,9))\n",
    "bins=np.linspace(-0.8,0.8,200)\n",
    "Max=175\n",
    "plt.hist(y_rotPerm1,bins=bins,histtype='step',label='regressor output')\n",
    "plt.hist(y_rotPerm1[y_train_dot[0:maxEvents]==-1],bins=bins,histtype='step',label='bkg Events')\n",
    "#plt.plot([threshold_best_rotPerm1]*Max,np.arange(0,Max,1),label='cut')\n",
    "\n",
    "plt.ylim(0,Max)\n",
    "plt.xlabel('Level 1 regressor output',fontsize=LabelSize)\n",
    "plt.ylabel('Entries',fontsize=LabelSize)\n",
    "plt.tick_params(axis='both', which='major', labelsize=LabelSize)\n",
    "plt.legend(fontsize=LabelSize*0.75)"
   ]
  },
  {
   "cell_type": "code",
   "execution_count": null,
   "id": "d0c86200",
   "metadata": {},
   "outputs": [],
   "source": [
    "threshold_best_rotPerm2=getBestTheshold(estimator_qnn_rotPerm1,params_rotPerm1,X_2,y_2)"
   ]
  },
  {
   "cell_type": "code",
   "execution_count": null,
   "id": "1cdf29a9",
   "metadata": {},
   "outputs": [],
   "source": [
    "threshold_best_rotPerm2"
   ]
  },
  {
   "cell_type": "code",
   "execution_count": null,
   "id": "fc996f58",
   "metadata": {},
   "outputs": [],
   "source": []
  },
  {
   "cell_type": "code",
   "execution_count": null,
   "id": "81609783",
   "metadata": {},
   "outputs": [],
   "source": []
  },
  {
   "cell_type": "code",
   "execution_count": null,
   "id": "9b203973",
   "metadata": {},
   "outputs": [],
   "source": []
  },
  {
   "cell_type": "code",
   "execution_count": null,
   "id": "bf9ef128",
   "metadata": {},
   "outputs": [],
   "source": [
    "#Since signal like events accuracy is still low, train a second level network for it\n",
    "X_2=X_train_dot[0:maxEvents][y_rotPerm1==1]\n",
    "y_2=y_train_dot[0:maxEvents][y_rotPerm1==1]\n",
    "estimator_qnn_rotPerm2=getEstimator_rotPerm(2,4)\n",
    "initial_weights=np.pi*2*np.random.rand(estimator_qnn_rotPerm2.num_weights)\n",
    "cost_val_list=[]\n",
    "\n",
    "res_rotPerm2 = scipy.optimize.minimize(cost_func, initial_weights,method=method,options={'maxiter':MaxIter}\n",
    "                              ,args=(estimator_qnn_rotPerm2,X_2, y_2)) #minimize cost function via scipy\n",
    "cost_val_list_rotPerm2=cost_val_list\n",
    "params_rotPerm2=res_rotPerm2.x"
   ]
  },
  {
   "cell_type": "code",
   "execution_count": null,
   "id": "51e03652",
   "metadata": {},
   "outputs": [],
   "source": [
    "threshold_best_rotPerm2=getBestTheshold(estimator_qnn_rotPerm2,params_rotPerm2,X_2,y_2)\n",
    "print(\"Best level 1 threshold is\",threshold_best_rotPerm1)\n",
    "print('---------------------------')\n",
    "y_rotPerm2=estimator_qnn_rotPerm2.forward(X_2,params_rotPerm2).flatten()\n",
    "y_rotPerm2[y_rotPerm2>=threshold_best_rotPerm2]=1\n",
    "y_rotPerm2[y_rotPerm2<threshold_best_rotPerm2]=-1\n",
    "\n",
    "diff=y_rotPerm2-y_2\n",
    "acc_sig_rotPerm2=(diff[y_rotPerm2==1][diff[y_rotPerm2==1]==0]).shape[0]/diff[y_rotPerm2==1].shape[0]\n",
    "acc_bkg_rotPerm2=(diff[y_rotPerm2==-1][diff[y_rotPerm2==-1]==0]).shape[0]/diff[y_rotPerm2==-1].shape[0]\n",
    "acc_rotPerm2=(diff[diff==0]).shape[0]/diff.shape[0]\n",
    "print(\"Accuracy of signal-like events in selected training dataset is \",acc_sig_rotPerm2)\n",
    "print(\"Accuracy of bkg-like events in selected  training dataset is \",acc_bkg_rotPerm2)\n",
    "print(\"Selected training accuracy overall is \",acc_rotPerm2)\n"
   ]
  },
  {
   "cell_type": "code",
   "execution_count": null,
   "id": "b4f63cc8",
   "metadata": {},
   "outputs": [],
   "source": [
    "#Make final prediction:\n",
    "y_pred=estimator_qnn_rotPerm1.forward(X_test_dot,params_rotPerm1).flatten()\n",
    "y_pred[y_pred<threshold_best_rotPerm1]=-1\n",
    "y_pred[y_pred>threshold_best_rotPerm1]=1\n",
    "\n",
    "y_pred2=estimator_qnn_rotPerm2.forward(X_test_dot[y_pred==1],params_rotPerm2).flatten()\n",
    "y_pred2[y_pred2<threshold_best_rotPerm2]=-1\n",
    "y_pred2[y_pred2>threshold_best_rotPerm2]=1\n",
    "y_pred[y_pred==1]=y_pred2\n",
    "\n",
    "diff=y_pred-y_test_dot\n",
    "acc_rotPerm=diff[diff==0].shape[0]/diff.shape[0]\n",
    "print(\"final accuracy = \",acc_rotPerm)"
   ]
  },
  {
   "cell_type": "code",
   "execution_count": null,
   "id": "3ab9f82f",
   "metadata": {},
   "outputs": [],
   "source": []
  },
  {
   "cell_type": "code",
   "execution_count": null,
   "id": "51e225ca",
   "metadata": {},
   "outputs": [],
   "source": []
  },
  {
   "cell_type": "markdown",
   "id": "f4f2b830",
   "metadata": {},
   "source": [
    "No symmetry"
   ]
  },
  {
   "cell_type": "code",
   "execution_count": null,
   "id": "2572047a",
   "metadata": {},
   "outputs": [],
   "source": [
    "def getEstimator_baseline(num_layers,num_qubits):\n",
    "\n",
    "    qr = QuantumRegister(num_qubits)\n",
    "    qc = QuantumCircuit(qr)\n",
    "\n",
    "    feature_map = ZFeatureMap(feature_dimension=num_qubits,reps=1,parameter_prefix=\"inputs\")\n",
    "    ansatz=RealAmplitudes(num_qubits, reps=num_layers)\n",
    "\n",
    "    qc.compose(feature_map, inplace=True) \n",
    "    qc.compose(ansatz,inplace=True)  \n",
    "\n",
    "    observable1 = SparsePauliOp.from_list([(\"Z\" * num_qubits, 1)])\n",
    "    estimator_qnn= EstimatorQNN(\n",
    "        circuit=qc, observables=observable1, input_params=feature_map.parameters, weight_params=ansatz.parameters\n",
    "    )\n",
    "    return estimator_qnn"
   ]
  },
  {
   "cell_type": "code",
   "execution_count": null,
   "id": "4d74f7d9",
   "metadata": {},
   "outputs": [],
   "source": [
    "num_qubits=X_3.shape[1]\n",
    "estimator_baseline1=getEstimator_baseline(2,num_qubits)"
   ]
  },
  {
   "cell_type": "code",
   "execution_count": null,
   "id": "a853a4d2",
   "metadata": {},
   "outputs": [],
   "source": []
  },
  {
   "cell_type": "code",
   "execution_count": null,
   "id": "60f9148a",
   "metadata": {},
   "outputs": [],
   "source": [
    "method='COBYLA'\n",
    "maxEvents=1000\n",
    "MaxIter=300\n",
    "num_qubits=X_3.shape[1]\n",
    "estimator_baseline1=getEstimator_baseline(2,num_qubits)\n",
    "initial_weights=np.pi*2*np.random.rand(estimator_baseline1.num_weights)\n",
    "cost_val_list=[]\n",
    "\n",
    "res_baseline1 = scipy.optimize.minimize(cost_func, initial_weights,method=method,options={'maxiter':MaxIter}\n",
    "                              ,args=(estimator_baseline1,X_train_3[0:maxEvents], y_train_3[0:maxEvents])) #minimize cost function via scipy\n",
    "cost_val_list_rotPerm1=cost_val_list\n",
    "params_baseline1=res_baseline1.x"
   ]
  },
  {
   "cell_type": "code",
   "execution_count": null,
   "id": "afb40564",
   "metadata": {},
   "outputs": [],
   "source": [
    "threshold_best_baseline1=getBestTheshold(estimator_baseline1,params_baseline1,X_train_3[0:maxEvents],y_train_3[0:maxEvents])\n",
    "print(\"Best level 1 threshold is\",threshold_best_baseline1)\n",
    "print('---------------------------')\n",
    "y_baseline1=estimator_baseline1.forward(X_train_3[0:maxEvents],params_baseline1).flatten()\n",
    "y_baseline1[y_baseline1>=threshold_best_baseline1]=1\n",
    "y_baseline1[y_baseline1<threshold_best_baseline1]=-1\n",
    "\n",
    "diff=y_baseline1-y_train_3[0:maxEvents]\n",
    "acc_sig_baseline1=(diff[y_baseline1==1][diff[y_baseline1==1]==0]).shape[0]/diff[y_baseline1==1].shape[0]\n",
    "acc_bkg_baseline1=(diff[y_baseline1==-1][diff[y_baseline1==-1]==0]).shape[0]/diff[y_baseline1==-1].shape[0]\n",
    "acc_baseline1=(diff[diff==0]).shape[0]/diff.shape[0]\n",
    "print(\"Accuracy of signal-like events in training dataset is \",acc_sig_baseline1)\n",
    "print(\"Accuracy of bkg-like events in training dataset is \",acc_bkg_baseline1)\n",
    "print(\"Training accuracy overall is \",acc_baseline1)\n",
    "acc_baseline1_test=computeAccuracy(estimator_baseline1,params_baseline1,X_test_3,y_test_3[0:maxEvents],threshold_best_baseline1)\n",
    "print(\"Test accuracy of level 1 estimator is \",acc_baseline1_test)"
   ]
  },
  {
   "cell_type": "code",
   "execution_count": null,
   "id": "8aef5dc0",
   "metadata": {},
   "outputs": [],
   "source": [
    "#Since signal like events accuracy is still low, train a second level network for it\n",
    "X_2=X_train_3[0:maxEvents][y_baseline1==1]\n",
    "y_2=y_train_3[0:maxEvents][y_baseline1==1]\n",
    "estimator_baseline2=getEstimator_baseline(2,num_qubits)\n",
    "initial_weights=np.pi*2*np.random.rand(estimator_baseline2.num_weights)\n",
    "cost_val_list=[]\n",
    "\n",
    "res_baseline2 = scipy.optimize.minimize(cost_func, initial_weights,method=method,options={'maxiter':MaxIter}\n",
    "                              ,args=(estimator_baseline2,X_2, y_2)) #minimize cost function via scipy\n",
    "cost_val_list_baseline2=cost_val_list\n",
    "params_baseline2=res_baseline2.x\n",
    "\n",
    "threshold_best_baseline2=getBestTheshold(estimator_baseline2,params_baseline2,X_2,y_2)\n",
    "print(\"Best level 2 threshold is\",threshold_best_baseline2)\n",
    "print('---------------------------')\n",
    "y_baseline2=estimator_baseline2.forward(X_2,params_baseline2).flatten()\n",
    "y_baseline2[y_baseline2>=threshold_best_baseline2]=1\n",
    "y_baseline2[y_baseline2<threshold_best_baseline2]=-1\n",
    "\n",
    "diff=y_baseline2-y_2\n",
    "acc_sig_baseline2=(diff[y_baseline2==1][diff[y_baseline2==1]==0]).shape[0]/diff[y_baseline2==1].shape[0]\n",
    "acc_bkg_baseline2=(diff[y_baseline2==-1][diff[y_baseline2==-1]==0]).shape[0]/diff[y_baseline2==-1].shape[0]\n",
    "acc_baseline2=(diff[diff==0]).shape[0]/diff.shape[0]\n",
    "print(\"Accuracy of signal-like events in selected training dataset is \",acc_sig_baseline2)\n",
    "print(\"Accuracy of bkg-like events in selected training dataset is \",acc_bkg_baseline2)\n",
    "print(\"Selected training accuracy overall is \",acc_baseline2)\n"
   ]
  },
  {
   "cell_type": "code",
   "execution_count": null,
   "id": "ca7e1435",
   "metadata": {},
   "outputs": [],
   "source": [
    "#Since signal like events accuracy is still low, train a second level network for it\n",
    "X_3=X_train_3[0:maxEvents][y_baseline1==-1]\n",
    "y_3=y_train_3[0:maxEvents][y_baseline1==-1]\n",
    "estimator_baseline3=getEstimator_baseline(2,num_qubits)\n",
    "initial_weights=np.pi*2*np.random.rand(estimator_baseline3.num_weights)\n",
    "cost_val_list=[]\n",
    "\n",
    "res_baseline3 = scipy.optimize.minimize(cost_func, initial_weights,method=method,options={'maxiter':MaxIter}\n",
    "                              ,args=(estimator_baseline3,X_3, y_3)) #minimize cost function via scipy\n",
    "cost_val_list_baseline3=cost_val_list\n",
    "params_baseline3=res_baseline3.x\n",
    "\n",
    "threshold_best_baseline3=getBestTheshold(estimator_baseline3,params_baseline3,X_3,y_3)\n",
    "print(\"Best level 2 threshold is\",threshold_best_baseline3)\n",
    "print('---------------------------')\n",
    "y_baseline3=estimator_baseline3.forward(X_3,params_baseline3).flatten()\n",
    "y_baseline3[y_baseline3>=threshold_best_baseline3]=1\n",
    "y_baseline3[y_baseline3<threshold_best_baseline3]=-1\n",
    "\n",
    "diff=y_baseline3-y_3\n",
    "acc_sig_baseline3=(diff[y_baseline3==1][diff[y_baseline3==1]==0]).shape[0]/diff[y_baseline3==1].shape[0]\n",
    "acc_bkg_baseline3=(diff[y_baseline3==-1][diff[y_baseline3==-1]==0]).shape[0]/diff[y_baseline3==-1].shape[0]\n",
    "acc_baseline3=(diff[diff==0]).shape[0]/diff.shape[0]\n",
    "print(\"Accuracy of signal-like events in selected training dataset is \",acc_sig_baseline3)\n",
    "print(\"Accuracy of bkg-like events in selected training dataset is \",acc_bkg_baseline3)\n",
    "print(\"Selected training accuracy overall is \",acc_baseline3)\n"
   ]
  },
  {
   "cell_type": "code",
   "execution_count": null,
   "id": "b72b9d87",
   "metadata": {},
   "outputs": [],
   "source": [
    "#Make final prediction:\n",
    "y_pred=estimator_baseline1.forward(X_test_3,params_baseline1).flatten()\n",
    "y_pred[y_pred<threshold_best_baseline1]=-1\n",
    "y_pred[y_pred>threshold_best_baseline1]=1\n",
    "\n",
    "y_pred_final=y_pred.copy()\n",
    "\n",
    "diff=y_pred-y_test_3\n",
    "acc_baseline=diff[diff==0].shape[0]/diff.shape[0]\n",
    "print(\"level 1 accuracy = \",acc_baseline)\n",
    "\n",
    "y_pred2=estimator_baseline2.forward(X_test_3[y_pred==1],params_baseline2).flatten()\n",
    "y_pred2[y_pred2<threshold_best_baseline2]=-1\n",
    "y_pred2[y_pred2>threshold_best_baseline2]=1\n",
    "y_pred_final[y_pred==1]=y_pred2\n",
    "\n",
    "\n",
    "y_pred3=estimator_baseline3.forward(X_test_3[y_pred==-1],params_baseline2).flatten()\n",
    "y_pred3[y_pred3<threshold_best_baseline3]=-1\n",
    "y_pred3[y_pred3>threshold_best_baseline3]=1\n",
    "y_pred_final[y_pred==-1]=y_pred3\n",
    "\n",
    "diff=y_pred_final-y_test_3\n",
    "acc_baseline=diff[diff==0].shape[0]/diff.shape[0]\n",
    "print(\"final accuracy = \",acc_baseline)"
   ]
  },
  {
   "cell_type": "code",
   "execution_count": null,
   "id": "58c468b9",
   "metadata": {},
   "outputs": [],
   "source": [
    "y_rotPerm1=estimator_qnn_rotPerm1.forward(X_test_dot,params_rotPerm1).flatten()\n",
    "y_baseline1=estimator_baseline1.forward(X_train_3[0:maxEvents],params_baseline1).flatten()"
   ]
  },
  {
   "cell_type": "code",
   "execution_count": null,
   "id": "854549a9",
   "metadata": {},
   "outputs": [],
   "source": [
    "plt.figure(1)\n",
    "LabelSize=30\n",
    "plt.figure(figsize=(16,9))\n",
    "bins=np.linspace(-0.8,0.5,200)\n",
    "Max=175\n",
    "plt.hist(y_baseline1,bins=bins,histtype='step',label='Baseline',rwidth=100)\n",
    "plt.hist(y_rotPerm1,bins=bins,histtype='step',label='Rotation+Permutation')\n",
    "plt.plot([threshold_best_baseline1]*Max,np.arange(0,Max,1),label='Baseline cut')\n",
    "plt.plot([threshold_best_rotPerm1]*Max,np.arange(0,Max,1),label='Rotation+Permutation cut')\n",
    "\n",
    "plt.ylim(0,Max)\n",
    "plt.xlabel('Level 1 regressor output',fontsize=LabelSize)\n",
    "plt.ylabel('Entries',fontsize=LabelSize)\n",
    "plt.tick_params(axis='both', which='major', labelsize=LabelSize)\n",
    "plt.legend(fontsize=LabelSize*0.75)"
   ]
  },
  {
   "cell_type": "code",
   "execution_count": null,
   "id": "f0d84626",
   "metadata": {},
   "outputs": [],
   "source": []
  },
  {
   "cell_type": "code",
   "execution_count": null,
   "id": "28600735",
   "metadata": {},
   "outputs": [],
   "source": []
  },
  {
   "cell_type": "code",
   "execution_count": null,
   "id": "b3a719e2",
   "metadata": {},
   "outputs": [],
   "source": []
  },
  {
   "cell_type": "markdown",
   "id": "a651b231",
   "metadata": {},
   "source": [
    "Classical method"
   ]
  },
  {
   "cell_type": "code",
   "execution_count": null,
   "id": "fc3b93d4",
   "metadata": {},
   "outputs": [],
   "source": [
    "from keras import utils \n",
    "from sklearn import metrics\n",
    "from sklearn.metrics import RocCurveDisplay\n",
    "import sklearn.neural_network as skl_nn\n",
    "from sklearn.model_selection import KFold\n",
    "from sklearn.model_selection import cross_validate \n",
    "\n"
   ]
  },
  {
   "cell_type": "code",
   "execution_count": null,
   "id": "88a7fc0c",
   "metadata": {},
   "outputs": [],
   "source": [
    "\n",
    "def getFourVectors_df(df):\n",
    "    v1=getFourVector(df['f_lept1_pt'],df['f_lept1_eta'],df['f_lept1_phi'])\n",
    "    v2=getFourVector(df['f_lept2_pt'],df['f_lept2_eta'],df['f_lept2_phi'])\n",
    "    v3=getFourVector(df['f_lept3_pt'],df['f_lept3_eta'],df['f_lept3_phi'])\n",
    "    v4=getFourVector(df['f_lept4_pt'],df['f_lept4_eta'],df['f_lept4_phi'])\n",
    "    \n",
    "\n",
    "    output=np.concatenate([v1,v2,v3,v4])\n",
    "    return  np.transpose(output)\n",
    "\n",
    "sig_4vec=getFourVectors_df(h4l)\n",
    "bkg_4vec=getFourVectors_df(bkg)\n",
    "\n",
    "X_4=np.concatenate([sig_4vec[0:maxDatasetEvents],bkg_4vec[0:maxDatasetEvents]])\n",
    "\n",
    "maxEvents=5000\n",
    "n_neurons=10\n",
    "\n",
    "X_onehot=np.concatenate([sig_4vec[0:maxDatasetEvents],bkg_4vec[0:maxDatasetEvents]])\n",
    "y_onehot=np.concatenate([np.ones(sig_4vec[0:maxDatasetEvents].shape[0]),np.zeros(bkg_4vec[0:maxDatasetEvents].shape[0])])\n",
    "y_onehot= utils.to_categorical(y_onehot, 2)\n",
    "X_onehot,y_onehot=shuffle(X_onehot,y_onehot,random_state=1000)\n",
    "X_dot_onehot=np.concatenate([sig_dot[0:maxDatasetEvents],bkg_dot[0:maxDatasetEvents]])\n",
    "y_dot_onehot=np.concatenate([np.ones(sig_4vec[0:maxDatasetEvents].shape[0]),np.zeros(bkg_4vec[0:maxDatasetEvents].shape[0])])\n",
    "X_dot_onehot,y_dot_onehot=shuffle(X_dot_onehot,y_dot_onehot,random_state=1000)"
   ]
  },
  {
   "cell_type": "code",
   "execution_count": null,
   "id": "4832d777",
   "metadata": {},
   "outputs": [],
   "source": [
    "maxEvents=5000\n",
    "#One layer:\n",
    "n_neurons_list=[1,2,3,4,5]\n",
    "\n",
    "validation_list_5e3=[]\n",
    "validation_list_error_5e3=[]\n",
    "nParams_list_5e3=[]\n",
    "\n",
    "for i in range(len(n_neurons_list)):\n",
    "    \n",
    "    tmp_validation_list=[]\n",
    "    for j in range(10):\n",
    "        mlp = skl_nn.MLPClassifier(hidden_layer_sizes=(n_neurons_list[i]),early_stopping=True, \n",
    "                                   validation_fraction=0.2,max_iter=10000, verbose=0,\n",
    "                                  n_iter_no_change=2000)\n",
    "        mlp.fit(X_dot_onehot[0:maxEvents],y_dot_onehot[0:maxEvents])\n",
    "        best_validation=mlp.best_validation_score_ \n",
    "        tmp_validation_list.append(best_validation)\n",
    "        \n",
    "    tmp_validation_list=np.array(tmp_validation_list)\n",
    "    n_params=X_onehot.shape[1]*n_neurons_list[i]+n_neurons_list[i]\n",
    "    \n",
    "    validation_list_5e3.append(tmp_validation_list.mean())\n",
    "    validation_list_error_5e3.append(tmp_validation_list.std())\n",
    "    nParams_list_5e3.append(n_params)\n",
    "    print(\"nparams =\",n_params,\"best_validation = \",tmp_validation_list.mean(),\"error = \",tmp_validation_list.std())\n",
    "\n",
    "    print(\"finishing \",n_neurons_list[i])"
   ]
  },
  {
   "cell_type": "code",
   "execution_count": null,
   "id": "ce448f92",
   "metadata": {},
   "outputs": [],
   "source": [
    "maxEvents=1000\n",
    "#One layer:\n",
    "n_neurons_list=[1,2,3,4,5]\n",
    "\n",
    "validation_list_1e3=[]\n",
    "validation_list_error_1e3=[]\n",
    "nParams_list_1e3=[]\n",
    "\n",
    "for i in range(len(n_neurons_list)):\n",
    "    \n",
    "    tmp_validation_list=[]\n",
    "    for j in range(10):\n",
    "        mlp = skl_nn.MLPClassifier(hidden_layer_sizes=(n_neurons_list[i]),early_stopping=True, \n",
    "                                   validation_fraction=0.2,max_iter=10000, verbose=0,\n",
    "                                  n_iter_no_change=2000)\n",
    "        mlp.fit(X_dot_onehot[0:maxEvents],y_dot_onehot[0:maxEvents])\n",
    "        best_validation=mlp.best_validation_score_ \n",
    "        tmp_validation_list.append(best_validation)\n",
    "        \n",
    "    tmp_validation_list=np.array(tmp_validation_list)\n",
    "    n_params=X_onehot.shape[1]*n_neurons_list[i]+n_neurons_list[i]\n",
    "    \n",
    "    validation_list_1e3.append(tmp_validation_list.mean())\n",
    "    validation_list_error_1e3.append(tmp_validation_list.std())\n",
    "    nParams_list_1e3.append(n_params)\n",
    "    print(\"nparams =\",n_params,\"best_validation = \",tmp_validation_list.mean(),\"error = \",tmp_validation_list.std())\n",
    "\n",
    "    print(\"finishing \",n_neurons_list[i])"
   ]
  },
  {
   "cell_type": "code",
   "execution_count": null,
   "id": "dc1042cf",
   "metadata": {},
   "outputs": [],
   "source": [
    "maxEvents=500\n",
    "#One layer:\n",
    "n_neurons_list=[1,2,3,4,5]\n",
    "\n",
    "validation_list_5e2=[]\n",
    "validation_list_error_5e2=[]\n",
    "nParams_list_5e2=[]\n",
    "\n",
    "for i in range(len(n_neurons_list)):\n",
    "    \n",
    "    tmp_validation_list=[]\n",
    "    for j in range(10):\n",
    "        mlp = skl_nn.MLPClassifier(hidden_layer_sizes=(n_neurons_list[i]),early_stopping=True, \n",
    "                                   validation_fraction=0.2,max_iter=10000, verbose=0,\n",
    "                                  n_iter_no_change=2000)\n",
    "        mlp.fit(X_dot_onehot[0:maxEvents],y_dot_onehot[0:maxEvents])\n",
    "        best_validation=mlp.best_validation_score_ \n",
    "        tmp_validation_list.append(best_validation)\n",
    "        \n",
    "    tmp_validation_list=np.array(tmp_validation_list)\n",
    "    n_params=X_onehot.shape[1]*n_neurons_list[i]+n_neurons_list[i]\n",
    "    \n",
    "    validation_list_5e2.append(tmp_validation_list.mean())\n",
    "    validation_list_error_5e2.append(tmp_validation_list.std())\n",
    "    nParams_list_5e2.append(n_params)\n",
    "    print(\"nparams =\",n_params,\"best_validation = \",tmp_validation_list.mean(),\"error = \",tmp_validation_list.std())\n",
    "\n",
    "    print(\"finishing \",n_neurons_list[i])"
   ]
  },
  {
   "cell_type": "code",
   "execution_count": null,
   "id": "6d2949dc",
   "metadata": {},
   "outputs": [],
   "source": [
    "plt.figure(1)\n",
    "LabelSize=30\n",
    "plt.figure(figsize=(16,9))\n",
    "plt.errorbar(nParams_list_5e3,validation_list_5e3,yerr=validation_list_error_5e3,label=\"nEvents = 5000\",\n",
    "            marker='o', markersize=10,capsize=10,\n",
    "            linestyle='none')\n",
    "plt.errorbar(nParams_list_1e3,validation_list_1e3,yerr=validation_list_error_1e3,label=\"nEvents = 1000\",\n",
    "             marker='o', markersize=10,capsize=10,\n",
    "            linestyle='none')\n",
    "\n",
    "plt.errorbar(nParams_list_5e2,validation_list_5e2,yerr=validation_list_error_5e2,label=\"nEvents = 500\",\n",
    "            marker='o', markersize=10,capsize=10,\n",
    "            linestyle='none')\n",
    "plt.ylim(0.5,1)\n",
    "\n",
    "plt.xlabel('Number of parameters',fontsize=LabelSize)\n",
    "plt.ylabel('Accuracy',fontsize=LabelSize)\n",
    "plt.tick_params(axis='both', which='major', labelsize=LabelSize)\n",
    "plt.legend(fontsize=LabelSize*0.75)\n",
    "#plt.xscale('log')"
   ]
  },
  {
   "cell_type": "code",
   "execution_count": null,
   "id": "e8a68b83",
   "metadata": {},
   "outputs": [],
   "source": []
  },
  {
   "cell_type": "code",
   "execution_count": null,
   "id": "5c4f2fe7",
   "metadata": {},
   "outputs": [],
   "source": []
  },
  {
   "cell_type": "code",
   "execution_count": null,
   "id": "3e0f172b",
   "metadata": {},
   "outputs": [],
   "source": []
  },
  {
   "cell_type": "code",
   "execution_count": null,
   "id": "f07c85ac",
   "metadata": {},
   "outputs": [],
   "source": []
  },
  {
   "cell_type": "code",
   "execution_count": null,
   "id": "2537d67d",
   "metadata": {},
   "outputs": [],
   "source": []
  },
  {
   "cell_type": "code",
   "execution_count": null,
   "id": "3b6902df",
   "metadata": {},
   "outputs": [],
   "source": []
  },
  {
   "cell_type": "code",
   "execution_count": null,
   "id": "e7140659",
   "metadata": {},
   "outputs": [],
   "source": []
  }
 ],
 "metadata": {
  "kernelspec": {
   "display_name": "qc",
   "language": "python",
   "name": "qc"
  },
  "language_info": {
   "codemirror_mode": {
    "name": "ipython",
    "version": 3
   },
   "file_extension": ".py",
   "mimetype": "text/x-python",
   "name": "python",
   "nbconvert_exporter": "python",
   "pygments_lexer": "ipython3",
   "version": "3.10.4"
  }
 },
 "nbformat": 4,
 "nbformat_minor": 5
}
