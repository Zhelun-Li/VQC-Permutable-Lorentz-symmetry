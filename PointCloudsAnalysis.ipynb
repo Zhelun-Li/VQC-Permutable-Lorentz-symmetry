{
 "cells": [
  {
   "cell_type": "code",
   "execution_count": 1,
   "id": "0d119c3b",
   "metadata": {},
   "outputs": [],
   "source": [
    "import numpy as np\n",
    "from qiskit import QuantumCircuit\n",
    "from qiskit.circuit import Parameter\n",
    "import numpy as np\n",
    "from qiskit.quantum_info.operators import Operator, Pauli\n",
    "from qiskit.extensions import RXGate, RZGate\n",
    "from qiskit.circuit import QuantumRegister,ClassicalRegister\n",
    "from qiskit import  execute, BasicAer\n",
    "import qiskit.quantum_info as qi\n",
    "import scipy.optimize \n",
    "import random\n",
    "import matplotlib.pyplot as plt\n",
    "import pickle\n",
    "import os \n",
    "from sklearn.model_selection import train_test_split\n",
    "import time\n",
    "from qiskit_machine_learning.algorithms.classifiers import VQC\n",
    "from qiskit.circuit.library import RealAmplitudes\n",
    "from sklearn.utils import shuffle\n",
    "\n",
    "from qiskit.primitives import Sampler\n",
    "from qiskit.circuit.library import ZZFeatureMap\n",
    "from qiskit_algorithms.optimizers import COBYLA\n",
    "from IPython.display import clear_output\n",
    "from qiskit import  execute, BasicAer"
   ]
  },
  {
   "cell_type": "code",
   "execution_count": 2,
   "id": "24d803e8",
   "metadata": {},
   "outputs": [],
   "source": [
    "name=\"_smear0.1_MaxTran10_shuffle0\"\n",
    "\n",
    "folderDir=\"/Users/lizhelun/Desktop/QC/VQC-Permutable-Lorentz-symmetry/\"\n",
    "dataDir=\"/Users/lizhelun/Desktop/QC/VQC-Permutable-Lorentz-symmetry/Images\"\n",
    "resultsName=\"results\"\n",
    "\n",
    "#nShots=2**13\n",
    "maxIteration=1000\n",
    "maxEvents=500\n",
    "nLayer=3\n",
    "\n",
    "training_results={}\n",
    "\n",
    "\n",
    "\n",
    "with open(dataDir+\"/label\"+name+\".pk\", \"rb\") as fp:   #Pickling\n",
    "    label=pickle.load(fp)\n",
    "    \n",
    "with open(dataDir+\"/images\"+name+\".pk\", \"rb\") as fp:   #Pickling\n",
    "    images=pickle.load(fp)\n",
    "    \n",
    "X=images.reshape(images.shape[0],images.shape[1]*images.shape[2])\n",
    "y=label\n",
    "\n",
    "X,y=shuffle(X,y,random_state=1000)\n",
    "train_ratio=0.6\n",
    "X_train, X_valTest, y_train, y_valTest = train_test_split(X.copy(), y.copy(), train_size=train_ratio, random_state=100)\n",
    "X_val, X_test, y_val, y_test = train_test_split(X_valTest, y_valTest, test_size=0.5, random_state=200)\n",
    "#Normalizing everythings:\n",
    "X_train=X_train/X_train.max()\n",
    "X_val=X_val/X_val.max()\n",
    "X_test=X_test/X_test.max()\n",
    "\n",
    "\n",
    "\n",
    "sampler = Sampler()"
   ]
  },
  {
   "cell_type": "code",
   "execution_count": 3,
   "id": "848e3fcf",
   "metadata": {},
   "outputs": [],
   "source": [
    "# with open(dataDir+\"/outputDict\"+name+\".pk\", \"rb\") as fp:   #Pickling\n",
    "#     Dict=pickle.load(fp)\n",
    "# dictTrain={\"0\":[], \"1\":[],\"7\":[]}\n",
    "# dictTest={\"0\":[], \"1\":[],\"7\":[]}\n",
    "\n",
    "\n",
    "# for key in Dict.keys():\n",
    "#     Dict_reshape=Dict[key].reshape(Dict[key].shape[0],images.shape[1]*images.shape[2])\n",
    "\n",
    "\n",
    "#     Dict_reshape=shuffle(Dict_reshape,random_state=1000)\n",
    "#     train_ratio=0.6\n",
    "    \n",
    "#     Dict_reshape_train=X[0:int(Dict_reshape.shape[0]*train_ratio)]\n",
    "#     Dict_reshape_test=X[int(Dict_reshape.shape[0]*train_ratio):]\n",
    "#     #Normalizing everythings:\n",
    "#     Dict_reshape_train=Dict_reshape_train/Dict_reshape_train.max()\n",
    "#     Dict_reshape_test=Dict_reshape_test/Dict_reshape_test.max()\n",
    "    \n",
    "#     dictTrain[key]=Dict_reshape_train\n",
    "#     dictTest[key]=Dict_reshape_train"
   ]
  },
  {
   "cell_type": "code",
   "execution_count": 4,
   "id": "8312516e",
   "metadata": {},
   "outputs": [],
   "source": [
    "def dataAugmentation(data):\n",
    "    #centering\n",
    "    meanValues=data.mean(axis=1)\n",
    "    print(data.shape)\n",
    "    print(meanValues.shape)\n",
    "    data=data-meanValues[:,None,:]\n",
    "    \n",
    "    #scaling\n",
    "    norm=np.linalg.norm(data,axis=2)\n",
    "    scale=norm.max(axis=1)\n",
    "    data=data/scale[:,None,None]\n",
    "    \n",
    "    return data\n",
    "\n",
    "def Dot(data):\n",
    "    output=[]\n",
    "    for i in range(data.shape[0]):\n",
    "        event=[]\n",
    "        for j in range(data.shape[1]):\n",
    "            for k in np.arange(j,data.shape[1]):\n",
    "                event.append((data[i][j]*data[i][k]).sum())\n",
    "        output.append(np.array(event))\n",
    "\n",
    "    \n",
    "    output=np.array(output)\n",
    "    return output\n",
    "    "
   ]
  },
  {
   "cell_type": "code",
   "execution_count": 5,
   "id": "5d3ce53f",
   "metadata": {},
   "outputs": [],
   "source": [
    "\n",
    "\n",
    "\n",
    "objective_func_vals = []\n",
    "plt.rcParams[\"figure.figsize\"] = (12, 6)\n",
    "\n",
    "\n",
    "def callback_graph(weights, obj_func_eval):\n",
    "    clear_output(wait=True)\n",
    "    objective_func_vals.append(obj_func_eval)\n",
    "    plt.title(\"Objective function value against iteration\")\n",
    "    plt.xlabel(\"Iteration\")\n",
    "    plt.ylabel(\"Objective function value\")\n",
    "    plt.plot(range(len(objective_func_vals)), objective_func_vals)\n",
    "    plt.show()"
   ]
  },
  {
   "cell_type": "code",
   "execution_count": 6,
   "id": "979d382c",
   "metadata": {},
   "outputs": [],
   "source": [
    "\n",
    "num_qubits=X.shape[1]\n",
    "feature_map = ZZFeatureMap(feature_dimension=num_qubits, reps=1)\n",
    "optimizer = COBYLA(maxiter=maxIteration)\n",
    "\n",
    "\n"
   ]
  },
  {
   "cell_type": "code",
   "execution_count": null,
   "id": "4c44b326",
   "metadata": {},
   "outputs": [],
   "source": []
  },
  {
   "cell_type": "code",
   "execution_count": 7,
   "id": "cf83d82b",
   "metadata": {},
   "outputs": [],
   "source": [
    "vqc = VQC(\n",
    "    sampler=sampler,\n",
    "    feature_map=feature_map,\n",
    "    ansatz=RealAmplitudes(num_qubits, reps=nLayer),\n",
    "    optimizer=optimizer,\n",
    "    callback=callback_graph,\n",
    ")"
   ]
  },
  {
   "cell_type": "code",
   "execution_count": null,
   "id": "58c6dc99",
   "metadata": {},
   "outputs": [
    {
     "data": {
      "image/png": "[encoded data removed]",
      "text/plain": [
       "<Figure size 432x288 with 1 Axes>"
      ]
     },
     "metadata": {
      "needs_background": "light"
     },
     "output_type": "display_data"
    }
   ],
   "source": [
    "\n",
    "\n",
    "# clear objective value history\n",
    "objective_func_vals = []\n",
    "\n",
    "start = time.time()\n",
    "vqc.fit(X_train[0:maxEvents], y_train[0:maxEvents])\n",
    "elapsed = time.time() - start"
   ]
  },
  {
   "cell_type": "code",
   "execution_count": null,
   "id": "58363751",
   "metadata": {},
   "outputs": [],
   "source": [
    "vqc.score(X_train[0:maxEvents],y_train[0:maxEvents])"
   ]
  },
  {
   "cell_type": "code",
   "execution_count": null,
   "id": "9237ee78",
   "metadata": {},
   "outputs": [],
   "source": [
    "vqc.score(X_val[0:maxEvents],y_val[0:maxEvents])"
   ]
  },
  {
   "cell_type": "code",
   "execution_count": null,
   "id": "96f3655c",
   "metadata": {},
   "outputs": [],
   "source": [
    "vqc.score(X_val[0:maxEvents],y_train[0:maxEvents])"
   ]
  },
  {
   "cell_type": "code",
   "execution_count": null,
   "id": "15a9bd14",
   "metadata": {},
   "outputs": [],
   "source": [
    "diff=vqc.predict(X_val[0:maxEvents])-y_train[0:maxEvents]\n",
    "\n",
    "print(np.sum(diff**2)/maxEvents)"
   ]
  },
  {
   "cell_type": "code",
   "execution_count": null,
   "id": "7fa941bc",
   "metadata": {},
   "outputs": [],
   "source": [
    "training_results[\"baseline\"]=np.array(objective_func_vals)"
   ]
  },
  {
   "cell_type": "code",
   "execution_count": null,
   "id": "ebf7cd69",
   "metadata": {},
   "outputs": [],
   "source": [
    "training_results[\"baseline_val\"]=np.array(vqc.score(X_val[0:maxEvents],y_val[0:maxEvents]))"
   ]
  },
  {
   "cell_type": "code",
   "execution_count": null,
   "id": "79c0204d",
   "metadata": {},
   "outputs": [],
   "source": []
  },
  {
   "cell_type": "code",
   "execution_count": null,
   "id": "7d32da86",
   "metadata": {},
   "outputs": [],
   "source": []
  },
  {
   "cell_type": "code",
   "execution_count": null,
   "id": "ff0a27cf",
   "metadata": {},
   "outputs": [],
   "source": []
  },
  {
   "cell_type": "code",
   "execution_count": null,
   "id": "971c066a",
   "metadata": {},
   "outputs": [],
   "source": []
  },
  {
   "cell_type": "code",
   "execution_count": null,
   "id": "18e4ae54",
   "metadata": {},
   "outputs": [],
   "source": [
    "X_centerScale=dataAugmentation(images).reshape(images.shape[0],images.shape[1]*images.shape[2])\n",
    "y_centerScale=label\n",
    "\n",
    "X_centerScale,y_centerScale=shuffle(X_centerScale,y_centerScale,random_state=1000)\n",
    "train_ratio=0.6\n",
    "X_train_centerScale, X_valTest_centerScale, y_train_centerScale, y_valTest_centerScale = train_test_split(X_centerScale.copy(), y_centerScale.copy(), train_size=train_ratio, random_state=100)\n",
    "X_val_centerScale, X_test_centerScale, y_val_centerScale, y_test_centerScale = train_test_split(X_valTest_centerScale, y_valTest_centerScale, test_size=0.5, random_state=200)\n",
    "#Normalizing everythings:\n",
    "X_train_centerScale=X_train_centerScale/X_train_centerScale.max()\n",
    "X_val_centerScale=X_val_centerScale/X_val_centerScale.max()\n",
    "X_test_centerScale=X_test_centerScale/X_test_centerScale.max()\n"
   ]
  },
  {
   "cell_type": "code",
   "execution_count": null,
   "id": "a9fda317",
   "metadata": {},
   "outputs": [],
   "source": [
    "\n",
    "\n",
    "\n",
    "feature_map_centerScale = ZZFeatureMap(feature_dimension=num_qubits, reps=1)\n",
    "optimizer_centerScale = COBYLA(maxiter=maxIteration)\n",
    "\n",
    "vqc_centerScale = VQC(\n",
    "    sampler=sampler,\n",
    "    feature_map=feature_map_centerScale,\n",
    "    ansatz=RealAmplitudes(num_qubits, reps=nLayer),\n",
    "    optimizer=optimizer_centerScale,\n",
    "    callback=callback_graph,\n",
    ")"
   ]
  },
  {
   "cell_type": "code",
   "execution_count": null,
   "id": "76ac2fb6",
   "metadata": {},
   "outputs": [],
   "source": [
    "\n",
    "\n",
    "# clear objective value history\n",
    "objective_func_vals = []\n",
    "\n",
    "start = time.time()\n",
    "vqc_centerScale.fit(X_train_centerScale[0:maxEvents], y_train_centerScale[0:maxEvents])\n",
    "elapsed = time.time() - start"
   ]
  },
  {
   "cell_type": "code",
   "execution_count": null,
   "id": "a5eb877d",
   "metadata": {},
   "outputs": [],
   "source": [
    "vqc_centerScale.score(X_val_centerScale[0:maxEvents],y_val_centerScale[0:maxEvents])"
   ]
  },
  {
   "cell_type": "code",
   "execution_count": null,
   "id": "76bbdcfa",
   "metadata": {},
   "outputs": [],
   "source": [
    "vqc_centerScale.score(X_val_centerScale[0:maxEvents],y_train_centerScale[0:maxEvents])"
   ]
  },
  {
   "cell_type": "code",
   "execution_count": null,
   "id": "97b36670",
   "metadata": {},
   "outputs": [],
   "source": [
    "diff=vqc_centerScale.predict(X_val_centerScale[0:maxEvents])-y_train_centerScale[0:maxEvents]\n",
    "#print(len(np.where(np.sum(diff**2,axis=1)==0)[0])/maxEvents)\n",
    "print(np.sum(diff**2)/maxEvents)"
   ]
  },
  {
   "cell_type": "code",
   "execution_count": null,
   "id": "318a9f7e",
   "metadata": {},
   "outputs": [],
   "source": [
    "training_results[\"centerScale\"]=np.array(objective_func_vals)"
   ]
  },
  {
   "cell_type": "code",
   "execution_count": null,
   "id": "9059b78b",
   "metadata": {},
   "outputs": [],
   "source": [
    "training_results[\"centerScale_val\"]=np.array(vqc_centerScale.score(X_val_centerScale[0:maxEvents],y_train_centerScale[0:maxEvents]))"
   ]
  },
  {
   "cell_type": "code",
   "execution_count": null,
   "id": "997c13b6",
   "metadata": {
    "scrolled": false
   },
   "outputs": [],
   "source": [
    "\n",
    "X_augDot=Dot(dataAugmentation(images))\n",
    "y_augDot=label\n",
    "\n",
    "X_augDot,y_augDot=shuffle(X_augDot,y_augDot,random_state=1000)\n",
    "train_ratio=0.6\n",
    "X_train_augDot, X_valTest_augDot, y_train_augDot, y_valTest_augDot = train_test_split(X_augDot.copy(), y_augDot.copy(), train_size=train_ratio, random_state=100)\n",
    "X_val_augDot, X_test_augDot, y_val_augDot, y_test_augDot = train_test_split(X_valTest_augDot, y_valTest_augDot, test_size=0.5, random_state=200)\n",
    "#Normalizing everythings:\n",
    "X_train_augDot=X_train_augDot/X_train_augDot.max()\n",
    "X_val_augDot=X_val_augDot/X_val_augDot.max()\n",
    "X_test_augDot=X_test_augDot/X_test_augDot.max()"
   ]
  },
  {
   "cell_type": "code",
   "execution_count": null,
   "id": "c47d6a4d",
   "metadata": {},
   "outputs": [],
   "source": []
  },
  {
   "cell_type": "code",
   "execution_count": null,
   "id": "a828c52b",
   "metadata": {},
   "outputs": [],
   "source": [
    "num_qubits=X_augDot.shape[1]\n",
    "\n",
    "\n",
    "\n",
    "sampler = Sampler()\n",
    "\n",
    "feature_map_augDot = ZZFeatureMap(feature_dimension=num_qubits, reps=1)\n",
    "optimizer_augDot = COBYLA(maxiter=maxIteration)\n",
    "\n",
    "\n",
    "vqc_augDot = VQC(\n",
    "    sampler=sampler,\n",
    "    feature_map=feature_map_augDot,\n",
    "    ansatz=RealAmplitudes(num_qubits, reps=nLayer),\n",
    "    optimizer=optimizer_augDot,\n",
    "    callback=callback_graph,\n",
    ")"
   ]
  },
  {
   "cell_type": "code",
   "execution_count": null,
   "id": "1ff1c7a7",
   "metadata": {},
   "outputs": [],
   "source": [
    "\n",
    "\n",
    "# clear objective value history\n",
    "objective_func_vals = []\n",
    "\n",
    "start = time.time()\n",
    "vqc_augDot.fit(X_train_augDot[0:maxEvents], y_train_augDot[0:maxEvents])\n",
    "elapsed = time.time() - start"
   ]
  },
  {
   "cell_type": "code",
   "execution_count": null,
   "id": "ce2f3e35",
   "metadata": {},
   "outputs": [],
   "source": [
    "vqc_augDot.score(X_train_augDot[0:maxEvents],y_train_augDot[0:maxEvents])"
   ]
  },
  {
   "cell_type": "code",
   "execution_count": null,
   "id": "bf2c0599",
   "metadata": {},
   "outputs": [],
   "source": [
    "vqc_augDot.score(X_val_augDot[0:maxEvents],y_val_augDot[0:maxEvents])"
   ]
  },
  {
   "cell_type": "code",
   "execution_count": null,
   "id": "5e94d32b",
   "metadata": {},
   "outputs": [],
   "source": [
    "vqc_augDot.score(X_val_augDot[0:maxEvents],y_train_augDot[0:maxEvents])"
   ]
  },
  {
   "cell_type": "code",
   "execution_count": null,
   "id": "ac8176d9",
   "metadata": {},
   "outputs": [],
   "source": [
    "training_results[\"centerScale+Dot_val\"]=np.array(vqc_augDot.score(X_val_augDot[0:maxEvents],y_val_augDot[0:maxEvents]))"
   ]
  },
  {
   "cell_type": "code",
   "execution_count": null,
   "id": "eabf2958",
   "metadata": {},
   "outputs": [],
   "source": []
  },
  {
   "cell_type": "code",
   "execution_count": null,
   "id": "efd85e79",
   "metadata": {},
   "outputs": [],
   "source": [
    "diff=vqc_augDot.predict(X_val_augDot[0:maxEvents])-y_val_augDot[0:maxEvents]\n",
    "#print(len(np.where(np.sum(diff**2,axis=1)==0)[0])/maxEvents)\n",
    "print(np.sum(diff**2)/maxEvents)"
   ]
  },
  {
   "cell_type": "code",
   "execution_count": null,
   "id": "54a63a2a",
   "metadata": {},
   "outputs": [],
   "source": [
    "training_results[\"centerScale+Dot\"]=np.array(objective_func_vals)"
   ]
  },
  {
   "cell_type": "code",
   "execution_count": null,
   "id": "1c34b5b8",
   "metadata": {},
   "outputs": [],
   "source": [
    "training_results.keys()"
   ]
  },
  {
   "cell_type": "code",
   "execution_count": null,
   "id": "fb525440",
   "metadata": {},
   "outputs": [],
   "source": []
  },
  {
   "cell_type": "code",
   "execution_count": null,
   "id": "e8300d86",
   "metadata": {},
   "outputs": [],
   "source": []
  },
  {
   "cell_type": "code",
   "execution_count": null,
   "id": "143f4d78",
   "metadata": {},
   "outputs": [],
   "source": []
  },
  {
   "cell_type": "code",
   "execution_count": null,
   "id": "62f8f79f",
   "metadata": {},
   "outputs": [],
   "source": [
    "LabelSize=30\n",
    "plt.figure(1)\n",
    "plt.figure(figsize=(16,9))\n",
    "plt.xlabel(\"Iteration\", fontsize = LabelSize)\n",
    "plt.ylabel(\"Loss\", fontsize = LabelSize)\n",
    "for key in [\"baseline\",\"centerScale\",\"centerScale+Dot\"]:\n",
    "    plt.plot(range(len(training_results[key])), training_results[key ],label=key )\n",
    "    \n",
    "plt.tick_params(axis='both', which='major', labelsize=LabelSize)\n",
    "plt.legend(fontsize=30)\n",
    "plt.show()\n",
    "#plt.savefig(folderDir+\"/training.png\")"
   ]
  },
  {
   "cell_type": "code",
   "execution_count": null,
   "id": "6598447d",
   "metadata": {},
   "outputs": [],
   "source": [
    "\n",
    "with open(folderDir+\"/results/\"+resultsName+\".pk\", \"wb\") as fp:   #Pickling\n",
    "    pickle.dump(training_results, fp)"
   ]
  },
  {
   "cell_type": "code",
   "execution_count": null,
   "id": "eea985a4",
   "metadata": {},
   "outputs": [],
   "source": [
    "with open(folderDir+\"/results/\"+resultsName+\".pk\", \"rb\") as fp:   #Pickling\n",
    "    training_results=pickle.load(fp)"
   ]
  },
  {
   "cell_type": "code",
   "execution_count": null,
   "id": "8556194e",
   "metadata": {},
   "outputs": [],
   "source": [
    "training_results"
   ]
  },
  {
   "cell_type": "code",
   "execution_count": null,
   "id": "1a5d270b",
   "metadata": {},
   "outputs": [],
   "source": []
  },
  {
   "cell_type": "code",
   "execution_count": null,
   "id": "d09c4eca",
   "metadata": {},
   "outputs": [],
   "source": []
  },
  {
   "cell_type": "code",
   "execution_count": null,
   "id": "00999fe1",
   "metadata": {},
   "outputs": [],
   "source": []
  },
  {
   "cell_type": "code",
   "execution_count": null,
   "id": "f3a98679",
   "metadata": {},
   "outputs": [],
   "source": []
  },
  {
   "cell_type": "code",
   "execution_count": null,
   "id": "df3f785e",
   "metadata": {},
   "outputs": [],
   "source": []
  },
  {
   "cell_type": "code",
   "execution_count": null,
   "id": "513d24ad",
   "metadata": {},
   "outputs": [],
   "source": []
  },
  {
   "cell_type": "code",
   "execution_count": null,
   "id": "9b68ef87",
   "metadata": {},
   "outputs": [],
   "source": []
  }
 ],
 "metadata": {
  "kernelspec": {
   "display_name": "qc",
   "language": "python",
   "name": "qc"
  },
  "language_info": {
   "codemirror_mode": {
    "name": "ipython",
    "version": 3
   },
   "file_extension": ".py",
   "mimetype": "text/x-python",
   "name": "python",
   "nbconvert_exporter": "python",
   "pygments_lexer": "ipython3",
   "version": "3.10.4"
  }
 },
 "nbformat": 4,
 "nbformat_minor": 5
}
